{
 "cells": [
  {
   "cell_type": "code",
   "execution_count": null,
   "id": "Hbol",
   "metadata": {},
   "outputs": [],
   "source": [
    "import marimo as mo"
   ]
  },
  {
   "cell_type": "markdown",
   "id": "MJUe",
   "metadata": {
    "marimo": {
     "config": {
      "hide_code": true
     }
    }
   },
   "source": [
    "# CIFAR Demonstration\n",
    "\n",
    "This notebook demonstrates how to use the `hierarchicalsoftmax` module to train a neural network on the [CIFAR](https://www.cs.toronto.edu/~kriz/cifar.html) dataset."
   ]
  },
  {
   "cell_type": "markdown",
   "id": "vblA",
   "metadata": {
    "marimo": {
     "config": {
      "hide_code": true
     }
    }
   },
   "source": [
    "First, choose the hyperparameters."
   ]
  },
  {
   "cell_type": "code",
   "execution_count": null,
   "id": "bkHC",
   "metadata": {},
   "outputs": [
    {
     "data": {
      "text/html": [
       "<div style='display: flex;flex: 1;flex-direction: column;justify-content: flex-start;align-items: normal;flex-wrap: nowrap;gap: 0.5rem'><marimo-ui-element object-id='bkHC-0' random-id='d0d74700-ddfa-e043-c548-6f52bf214b4e'><marimo-radio data-initial-value='&quot;100&quot;' data-label='&quot;&lt;span class=&#92;&quot;markdown prose dark:prose-invert&#92;&quot;&gt;&lt;span class=&#92;&quot;paragraph&#92;&quot;&gt;CIFAR Dataset&lt;/span&gt;&lt;/span&gt;&quot;' data-options='[&quot;10&quot;, &quot;100&quot;]' data-inline='false'></marimo-radio></marimo-ui-element><marimo-ui-element object-id='bkHC-2' random-id='f41dc760-5340-72ee-09b6-2c8d1dde3634'><marimo-number data-initial-value='10' data-label='&quot;&lt;span class=&#92;&quot;markdown prose dark:prose-invert&#92;&quot;&gt;&lt;span class=&#92;&quot;paragraph&#92;&quot;&gt;Epochs&lt;/span&gt;&lt;/span&gt;&quot;' data-debounce='false' data-full-width='false'></marimo-number></marimo-ui-element><marimo-ui-element object-id='bkHC-1' random-id='57c7229b-864f-9ea9-4c8c-6389da0e1c83'><marimo-number data-initial-value='32' data-label='&quot;&lt;span class=&#92;&quot;markdown prose dark:prose-invert&#92;&quot;&gt;&lt;span class=&#92;&quot;paragraph&#92;&quot;&gt;Batch Size&lt;/span&gt;&lt;/span&gt;&quot;' data-debounce='false' data-full-width='false'></marimo-number></marimo-ui-element></div>"
      ]
     },
     "metadata": {},
     "output_type": "display_data"
    }
   ],
   "source": [
    "cifar_radio = mo.ui.radio(options=[\"10\",\"100\"], value=mo.cli_args().get(\"cifar\") or \"100\", label=\"CIFAR Dataset\")\n",
    "batch_size_input = mo.ui.number(value=mo.cli_args().get(\"batch\") or 32, label=\"Batch Size\")\n",
    "epochs_input = mo.ui.number(value=mo.cli_args().get(\"batch\") or 10, label=\"Epochs\")\n",
    "mo.vstack([cifar_radio, epochs_input, batch_size_input])"
   ]
  },
  {
   "cell_type": "code",
   "execution_count": null,
   "id": "lEQa",
   "metadata": {},
   "outputs": [],
   "source": [
    "from torchvision import datasets, transforms\n",
    "from torch.utils.data import DataLoader\n",
    "\n",
    "assert cifar_radio.value in [\"10\",\"100\"]\n",
    "batch_size = batch_size_input.value\n",
    "epochs = epochs_input.value\n",
    "cifar_dataset = datasets.CIFAR10 if cifar_radio.value == \"10\" else datasets.CIFAR100\n",
    "\n",
    "# Use the same data augmentation strategies as in https://arxiv.org/pdf/1605.07146v4\n",
    "transform = transforms.Compose([\n",
    "    transforms.RandomCrop(32, padding=4, padding_mode=\"reflect\"),\n",
    "    transforms.RandomHorizontalFlip(),\n",
    "    transforms.ToTensor(),\n",
    "])\n",
    "\n",
    "train_data = cifar_dataset(root=\".\", train=True, download=True, transform=transform)\n",
    "test_data = cifar_dataset(root=\".\", train=False, download=True, transform=transforms.ToTensor())\n",
    "\n",
    "train_loader = DataLoader(train_data, batch_size=batch_size, shuffle=True)\n",
    "test_loader = DataLoader(test_data, batch_size=batch_size, shuffle=False)"
   ]
  },
  {
   "cell_type": "markdown",
   "id": "PKri",
   "metadata": {
    "marimo": {
     "config": {
      "hide_code": true
     }
    }
   },
   "source": [
    "### Plot the first 10 images"
   ]
  },
  {
   "cell_type": "code",
   "execution_count": null,
   "id": "Xref",
   "metadata": {},
   "outputs": [
    {
     "data": {
      "text/html": [
       "<marimo-plotly data-figure='{&quot;data&quot;: [{&quot;z&quot;: {&quot;dtype&quot;: &quot;u1&quot;, &quot;bdata&quot;: &quot;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&quot;, &quot;shape&quot;: &quot;32, 32, 3&quot;}, &quot;type&quot;: &quot;image&quot;, &quot;xaxis&quot;: &quot;x&quot;, &quot;yaxis&quot;: &quot;y&quot;}, {&quot;z&quot;: {&quot;dtype&quot;: &quot;u1&quot;, &quot;bdata&quot;: &quot;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&quot;, &quot;shape&quot;: &quot;32, 32, 3&quot;}, &quot;type&quot;: &quot;image&quot;, &quot;xaxis&quot;: &quot;x2&quot;, &quot;yaxis&quot;: &quot;y2&quot;}, {&quot;z&quot;: {&quot;dtype&quot;: &quot;u1&quot;, &quot;bdata&quot;: &quot;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&quot;, &quot;shape&quot;: &quot;32, 32, 3&quot;}, &quot;type&quot;: &quot;image&quot;, &quot;xaxis&quot;: &quot;x3&quot;, &quot;yaxis&quot;: &quot;y3&quot;}, {&quot;z&quot;: {&quot;dtype&quot;: &quot;u1&quot;, &quot;bdata&quot;: &quot;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&quot;, &quot;shape&quot;: &quot;32, 32, 3&quot;}, &quot;type&quot;: &quot;image&quot;, &quot;xaxis&quot;: &quot;x4&quot;, &quot;yaxis&quot;: &quot;y4&quot;}, {&quot;z&quot;: {&quot;dtype&quot;: &quot;u1&quot;, &quot;bdata&quot;: &quot;MzooKC4iKzElKC4iMzooTVY6QUsoTFYrWmwpb4pDXnpDa4M3r8VRjrFFlbJLucZclapPiaVXj6lekaVpjZtzh5prip5oeopWYW07XmhBLjYnLi0pNS4gfHFKbmxHLC8eQkovKC8fKC4iKC8fQkovT1o0PEYgXmlDVm0ocJNAW30/e5s8vdJSjrE/n8BPy9ldprxNj7FSlbZWjKhVd41RcYtNgZ1WjKFcZHE0cXpKP0YrMTApMiskWlMziIZXOz0gSlQwKzMeJy0hKzMeSlQwS1YoRlEmZ3RPV3Urcp0/XohBibJEvNBPj7BEosRSyddSr8VLk7lQm8FRmbtTepVId5dMfp9Nh6BPcYA8eYNKV100MzMoMC4tNzgif35JV1kvQkovKC8fKC4iKC8fQkovT1o0PEYgXmlDVm0ocJNAW30/e5s8vdJSjrE/n8BPy9ldprxNj7FSlbZWjKhVd41RcYtNgZ1WjKFcZHE0cXpKP0YrMTApMiskWlMziIZXOz0gMzooKC4iKzElKC4iMzooTVY6QUsoTFYrWmwpb4pDXnpDa4M3r8VRjrFFlbJLucZclapPiaVXj6lekaVpjZtzh5prip5oeopWYW07XmhBLjYnLi0pNS4gfHFKbmxHLC8eKC8hKC4kKzElKC4kKC8hRk43S1YxUFwmZngxbYdGcYxWdYtMlKpLiKpQiaJMprFcoLRunbN3n7F7oK2BlZ1/n6uJo7GMdIBdZnBJWmRDMjsvLS8oQT4rgntUW14/PEAxJiwfJy0hKS8jJy0hJiwfOkIrT1owZ3UzcYU4a4dHc5FXgJdgiJ1ZgqFijJ9hqLJzpbiImal/iZZviJFujZJzkph+m6KNho16anNXbHZXUFtIS1NEaW1YgodlbnhdYWhTJCocJy0eKC4hJy0eJCocLDUdUFsvfI1CcIk1aolIa4xOa4VRdotdepRsfo5hipJkgpRyg49xg4tuh4xuj5JxmZyHm56Uio2FZGtXZG5PZHBVZG9YbXlic4Blc4JocnpdJSwdJi0cJiwgJi0cJSwdJy8bQUskc4dAbYw4bIpNc5FaYn5FZXlObIBZbX5Sc4FSd4hlf4hwjY95kJF9l5qMoqeioKSlio6ObHBpX2VTZG1RbXVaaXFWa3JVfYNnf4BkKS8hJi0bKC4iJi0bKS8hJy4eLjcaYnU5a4o8aYVNZYBPW3g8W28/X3BEZXdJaXpNcoJflJyJmJqJgoJ5kJWYoKqxipOae4GGh4qPfoJ+bnVib3NdbW9UcHBSc29UYV1EKjEhJi4aKC4gJi4aKjEhKzEjKC8bWms7bolBZ4BKZXxMX3g/XHA+XG1DcoJdd4ZldYRtoa6jiI+Ea3Bsj5qhm6m0fImUbXiAgIiPmqCjjpSQdHhuZ2lYW1tDWlc/WVQ+KzMgJy8aKjAgJy8aKzMgNz0uKjAiSVYyZHo7aX1LZXhKXnM9W248Xm5JhJJ5gIx4Y3JllKWjg46LcXt8mqqzlqi2gJGefYuWl6KrqLC5nqSsgoeJYmRdQEEySEU0VU89MDgiKzMfKzIhKzMfMDgiQUgzNDsqO0UnVWUxYHBBZ3ZKYnJCa3tRX25TiJSHa3drVmZdlaerh5OVgo+Ro7W/lKe0g5ShiZeiprG6rrbAp626m6Cpc3Z4Njc0PDgvSUI1NT0kKTAeJSwaKTAeNT0kR1AxQksvP0gpQ04jUl0yZXBFZG9EcH5dWmdZiJKRUV1UQ1JKkKCmgYyPg42QqrrCmam0i5iilaCosrm/tr3DqbK6qK+3lJigUVJaOjU0QjsyMDkeIyoaJCsXIyoaMDkeSVMsSlQuUFk2P0ciREwkYGg/UFgwX2tSVmFdgouRP0pDLDkvf4uScHZ6YWhqlqOojJigjpeeq7G2vcDDsre4maOipa2xp6u2h4iXYVxhWVFLKC8bJSwcJCwUJSwcKC8bPUQlTlUuW2M7WGRBWGNEY25PNUEfT15LTFhVd4CEQUhCJjAmcnuAW2FlR0xQeoKJYWluam5wm5ydoaGksLKyfoN8kJOPvLzDpaO5kYuYgXt6KCwgKC4gKzIdKC4gKCwgMzYjSUwqW2Q6YXBRYXBcZnRhM0IpUmNWSllYeYKGXWRhPUQ/gIqNdHyCb3V9l5ymaW5yZ2ppe3p7fXp/ube7iIeClZONwb7CsK3EnpevkY6WLjIlKzEkMDYsKzEkLjIlNjgnTE4uWF86Tl1EWGVXZXFlUF5NbYB4bX+DjJqji5Wbc3+BoK2znaeupKyzvcLLpqmuo6Snn56ioJuhvrm+pKOmraysv7/EubbIqKC8mJamLzQlLDIjKjAkLDIjLzQlNTcmSEosT1U0SVVBY25hcXtxbnhthpiWjKCopbbFobG9kKCopLS6oq+0rLS5v8LIubm8uLe8r6yyqp6jxLi8wsHKwcPJx8nOwLvEua7Draa5LzQkKjIdISkPKjIdLzQkMTMiQUInTVIzUVtEaXNddH1rcXlsipqVi52in7C+orXCmayzrLy/r7q7tLi4wb+9wLe1saisp52koouMvKSj0s3Uyc3SxsbKwLS3v6qxs6OuMjclLTUbKDIQLTUbMjclNzkoREUsT1MzUls5YWtFanRSb3dfipaGipiUn660qbvBoLKzsr68vsS+xMG5zMG2xrKrp5SUo5GVnHhytpCF1MrI0tLU0czOyrOzuJSQpIOENjsoMjsgND0fMjsgNjsoOj0rOzwkQ0cmT1kqXGYxYWs6YGhDfoZsipOEoa2op7e0qLixuMC4ycm9x72tyrakyKqclnp2mX9/mGler3xozr2v1M/K08jH0rCuv4qEpXNtOj4oQkgjT1QuQkgjOj4oP0QhOT4XNTkdTFUkZG4vbHQ5Wl4yY2VDfoFolpuMn6mcqLGiurqqx7+twq+cxaeUvJKDfWNYcWVamXFgqG5Xv52KxrKnvqaft46ErnJtmWBTWlc2cm4zg3g6cm4zWlc2a20vbHAuS00zT1cpaXExf4JDc3BDW1QvZF08d3JXhIJsh4RwnZWApJWCo4p5nXxsh11PVEY1OkMud2ROl2NQnHFjnHxylnZqimBLilREmmhKfm45pJI+sItApJI+fm45j4I6mo89ZVw0V1svcnY4hIVGgn5Mb182Yk8qXk8vYFM3YVU/Zl1LYlVFXEw9YU0/V0I0NS8hJy4dUEYyZ008YU5HYE9JXkU5YzwmkGQ+n3hIjHg1vKhEvJI+vKhEjHg1kXw1p5M+dmcvW1osdnU6hoRGhX9KcmI5ZlQxYFAyVUgvS0AtRj0xQTouNDEjMC8hLTAiIyUZJCEWLioaMjIiKi4nKyUbPSQQg1c6poBPdVgogXc0oJo/o5VAoJo/gXc0j4E/opJFkoREbmYzeHM5g39DfXhCZmA9V1E3UE04S0o7R0U5PDUsQUA1Rkw/LDgpIjMmIygePTQrLSsdHScXJCgYPC0VcEkmuH9TmnJJXUQpdXM1aW0wb3k3aW0wdXM1jIZBem8pkIJAe28xh31Chn1IbWY2U1MxRkkvQEQwOEAwPEE1OjktQEI1S1NEKzgoIS4jMzMpWU1BPTgpMTQlT0cyi29OsH9SvoVSkmlNYEY6d3IyPz0gQEciPz0gd3IynJRBgXEnjHgyh3cvl4lNgnZGWVAoS0YfTk0oQkMjOj0iNjkjNDcmRUk4QUg2LzgmLy8nNjAlSD4rRzsrST40Wkk5jGxOrIBVo3ZJhmBIbFI/j4I+WU4tRD0cWU4tj4I+t6VLr5JDpYlCmYc9loREe2g5e2k9gHI0inw+dGU0Z1swWVIwQ0UyQ0o8Pj4uODsnOzcrNC4eRz8jX043SjoxQDIoXUUyf2NBcFQzZko1dGBHjnw7npRTgnlAnpRTjnw7sphKwJxKnHg8iHE1nIVAqY5NwqhZq5M5q44+pIRCkHY6emc0UU81O0M1QjYlTUsxV1c+OjgeZ1kzg2pHSz4uMy0lPzYvX1Q6V0YvTz8wY1hGbV4roJpafXg+oJpabV4rhG4rknQmhWQof2QjqZBCtJpOvaVKtppNq4dHq4ZCrpNHn4pCZl0qPj4aYk8uaGE5dG9LaWA/pY1fp4RWVUYuKSceLSkmPjkiTUMxST4wSEAt&quot;, &quot;shape&quot;: &quot;32, 32, 3&quot;}, &quot;type&quot;: &quot;image&quot;, &quot;xaxis&quot;: &quot;x5&quot;, &quot;yaxis&quot;: &quot;y5&quot;}, {&quot;z&quot;: {&quot;dtype&quot;: &quot;u1&quot;, &quot;bdata&quot;: &quot;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&quot;, &quot;shape&quot;: &quot;32, 32, 3&quot;}, &quot;type&quot;: &quot;image&quot;, &quot;xaxis&quot;: &quot;x6&quot;, &quot;yaxis&quot;: &quot;y6&quot;}, {&quot;z&quot;: {&quot;dtype&quot;: &quot;u1&quot;, &quot;bdata&quot;: &quot;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&quot;, &quot;shape&quot;: &quot;32, 32, 3&quot;}, &quot;type&quot;: &quot;image&quot;, &quot;xaxis&quot;: &quot;x7&quot;, &quot;yaxis&quot;: &quot;y7&quot;}, {&quot;z&quot;: {&quot;dtype&quot;: &quot;u1&quot;, &quot;bdata&quot;: &quot;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&quot;, &quot;shape&quot;: &quot;32, 32, 3&quot;}, &quot;type&quot;: &quot;image&quot;, &quot;xaxis&quot;: &quot;x8&quot;, &quot;yaxis&quot;: &quot;y8&quot;}, {&quot;z&quot;: {&quot;dtype&quot;: &quot;u1&quot;, &quot;bdata&quot;: &quot;hZyqjKOwlaq1nbK7pLjCq7/ItsTLvsrQw8/VydTazNjez9rg0dzh1eDk2OTn3Ofq3+rt4+3y4ezy3+rw3Ofu2uXs2OTr1eHp0N3lydXfws/ZvMnUssPPqr3JprnFqr3JgZuohqCtjaazk6y5mrPAoLnGqr7KscPOuMjRwM7Ww9Pcx9Tdzdje0d3j1eLo2uXp3ujq4enu3+jv2eXt1OHqzdvjw9Xgu9Hgtc3dsMbXqMHUoLvPmbbKk7DEkK7Ck7DEfpimg52riaOwjqi2lK+8mrTCornHqr3KssPOusrTv9DZxNPbzNfd0t3j2ePq4Ojs5evu5+zw4unv2+Xt0t7nydfgvtHetMzdrcfap8DUn7vQl7TMj67Fiam+haW7iam+fJWmgZushqCwiqS0kKq6lrDBnbXEpLrIrcDMtcfRvM3WxdPbztnf1t/k4Obr6u3x8PHz8fT26/D04env1N7mx9XhvM/essndqcPYorzSmbbNkbDJiarCgqO7fp+4gqO7fJWpgpywiKG1jKW5kau/l7HFm7bIpLzMrcPRt8nWv9Daytnh1uHo4ejt7/H1+vn7//7//////P//8ff73ufvz9zqwdPls8rhqMPan7zTlrbPja/KhqrFf6O+ep+6f6O+fJWmgZushqCwiqS0kKq6lrDBnbXEpLrIrcDMtcfRvM3WxdPbztnf1t/k4Obr6u3x8PHz8fT26/D04env1N7mx9XhvM/essndqcPYorzSmbbNkbDJiarCgqO7fp+4gqO7fpimg52riaOwjqi2lK+8mrTCornHqr3KssPOusrTv9DZxNPbzNfd0t3j2ePq4Ojs5evu5+zw4unv2+Xt0t7nydfgvtHetMzdrcfap8DUn7vQl7TMj67Fiam+haW7iam+gZuohqCtjaazk6y5mrPAoLnGqr7KscPOuMjRwM7Ww9Pcx9Tdzdje0d3j1eLo2uXp3ujq4enu3+jv2eXt1OHqzdvjw9Xgu9Hgtc3dsMbXqMHUoLvPmbbKk7DEkK7Ck7DEhZyqjKOwlaq1nbK7pLjCq7/ItsTLvsrQw8/VydTazNjez9rg0dzh1eDk2OTn3Ofq3+rt4+3y4ezy3+rw3Ofu2uXs2OTr1eHp0N3lydXfws/ZvMnUssPPqr3JprnFqr3JjqKrlamyna+3prW7rLvCssHIvcjLxs7RytTW0Nnb1N3g1+Dj2uPm3efp4err5e7v6PLz7fP07/P07/T17/P07/P07vLz6e3t5Ojq4OTn3N/j1dnczdTZxc7TvsfMxc7TnauwpLK3rLe8tLzBusPIwcrOys/R0tbY19zd3OHi4eXn5enr5+zt6u/u7fLw7/Xy8vf19/fz+fjz+ffz9/bx9PLu8O7q6unk5OLf393b3NrY2NbU0dHQy8vLx8fHy8vLoqqqq7Oztru9wMLFxsjLzc/S1NXT2trY39/d5OTi6Onm7e7r8PHu8vPv9PXw9fXx9vfy9vXw9fPu8vDs7+zo6ujj5ePe4d/a3NnW1NHPz83KzcrIysfGxMHBwL69xMHBfIB9iI2KmJqZsK6vvr29xMPEysnFz87J1tXQ3NrW4d/a5uTf6efi6uni7Ovk7uzl7+7n7u3o6+rl5+bh4+Ld39/b2trW1NTPz8/LycjHw8PCv7++vLu8uLa4tbO1uLa4ZmhnaWxqbm9uf359l5eVu7q4xcTBxcTAz8/L19XR4NvV5eDa5uHb5eDZ5ODX5eHY5eLZ5uLb5eDb4NzW3drU3NvX1tXRzczIycjFxsXDwsG/vby6uLi4s7Ozr6+vs7OzamxraGpqa2xrcXFvent5paWjra2pq6qmzMvH2dfS3tnT4dzW4NvV3tnS3NjP2dXM2tbN39rT3tnT2tXP19PN09HNz87KzczIy8rHyMfFxMPBv768ubm4s7OzsLCws7OzbG5tbW9ucHFvcXFvdXVzgYF/g4J+iIeDpqWhxsS/0s7I1tHL19LM087H0c3E0MzD1NDH2tXO19LM1M/Jz8vGysnEysnFysnFyMfExMPBvr27uLe1srGxrq6urq6urq6ubnBvcXNycXJxcXFudXVzeXh2e3t3gYB8iIeDn52ZvbiyzMfB0s3H087H0c3E0M3E1NDH1tHL087I0MvFy8fBxsXBx8bCxcTAwL+8vr28urm3trWzsLCwq6urrKysq6urbW9tcHJwcXJwcXFvdHRyeXl3fn15f397hIR/jo2IqaWfxcC5z8nC0szE1M/F1dDG087F0szE0MrDy8W/x8K9xMG8w8G8wb+7vLu3ubm2t7aztLOwr6+tqamprq6tqampamxpbnBtcnNwcnJwcnJweXl3fH14ent2eHl0f4B7lJKNubWsy8S60Mm+0crA0crA08zC1s/Fz8i/xb+4w762w7+1wby2vri1uLWytLOvsrGsr66qqqqnqqqorq6sqqqoZWdkbG5rcnNwc3NxcnJwd3d1eXl1dHVvbm9qcnNufX53oJ6VxcC1zce80Mm/1c7E5d7U7Obe3NbPzse+x8C3xMC2v7q0ubOws7CssbCssK+rrq2pq6uoq6upq6upq6upYmRha21qcXJwcnJwcHBucHBucXJua2xmYmNeZ2hjcXNshod9srClyMK3zse92NHH7uje+vfx7urk3dXL0Me8xsG4vrmzubSwtLGtsrGtsrGtsbCsra2qqqqop6elqqqoX2FeaWtob3Btb29tampoaGhmZ2hkX2BbV1hTX2FbZ2tjcXRpjo6BuraqycK42NHH9O7k///6+vjz6N/U2M3AycS6wb23vrm1ubaytLOvtLOvsrGtrKuppaWjoqKgpaWjXmBdZGZjZmdlZmdkXV5cWFlWWlxYVlhTUFJOV1lVWl1XXmBZa2xjl5WLwLmv2NDG9/Lr///8/vz37OTa08q9xcG3wr64wbu4u7i0tbSws7Kur66qp6eloKCfnZ2coKCfW11aXV9cXF5bV1lWTU9MSEpHSkxJSUtISEpHTlBMUFFMU1RPXF1Zfn12ta+k1cvB9O/r//7+//356OLZysW4wb2zvrmzu7aytLGtr6+rrayoqaiko6Oinp6emJiYnp6eUlRRVFZTU1VSTE5LQkRBPkA9Ojw5PD47QEI/RUZDSElEUVJMY2Rfjo2GuLGm0Ma88ezp///++/n15eDWy8W5u7ettbCqsqypq6ilpqahpaSgo6Ken56dmZmZlJSUmZmZSUtIS01KTE5LRUdEPT88ODo3Njg1OTs4PT88QEI/R0hEWFlUcXJtkZCJraecysC28u3q/v389/Xw4t3TysS4tbGnr6ukqaShoJ2anZyYnJuXmpmWlpaVkZGRjo6OkZGRQEI/Q0VCRUdEQkRBOz06NTc0NDYzODo3PT88QUNATE1IYWJdcnNuhYR9nZeLurCm29bS+Pf38e/r2dTKv7qtsq6kqaSeoZuYl5SRkZCMkI+Lj46KjIyLiYmJh4eHiYmJOTs6PT89QEJAPkA9Oz06NTc1NDY0ODo4Oz07QUJAUlJPZWVibm5rd3Zxh4J6nZaOwr227uvk7eriyMS6s66kpqOdnZqVlJGNjYuIhoaDhoWChISBgoKBgYGBgICAgYGBNjg3OTs6PD48PD47Oz06ODo3Njg3ODo5PD49REVEUlJQXFxaZGRibGlncm1pe3dwp6SZ0c7E2tbNuLSrp6Scm5mVkI+MiIeDgoJ/fHx6fHx7fHx6enp5d3d3dnZ2d3d3MzU0Nzk4ODo4Ojw4Oz06OTs4ODo5OTs6PkA/RkdGTE1LU1NRWVpYYF5daWZjdnNuhoR8oJ6WrqukqKWelZKMi4qFh4aCg4J9fHt4dnZ0dHRydXVzdHR0cHBwb29vcHBwLzEwMTMyMzUzNjg1OTs4Nzk2Nzk4OTs6PD49QUNCR0dFTU1LUFBOUlJRXFtaaGhkcHBqhYV/jY2HhIR+gH96fn15f356fn15dXRxcHBubW1rbm5sbW1tampqaWlpampqKy0sLS8uLzEvMzUyNzk2NTc0Njg2ODo5OTs6Ozw7QEA+R0dFS0tJTExMUlNTYWJgbW5pc3VvdXZxdHZweHl0d3ZydnVxc3JubGxpaGhnZ2dlZ2dlZmZlY2NjYmJiY2Nj&quot;, &quot;shape&quot;: &quot;32, 32, 3&quot;}, &quot;type&quot;: &quot;image&quot;, &quot;xaxis&quot;: &quot;x9&quot;, &quot;yaxis&quot;: &quot;y9&quot;}, {&quot;z&quot;: {&quot;dtype&quot;: &quot;u1&quot;, &quot;bdata&quot;: &quot;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&quot;, &quot;shape&quot;: &quot;32, 32, 3&quot;}, &quot;type&quot;: &quot;image&quot;, &quot;xaxis&quot;: &quot;x10&quot;, &quot;yaxis&quot;: &quot;y10&quot;}], &quot;layout&quot;: {&quot;template&quot;: {&quot;data&quot;: {&quot;histogram2dcontour&quot;: [{&quot;type&quot;: &quot;histogram2dcontour&quot;, &quot;colorbar&quot;: {&quot;outlinewidth&quot;: 0, &quot;ticks&quot;: &quot;&quot;}, &quot;colorscale&quot;: [[0.0, &quot;#0d0887&quot;], [0.1111111111111111, &quot;#46039f&quot;], [0.2222222222222222, &quot;#7201a8&quot;], [0.3333333333333333, &quot;#9c179e&quot;], [0.4444444444444444, &quot;#bd3786&quot;], [0.5555555555555556, &quot;#d8576b&quot;], [0.6666666666666666, &quot;#ed7953&quot;], [0.7777777777777778, &quot;#fb9f3a&quot;], [0.8888888888888888, &quot;#fdca26&quot;], [1.0, &quot;#f0f921&quot;]]}], &quot;choropleth&quot;: [{&quot;type&quot;: &quot;choropleth&quot;, &quot;colorbar&quot;: {&quot;outlinewidth&quot;: 0, &quot;ticks&quot;: &quot;&quot;}}], &quot;histogram2d&quot;: [{&quot;type&quot;: &quot;histogram2d&quot;, &quot;colorbar&quot;: {&quot;outlinewidth&quot;: 0, &quot;ticks&quot;: &quot;&quot;}, &quot;colorscale&quot;: [[0.0, &quot;#0d0887&quot;], [0.1111111111111111, &quot;#46039f&quot;], [0.2222222222222222, &quot;#7201a8&quot;], [0.3333333333333333, &quot;#9c179e&quot;], [0.4444444444444444, &quot;#bd3786&quot;], [0.5555555555555556, &quot;#d8576b&quot;], [0.6666666666666666, &quot;#ed7953&quot;], [0.7777777777777778, &quot;#fb9f3a&quot;], [0.8888888888888888, &quot;#fdca26&quot;], [1.0, &quot;#f0f921&quot;]]}], &quot;heatmap&quot;: [{&quot;type&quot;: &quot;heatmap&quot;, &quot;colorbar&quot;: {&quot;outlinewidth&quot;: 0, &quot;ticks&quot;: &quot;&quot;}, &quot;colorscale&quot;: [[0.0, &quot;#0d0887&quot;], [0.1111111111111111, &quot;#46039f&quot;], [0.2222222222222222, &quot;#7201a8&quot;], [0.3333333333333333, &quot;#9c179e&quot;], [0.4444444444444444, &quot;#bd3786&quot;], [0.5555555555555556, &quot;#d8576b&quot;], [0.6666666666666666, &quot;#ed7953&quot;], [0.7777777777777778, &quot;#fb9f3a&quot;], [0.8888888888888888, &quot;#fdca26&quot;], [1.0, &quot;#f0f921&quot;]]}], &quot;contourcarpet&quot;: [{&quot;type&quot;: &quot;contourcarpet&quot;, &quot;colorbar&quot;: {&quot;outlinewidth&quot;: 0, &quot;ticks&quot;: &quot;&quot;}}], &quot;contour&quot;: [{&quot;type&quot;: &quot;contour&quot;, &quot;colorbar&quot;: {&quot;outlinewidth&quot;: 0, &quot;ticks&quot;: &quot;&quot;}, &quot;colorscale&quot;: [[0.0, &quot;#0d0887&quot;], [0.1111111111111111, &quot;#46039f&quot;], [0.2222222222222222, &quot;#7201a8&quot;], [0.3333333333333333, &quot;#9c179e&quot;], [0.4444444444444444, &quot;#bd3786&quot;], [0.5555555555555556, &quot;#d8576b&quot;], [0.6666666666666666, &quot;#ed7953&quot;], [0.7777777777777778, &quot;#fb9f3a&quot;], [0.8888888888888888, &quot;#fdca26&quot;], [1.0, &quot;#f0f921&quot;]]}], &quot;surface&quot;: [{&quot;type&quot;: &quot;surface&quot;, &quot;colorbar&quot;: {&quot;outlinewidth&quot;: 0, &quot;ticks&quot;: &quot;&quot;}, &quot;colorscale&quot;: [[0.0, &quot;#0d0887&quot;], [0.1111111111111111, &quot;#46039f&quot;], [0.2222222222222222, &quot;#7201a8&quot;], [0.3333333333333333, &quot;#9c179e&quot;], [0.4444444444444444, &quot;#bd3786&quot;], [0.5555555555555556, &quot;#d8576b&quot;], [0.6666666666666666, &quot;#ed7953&quot;], [0.7777777777777778, &quot;#fb9f3a&quot;], [0.8888888888888888, &quot;#fdca26&quot;], [1.0, &quot;#f0f921&quot;]]}], &quot;mesh3d&quot;: [{&quot;type&quot;: &quot;mesh3d&quot;, &quot;colorbar&quot;: {&quot;outlinewidth&quot;: 0, &quot;ticks&quot;: &quot;&quot;}}], &quot;scatter&quot;: [{&quot;fillpattern&quot;: {&quot;fillmode&quot;: &quot;overlay&quot;, &quot;size&quot;: 10, &quot;solidity&quot;: 0.2}, &quot;type&quot;: &quot;scatter&quot;}], &quot;parcoords&quot;: [{&quot;type&quot;: &quot;parcoords&quot;, &quot;line&quot;: {&quot;colorbar&quot;: {&quot;outlinewidth&quot;: 0, &quot;ticks&quot;: &quot;&quot;}}}], &quot;scatterpolargl&quot;: [{&quot;type&quot;: &quot;scatterpolargl&quot;, &quot;marker&quot;: {&quot;colorbar&quot;: {&quot;outlinewidth&quot;: 0, &quot;ticks&quot;: &quot;&quot;}}}], &quot;bar&quot;: [{&quot;error_x&quot;: {&quot;color&quot;: &quot;#2a3f5f&quot;}, &quot;error_y&quot;: {&quot;color&quot;: &quot;#2a3f5f&quot;}, &quot;marker&quot;: {&quot;line&quot;: {&quot;color&quot;: &quot;#E5ECF6&quot;, &quot;width&quot;: 0.5}, &quot;pattern&quot;: {&quot;fillmode&quot;: &quot;overlay&quot;, &quot;size&quot;: 10, &quot;solidity&quot;: 0.2}}, &quot;type&quot;: &quot;bar&quot;}], &quot;scattergeo&quot;: [{&quot;type&quot;: &quot;scattergeo&quot;, &quot;marker&quot;: {&quot;colorbar&quot;: {&quot;outlinewidth&quot;: 0, &quot;ticks&quot;: &quot;&quot;}}}], &quot;scatterpolar&quot;: [{&quot;type&quot;: &quot;scatterpolar&quot;, &quot;marker&quot;: {&quot;colorbar&quot;: {&quot;outlinewidth&quot;: 0, &quot;ticks&quot;: &quot;&quot;}}}], &quot;histogram&quot;: [{&quot;marker&quot;: {&quot;pattern&quot;: {&quot;fillmode&quot;: &quot;overlay&quot;, &quot;size&quot;: 10, &quot;solidity&quot;: 0.2}}, &quot;type&quot;: &quot;histogram&quot;}], &quot;scattergl&quot;: [{&quot;type&quot;: &quot;scattergl&quot;, &quot;marker&quot;: {&quot;colorbar&quot;: {&quot;outlinewidth&quot;: 0, &quot;ticks&quot;: &quot;&quot;}}}], &quot;scatter3d&quot;: [{&quot;type&quot;: &quot;scatter3d&quot;, &quot;line&quot;: {&quot;colorbar&quot;: {&quot;outlinewidth&quot;: 0, &quot;ticks&quot;: &quot;&quot;}}, &quot;marker&quot;: {&quot;colorbar&quot;: {&quot;outlinewidth&quot;: 0, &quot;ticks&quot;: &quot;&quot;}}}], &quot;scattermap&quot;: [{&quot;type&quot;: &quot;scattermap&quot;, &quot;marker&quot;: {&quot;colorbar&quot;: {&quot;outlinewidth&quot;: 0, &quot;ticks&quot;: &quot;&quot;}}}], &quot;scattermapbox&quot;: [{&quot;type&quot;: &quot;scattermapbox&quot;, &quot;marker&quot;: {&quot;colorbar&quot;: {&quot;outlinewidth&quot;: 0, &quot;ticks&quot;: &quot;&quot;}}}], &quot;scatterternary&quot;: [{&quot;type&quot;: &quot;scatterternary&quot;, &quot;marker&quot;: {&quot;colorbar&quot;: {&quot;outlinewidth&quot;: 0, &quot;ticks&quot;: &quot;&quot;}}}], &quot;scattercarpet&quot;: [{&quot;type&quot;: &quot;scattercarpet&quot;, &quot;marker&quot;: {&quot;colorbar&quot;: {&quot;outlinewidth&quot;: 0, &quot;ticks&quot;: &quot;&quot;}}}], &quot;carpet&quot;: [{&quot;aaxis&quot;: {&quot;endlinecolor&quot;: &quot;#2a3f5f&quot;, &quot;gridcolor&quot;: &quot;white&quot;, &quot;linecolor&quot;: &quot;white&quot;, &quot;minorgridcolor&quot;: &quot;white&quot;, &quot;startlinecolor&quot;: &quot;#2a3f5f&quot;}, &quot;baxis&quot;: {&quot;endlinecolor&quot;: &quot;#2a3f5f&quot;, &quot;gridcolor&quot;: &quot;white&quot;, &quot;linecolor&quot;: &quot;white&quot;, &quot;minorgridcolor&quot;: &quot;white&quot;, &quot;startlinecolor&quot;: &quot;#2a3f5f&quot;}, &quot;type&quot;: &quot;carpet&quot;}], &quot;table&quot;: [{&quot;cells&quot;: {&quot;fill&quot;: {&quot;color&quot;: &quot;#EBF0F8&quot;}, &quot;line&quot;: {&quot;color&quot;: &quot;white&quot;}}, &quot;header&quot;: {&quot;fill&quot;: {&quot;color&quot;: &quot;#C8D4E3&quot;}, &quot;line&quot;: {&quot;color&quot;: &quot;white&quot;}}, &quot;type&quot;: &quot;table&quot;}], &quot;barpolar&quot;: [{&quot;marker&quot;: {&quot;line&quot;: {&quot;color&quot;: &quot;#E5ECF6&quot;, &quot;width&quot;: 0.5}, &quot;pattern&quot;: {&quot;fillmode&quot;: &quot;overlay&quot;, &quot;size&quot;: 10, &quot;solidity&quot;: 0.2}}, &quot;type&quot;: &quot;barpolar&quot;}], &quot;pie&quot;: [{&quot;automargin&quot;: true, &quot;type&quot;: &quot;pie&quot;}]}, &quot;layout&quot;: {&quot;autotypenumbers&quot;: &quot;strict&quot;, &quot;colorway&quot;: [&quot;#636efa&quot;, &quot;#EF553B&quot;, &quot;#00cc96&quot;, &quot;#ab63fa&quot;, &quot;#FFA15A&quot;, &quot;#19d3f3&quot;, &quot;#FF6692&quot;, &quot;#B6E880&quot;, &quot;#FF97FF&quot;, &quot;#FECB52&quot;], &quot;font&quot;: {&quot;color&quot;: &quot;#2a3f5f&quot;}, &quot;hovermode&quot;: &quot;closest&quot;, &quot;hoverlabel&quot;: {&quot;align&quot;: &quot;left&quot;}, &quot;paper_bgcolor&quot;: &quot;white&quot;, &quot;plot_bgcolor&quot;: &quot;#E5ECF6&quot;, &quot;polar&quot;: {&quot;bgcolor&quot;: &quot;#E5ECF6&quot;, &quot;angularaxis&quot;: {&quot;gridcolor&quot;: &quot;white&quot;, &quot;linecolor&quot;: &quot;white&quot;, &quot;ticks&quot;: &quot;&quot;}, &quot;radialaxis&quot;: {&quot;gridcolor&quot;: &quot;white&quot;, &quot;linecolor&quot;: &quot;white&quot;, &quot;ticks&quot;: &quot;&quot;}}, &quot;ternary&quot;: {&quot;bgcolor&quot;: &quot;#E5ECF6&quot;, &quot;aaxis&quot;: {&quot;gridcolor&quot;: &quot;white&quot;, &quot;linecolor&quot;: &quot;white&quot;, &quot;ticks&quot;: &quot;&quot;}, &quot;baxis&quot;: {&quot;gridcolor&quot;: &quot;white&quot;, &quot;linecolor&quot;: &quot;white&quot;, &quot;ticks&quot;: &quot;&quot;}, &quot;caxis&quot;: {&quot;gridcolor&quot;: &quot;white&quot;, &quot;linecolor&quot;: &quot;white&quot;, &quot;ticks&quot;: &quot;&quot;}}, &quot;coloraxis&quot;: {&quot;colorbar&quot;: {&quot;outlinewidth&quot;: 0, &quot;ticks&quot;: &quot;&quot;}}, &quot;colorscale&quot;: {&quot;sequential&quot;: [[0.0, &quot;#0d0887&quot;], [0.1111111111111111, &quot;#46039f&quot;], [0.2222222222222222, &quot;#7201a8&quot;], [0.3333333333333333, &quot;#9c179e&quot;], [0.4444444444444444, &quot;#bd3786&quot;], [0.5555555555555556, &quot;#d8576b&quot;], [0.6666666666666666, &quot;#ed7953&quot;], [0.7777777777777778, &quot;#fb9f3a&quot;], [0.8888888888888888, &quot;#fdca26&quot;], [1.0, &quot;#f0f921&quot;]], &quot;sequentialminus&quot;: [[0.0, &quot;#0d0887&quot;], [0.1111111111111111, &quot;#46039f&quot;], [0.2222222222222222, &quot;#7201a8&quot;], [0.3333333333333333, &quot;#9c179e&quot;], [0.4444444444444444, &quot;#bd3786&quot;], [0.5555555555555556, &quot;#d8576b&quot;], [0.6666666666666666, &quot;#ed7953&quot;], [0.7777777777777778, &quot;#fb9f3a&quot;], [0.8888888888888888, &quot;#fdca26&quot;], [1.0, &quot;#f0f921&quot;]], &quot;diverging&quot;: [[0, &quot;#8e0152&quot;], [0.1, &quot;#c51b7d&quot;], [0.2, &quot;#de77ae&quot;], [0.3, &quot;#f1b6da&quot;], [0.4, &quot;#fde0ef&quot;], [0.5, &quot;#f7f7f7&quot;], [0.6, &quot;#e6f5d0&quot;], [0.7, &quot;#b8e186&quot;], [0.8, &quot;#7fbc41&quot;], [0.9, &quot;#4d9221&quot;], [1, &quot;#276419&quot;]]}, &quot;xaxis&quot;: {&quot;gridcolor&quot;: &quot;white&quot;, &quot;linecolor&quot;: &quot;white&quot;, &quot;ticks&quot;: &quot;&quot;, &quot;title&quot;: {&quot;standoff&quot;: 15}, &quot;zerolinecolor&quot;: &quot;white&quot;, &quot;automargin&quot;: true, &quot;zerolinewidth&quot;: 2}, &quot;yaxis&quot;: {&quot;gridcolor&quot;: &quot;white&quot;, &quot;linecolor&quot;: &quot;white&quot;, &quot;ticks&quot;: &quot;&quot;, &quot;title&quot;: {&quot;standoff&quot;: 15}, &quot;zerolinecolor&quot;: &quot;white&quot;, &quot;automargin&quot;: true, &quot;zerolinewidth&quot;: 2}, &quot;scene&quot;: {&quot;xaxis&quot;: {&quot;backgroundcolor&quot;: &quot;#E5ECF6&quot;, &quot;gridcolor&quot;: &quot;white&quot;, &quot;linecolor&quot;: &quot;white&quot;, &quot;showbackground&quot;: true, &quot;ticks&quot;: &quot;&quot;, &quot;zerolinecolor&quot;: &quot;white&quot;, &quot;gridwidth&quot;: 2}, &quot;yaxis&quot;: {&quot;backgroundcolor&quot;: &quot;#E5ECF6&quot;, &quot;gridcolor&quot;: &quot;white&quot;, &quot;linecolor&quot;: &quot;white&quot;, &quot;showbackground&quot;: true, &quot;ticks&quot;: &quot;&quot;, &quot;zerolinecolor&quot;: &quot;white&quot;, &quot;gridwidth&quot;: 2}, &quot;zaxis&quot;: {&quot;backgroundcolor&quot;: &quot;#E5ECF6&quot;, &quot;gridcolor&quot;: &quot;white&quot;, &quot;linecolor&quot;: &quot;white&quot;, &quot;showbackground&quot;: true, &quot;ticks&quot;: &quot;&quot;, &quot;zerolinecolor&quot;: &quot;white&quot;, &quot;gridwidth&quot;: 2}}, &quot;shapedefaults&quot;: {&quot;line&quot;: {&quot;color&quot;: &quot;#2a3f5f&quot;}}, &quot;annotationdefaults&quot;: {&quot;arrowcolor&quot;: &quot;#2a3f5f&quot;, &quot;arrowhead&quot;: 0, &quot;arrowwidth&quot;: 1}, &quot;geo&quot;: {&quot;bgcolor&quot;: &quot;white&quot;, &quot;landcolor&quot;: &quot;#E5ECF6&quot;, &quot;subunitcolor&quot;: &quot;white&quot;, &quot;showland&quot;: true, &quot;showlakes&quot;: true, &quot;lakecolor&quot;: &quot;white&quot;}, &quot;title&quot;: {&quot;x&quot;: 0.05}, &quot;mapbox&quot;: {&quot;style&quot;: &quot;light&quot;}}}, &quot;xaxis&quot;: {&quot;anchor&quot;: &quot;y&quot;, &quot;domain&quot;: [0.0, 0.1], &quot;visible&quot;: false}, &quot;yaxis&quot;: {&quot;anchor&quot;: &quot;x&quot;, &quot;domain&quot;: [0.0, 1.0], &quot;visible&quot;: false}, &quot;xaxis2&quot;: {&quot;anchor&quot;: &quot;y2&quot;, &quot;domain&quot;: [0.1, 0.2], &quot;visible&quot;: false}, &quot;yaxis2&quot;: {&quot;anchor&quot;: &quot;x2&quot;, &quot;domain&quot;: [0.0, 1.0], &quot;visible&quot;: false}, &quot;xaxis3&quot;: {&quot;anchor&quot;: &quot;y3&quot;, &quot;domain&quot;: [0.2, 0.30000000000000004], &quot;visible&quot;: false}, &quot;yaxis3&quot;: {&quot;anchor&quot;: &quot;x3&quot;, &quot;domain&quot;: [0.0, 1.0], &quot;visible&quot;: false}, &quot;xaxis4&quot;: {&quot;anchor&quot;: &quot;y4&quot;, &quot;domain&quot;: [0.30000000000000004, 0.4], &quot;visible&quot;: false}, &quot;yaxis4&quot;: {&quot;anchor&quot;: &quot;x4&quot;, &quot;domain&quot;: [0.0, 1.0], &quot;visible&quot;: false}, &quot;xaxis5&quot;: {&quot;anchor&quot;: &quot;y5&quot;, &quot;domain&quot;: [0.4, 0.5], &quot;visible&quot;: false}, &quot;yaxis5&quot;: {&quot;anchor&quot;: &quot;x5&quot;, &quot;domain&quot;: [0.0, 1.0], &quot;visible&quot;: false}, &quot;xaxis6&quot;: {&quot;anchor&quot;: &quot;y6&quot;, &quot;domain&quot;: [0.5, 0.6], &quot;visible&quot;: false}, &quot;yaxis6&quot;: {&quot;anchor&quot;: &quot;x6&quot;, &quot;domain&quot;: [0.0, 1.0], &quot;visible&quot;: false}, &quot;xaxis7&quot;: {&quot;anchor&quot;: &quot;y7&quot;, &quot;domain&quot;: [0.6000000000000001, 0.7000000000000001], &quot;visible&quot;: false}, &quot;yaxis7&quot;: {&quot;anchor&quot;: &quot;x7&quot;, &quot;domain&quot;: [0.0, 1.0], &quot;visible&quot;: false}, &quot;xaxis8&quot;: {&quot;anchor&quot;: &quot;y8&quot;, &quot;domain&quot;: [0.7000000000000001, 0.8], &quot;visible&quot;: false}, &quot;yaxis8&quot;: {&quot;anchor&quot;: &quot;x8&quot;, &quot;domain&quot;: [0.0, 1.0], &quot;visible&quot;: false}, &quot;xaxis9&quot;: {&quot;anchor&quot;: &quot;y9&quot;, &quot;domain&quot;: [0.8, 0.9], &quot;visible&quot;: false}, &quot;yaxis9&quot;: {&quot;anchor&quot;: &quot;x9&quot;, &quot;domain&quot;: [0.0, 1.0], &quot;visible&quot;: false}, &quot;xaxis10&quot;: {&quot;anchor&quot;: &quot;y10&quot;, &quot;domain&quot;: [0.9, 1.0], &quot;visible&quot;: false}, &quot;yaxis10&quot;: {&quot;anchor&quot;: &quot;x10&quot;, &quot;domain&quot;: [0.0, 1.0], &quot;visible&quot;: false}, &quot;annotations&quot;: [{&quot;font&quot;: {&quot;size&quot;: 16}, &quot;showarrow&quot;: false, &quot;text&quot;: &quot;cattle&quot;, &quot;x&quot;: 0.05, &quot;xanchor&quot;: &quot;center&quot;, &quot;xref&quot;: &quot;paper&quot;, &quot;y&quot;: 1.0, &quot;yanchor&quot;: &quot;bottom&quot;, &quot;yref&quot;: &quot;paper&quot;}, {&quot;font&quot;: {&quot;size&quot;: 16}, &quot;showarrow&quot;: false, &quot;text&quot;: &quot;dinosaur&quot;, &quot;x&quot;: 0.15000000000000002, &quot;xanchor&quot;: &quot;center&quot;, &quot;xref&quot;: &quot;paper&quot;, &quot;y&quot;: 1.0, &quot;yanchor&quot;: &quot;bottom&quot;, &quot;yref&quot;: &quot;paper&quot;}, {&quot;font&quot;: {&quot;size&quot;: 16}, &quot;showarrow&quot;: false, &quot;text&quot;: &quot;apple&quot;, &quot;x&quot;: 0.25, &quot;xanchor&quot;: &quot;center&quot;, &quot;xref&quot;: &quot;paper&quot;, &quot;y&quot;: 1.0, &quot;yanchor&quot;: &quot;bottom&quot;, &quot;yref&quot;: &quot;paper&quot;}, {&quot;font&quot;: {&quot;size&quot;: 16}, &quot;showarrow&quot;: false, &quot;text&quot;: &quot;boy&quot;, &quot;x&quot;: 0.35000000000000003, &quot;xanchor&quot;: &quot;center&quot;, &quot;xref&quot;: &quot;paper&quot;, &quot;y&quot;: 1.0, &quot;yanchor&quot;: &quot;bottom&quot;, &quot;yref&quot;: &quot;paper&quot;}, {&quot;font&quot;: {&quot;size&quot;: 16}, &quot;showarrow&quot;: false, &quot;text&quot;: &quot;aquarium_fish&quot;, &quot;x&quot;: 0.45, &quot;xanchor&quot;: &quot;center&quot;, &quot;xref&quot;: &quot;paper&quot;, &quot;y&quot;: 1.0, &quot;yanchor&quot;: &quot;bottom&quot;, &quot;yref&quot;: &quot;paper&quot;}, {&quot;font&quot;: {&quot;size&quot;: 16}, &quot;showarrow&quot;: false, &quot;text&quot;: &quot;telephone&quot;, &quot;x&quot;: 0.55, &quot;xanchor&quot;: &quot;center&quot;, &quot;xref&quot;: &quot;paper&quot;, &quot;y&quot;: 1.0, &quot;yanchor&quot;: &quot;bottom&quot;, &quot;yref&quot;: &quot;paper&quot;}, {&quot;font&quot;: {&quot;size&quot;: 16}, &quot;showarrow&quot;: false, &quot;text&quot;: &quot;train&quot;, &quot;x&quot;: 0.6500000000000001, &quot;xanchor&quot;: &quot;center&quot;, &quot;xref&quot;: &quot;paper&quot;, &quot;y&quot;: 1.0, &quot;yanchor&quot;: &quot;bottom&quot;, &quot;yref&quot;: &quot;paper&quot;}, {&quot;font&quot;: {&quot;size&quot;: 16}, &quot;showarrow&quot;: false, &quot;text&quot;: &quot;cup&quot;, &quot;x&quot;: 0.75, &quot;xanchor&quot;: &quot;center&quot;, &quot;xref&quot;: &quot;paper&quot;, &quot;y&quot;: 1.0, &quot;yanchor&quot;: &quot;bottom&quot;, &quot;yref&quot;: &quot;paper&quot;}, {&quot;font&quot;: {&quot;size&quot;: 16}, &quot;showarrow&quot;: false, &quot;text&quot;: &quot;cloud&quot;, &quot;x&quot;: 0.8500000000000001, &quot;xanchor&quot;: &quot;center&quot;, &quot;xref&quot;: &quot;paper&quot;, &quot;y&quot;: 1.0, &quot;yanchor&quot;: &quot;bottom&quot;, &quot;yref&quot;: &quot;paper&quot;}, {&quot;font&quot;: {&quot;size&quot;: 16}, &quot;showarrow&quot;: false, &quot;text&quot;: &quot;elephant&quot;, &quot;x&quot;: 0.95, &quot;xanchor&quot;: &quot;center&quot;, &quot;xref&quot;: &quot;paper&quot;, &quot;y&quot;: 1.0, &quot;yanchor&quot;: &quot;bottom&quot;, &quot;yref&quot;: &quot;paper&quot;}], &quot;margin&quot;: {&quot;l&quot;: 0, &quot;r&quot;: 0, &quot;t&quot;: 30, &quot;b&quot;: 0}, &quot;height&quot;: 105, &quot;width&quot;: 1050, &quot;showlegend&quot;: false, &quot;dragmode&quot;: &quot;zoom&quot;}}' data-config='{}'></marimo-plotly>"
      ]
     },
     "metadata": {},
     "output_type": "display_data"
    }
   ],
   "source": [
    "import plotly.graph_objects as go\n",
    "from plotly.subplots import make_subplots\n",
    "\n",
    "num_images = 10\n",
    "\n",
    "# Create a row of subplots\n",
    "cifar_fig = make_subplots(\n",
    "    rows=1, cols=num_images, \n",
    "    subplot_titles=[train_data.classes[train_data[i][1]] for i in range(num_images)], \n",
    "    horizontal_spacing=0,\n",
    ")\n",
    "\n",
    "for i in range(num_images):\n",
    "    img, label = train_data[i]\n",
    "    img = img.permute(1, 2, 0).numpy()  # (C, H, W) -> (H, W, C) and convert to numpy\n",
    "\n",
    "    cifar_fig.add_trace(\n",
    "        go.Image(z=(img * 255).astype('uint8')),\n",
    "        row=1, col=i+1\n",
    "    )\n",
    "\n",
    "# Update layout: remove axes and tighten spacing\n",
    "thumbnail_size = 105\n",
    "cifar_fig.update_layout(\n",
    "    height=thumbnail_size,  # adjust height as needed\n",
    "    width=thumbnail_size * num_images,  # 150px per image\n",
    "    showlegend=False,\n",
    "    margin=dict(l=0, r=0, t=30, b=0)\n",
    ")\n",
    "\n",
    "# Hide axes\n",
    "for i in range(1, num_images + 1):\n",
    "    cifar_fig.update_xaxes(visible=False, row=1, col=i)\n",
    "    cifar_fig.update_yaxes(visible=False, row=1, col=i)\n",
    "\n",
    "cifar_fig"
   ]
  },
  {
   "cell_type": "markdown",
   "id": "SFPL",
   "metadata": {
    "marimo": {
     "config": {
      "hide_code": true
     }
    }
   },
   "source": [
    "## Non-hierarchical model\n",
    "\n",
    "First we create a basic non-hierarchical model as a baseline"
   ]
  },
  {
   "cell_type": "code",
   "execution_count": null,
   "id": "BYtC",
   "metadata": {},
   "outputs": [
    {
     "data": {
      "text/html": [
       "<pre style='font-size: 12px'>BasicImageClassifier(\n",
       "  (model): Sequential(\n",
       "    (0): WideResNetBody(\n",
       "      (conv1): Conv2d(3, 16, kernel_size=(3, 3), stride=(1, 1), padding=(1, 1), bias=False)\n",
       "      (layer1): Sequential(\n",
       "        (0): BasicBlock(\n",
       "          (bn1): BatchNorm2d(16, eps=1e-05, momentum=0.1, affine=True, track_running_stats=True)\n",
       "          (conv1): Conv2d(16, 128, kernel_size=(3, 3), stride=(1, 1), padding=(1, 1), bias=False)\n",
       "          (bn2): BatchNorm2d(128, eps=1e-05, momentum=0.1, affine=True, track_running_stats=True)\n",
       "          (conv2): Conv2d(128, 128, kernel_size=(3, 3), stride=(1, 1), padding=(1, 1), bias=False)\n",
       "          (shortcut): Conv2d(16, 128, kernel_size=(1, 1), stride=(1, 1), bias=False)\n",
       "        )\n",
       "        (1): BasicBlock(\n",
       "          (bn1): BatchNorm2d(128, eps=1e-05, momentum=0.1, affine=True, track_running_stats=True)\n",
       "          (conv1): Conv2d(128, 128, kernel_size=(3, 3), stride=(1, 1), padding=(1, 1), bias=False)\n",
       "          (bn2): BatchNorm2d(128, eps=1e-05, momentum=0.1, affine=True, track_running_stats=True)\n",
       "          (conv2): Conv2d(128, 128, kernel_size=(3, 3), stride=(1, 1), padding=(1, 1), bias=False)\n",
       "          (shortcut): Sequential()\n",
       "        )\n",
       "      )\n",
       "      (layer2): Sequential(\n",
       "        (0): BasicBlock(\n",
       "          (bn1): BatchNorm2d(128, eps=1e-05, momentum=0.1, affine=True, track_running_stats=True)\n",
       "          (conv1): Conv2d(128, 256, kernel_size=(3, 3), stride=(2, 2), padding=(1, 1), bias=False)\n",
       "          (bn2): BatchNorm2d(256, eps=1e-05, momentum=0.1, affine=True, track_running_stats=True)\n",
       "          (conv2): Conv2d(256, 256, kernel_size=(3, 3), stride=(1, 1), padding=(1, 1), bias=False)\n",
       "          (shortcut): Conv2d(128, 256, kernel_size=(1, 1), stride=(2, 2), bias=False)\n",
       "        )\n",
       "        (1): BasicBlock(\n",
       "          (bn1): BatchNorm2d(256, eps=1e-05, momentum=0.1, affine=True, track_running_stats=True)\n",
       "          (conv1): Conv2d(256, 256, kernel_size=(3, 3), stride=(1, 1), padding=(1, 1), bias=False)\n",
       "          (bn2): BatchNorm2d(256, eps=1e-05, momentum=0.1, affine=True, track_running_stats=True)\n",
       "          (conv2): Conv2d(256, 256, kernel_size=(3, 3), stride=(1, 1), padding=(1, 1), bias=False)\n",
       "          (shortcut): Sequential()\n",
       "        )\n",
       "      )\n",
       "      (layer3): Sequential(\n",
       "        (0): BasicBlock(\n",
       "          (bn1): BatchNorm2d(256, eps=1e-05, momentum=0.1, affine=True, track_running_stats=True)\n",
       "          (conv1): Conv2d(256, 512, kernel_size=(3, 3), stride=(2, 2), padding=(1, 1), bias=False)\n",
       "          (bn2): BatchNorm2d(512, eps=1e-05, momentum=0.1, affine=True, track_running_stats=True)\n",
       "          (conv2): Conv2d(512, 512, kernel_size=(3, 3), stride=(1, 1), padding=(1, 1), bias=False)\n",
       "          (shortcut): Conv2d(256, 512, kernel_size=(1, 1), stride=(2, 2), bias=False)\n",
       "        )\n",
       "        (1): BasicBlock(\n",
       "          (bn1): BatchNorm2d(512, eps=1e-05, momentum=0.1, affine=True, track_running_stats=True)\n",
       "          (conv1): Conv2d(512, 512, kernel_size=(3, 3), stride=(1, 1), padding=(1, 1), bias=False)\n",
       "          (bn2): BatchNorm2d(512, eps=1e-05, momentum=0.1, affine=True, track_running_stats=True)\n",
       "          (conv2): Conv2d(512, 512, kernel_size=(3, 3), stride=(1, 1), padding=(1, 1), bias=False)\n",
       "          (shortcut): Sequential()\n",
       "        )\n",
       "      )\n",
       "      (bn): BatchNorm2d(512, eps=1e-05, momentum=0.1, affine=True, track_running_stats=True)\n",
       "    )\n",
       "    (1): LazyLinear(in_features=0, out_features=100, bias=True)\n",
       "  )\n",
       "  (loss_fn): CrossEntropyLoss()\n",
       ")</pre>"
      ]
     },
     "metadata": {},
     "output_type": "display_data"
    }
   ],
   "source": [
    "import torch\n",
    "from torch import nn\n",
    "from torchmetrics import Accuracy\n",
    "import lightning as L\n",
    "\n",
    "import torch\n",
    "import torch.nn as nn\n",
    "import torch.nn.functional as F\n",
    "\n",
    "class BasicBlock(nn.Module):\n",
    "    def __init__(self, in_planes, out_planes, stride):\n",
    "        super().__init__()\n",
    "        self.bn1 = nn.BatchNorm2d(in_planes)\n",
    "        self.conv1 = nn.Conv2d(in_planes, out_planes, kernel_size=3, stride=stride, padding=1, bias=False)\n",
    "        self.bn2 = nn.BatchNorm2d(out_planes)\n",
    "        self.conv2 = nn.Conv2d(out_planes, out_planes, kernel_size=3, stride=1, padding=1, bias=False)\n",
    "\n",
    "        self.shortcut = nn.Sequential()\n",
    "        if stride != 1 or in_planes != out_planes:\n",
    "            self.shortcut = nn.Conv2d(in_planes, out_planes, kernel_size=1, stride=stride, bias=False)\n",
    "\n",
    "    def forward(self, x):\n",
    "        out = self.conv1(F.relu(self.bn1(x)))\n",
    "        out = self.conv2(F.relu(self.bn2(out)))\n",
    "        out += self.shortcut(x)\n",
    "        return out\n",
    "\n",
    "\n",
    "class WideResNetBody(nn.Module):\n",
    "    def __init__(self, depth=16, width_factor=8):\n",
    "        super().__init__()\n",
    "        assert (depth - 4) % 6 == 0, \"Depth should be 6n+4\"\n",
    "        n = (depth - 4) // 6\n",
    "\n",
    "        k = width_factor\n",
    "        self.in_planes = 16\n",
    "\n",
    "        # Initial conv\n",
    "        self.conv1 = nn.Conv2d(3, 16, kernel_size=3, stride=1, padding=1, bias=False)\n",
    "\n",
    "        # 3 groups\n",
    "        self.layer1 = self._make_layer(16*k, n, stride=1)\n",
    "        self.layer2 = self._make_layer(32*k, n, stride=2)\n",
    "        self.layer3 = self._make_layer(64*k, n, stride=2)\n",
    "\n",
    "        self.bn = nn.BatchNorm2d(64*k)\n",
    "\n",
    "    def _make_layer(self, out_planes, blocks, stride):\n",
    "        strides = [stride] + [1]*(blocks-1)\n",
    "        layers = []\n",
    "        for s in strides:\n",
    "            layers.append(BasicBlock(self.in_planes, out_planes, s))\n",
    "            self.in_planes = out_planes\n",
    "        return nn.Sequential(*layers)\n",
    "\n",
    "    def forward(self, x):\n",
    "        out = self.conv1(x)\n",
    "        out = self.layer1(out)\n",
    "        out = self.layer2(out)\n",
    "        out = self.layer3(out)\n",
    "        out = F.relu(self.bn(out))\n",
    "        out = F.avg_pool2d(out, 8)\n",
    "        out = out.view(out.size(0), -1)\n",
    "        return out\n",
    "\n",
    "\n",
    "class BasicImageClassifier(L.LightningModule):\n",
    "    def __init__(self):\n",
    "        super().__init__()\n",
    "        self.model = nn.Sequential(\n",
    "            WideResNetBody(),\n",
    "            nn.LazyLinear(out_features=len(train_data.classes))\n",
    "        )\n",
    "        self.loss_fn = nn.CrossEntropyLoss()\n",
    "        self.metrics = [\n",
    "            Accuracy(task=\"multiclass\", num_classes=len(train_data.classes))\n",
    "        ]\n",
    "\n",
    "    def forward(self, x):\n",
    "        return self.model(x)\n",
    "\n",
    "    def training_step(self, batch, batch_idx):\n",
    "        x, y = batch\n",
    "        logits = self(x)\n",
    "        loss = self.loss_fn(logits, y)\n",
    "        self.log('train_loss', loss, prog_bar=True)\n",
    "        return loss\n",
    "\n",
    "    def validation_step(self, batch, batch_idx):\n",
    "        x, y = batch\n",
    "        logits = self(x)\n",
    "        loss = self.loss_fn(logits, y)\n",
    "        self.log('val_loss', loss, prog_bar=True)\n",
    "        for metric in self.metrics:\n",
    "            metric = metric.to(logits.device)\n",
    "            result = metric(logits, y)\n",
    "            if isinstance(result, dict):\n",
    "                for name, value in result.items():\n",
    "                    self.log(f\"val_{name}\", value, on_step=False, on_epoch=True, prog_bar=True)\n",
    "            else:\n",
    "                self.log(f\"val_{metric.__class__.__name__}\", result, on_step=False, on_epoch=True, prog_bar=True)\n",
    "\n",
    "        return loss\n",
    "\n",
    "    def configure_optimizers(self):\n",
    "        return torch.optim.Adam(self.parameters(), lr=1e-3)\n",
    "\n",
    "basic_model = BasicImageClassifier()\n",
    "basic_model"
   ]
  },
  {
   "cell_type": "markdown",
   "id": "RGSE",
   "metadata": {
    "marimo": {
     "config": {
      "hide_code": true
     }
    }
   },
   "source": [
    "# Train the basic model"
   ]
  },
  {
   "cell_type": "code",
   "execution_count": null,
   "id": "Kclp",
   "metadata": {},
   "outputs": [
    {
     "name": "stderr",
     "output_type": "stream",
     "text": [
      "GPU available: True (mps), used: True\n",
      "TPU available: False, using: 0 TPU cores\n",
      "HPU available: False, using: 0 HPUs\n"
     ]
    },
    {
     "name": "stderr",
     "output_type": "stream",
     "text": [
      "W0514 11:31:24.115000 46152 torch/distributed/elastic/multiprocessing/redirects.py:29] NOTE: Redirects are currently not supported in Windows or MacOs.\n",
      "/Users/rturnbull/MDAP/hierarchicalsoftmax/.venv/lib/python3.13/site-packages/lightning/pytorch/utilities/model_summary/model_summary.py:477: The total number of parameters detected may be inaccurate because the model contains an instance of `UninitializedParameter`. To get an accurate number, set `self.example_input_array` in your LightningModule.\n",
      "\n",
      "  | Name    | Type             | Params | Mode \n",
      "-----------------------------------------------------\n",
      "0 | model   | Sequential       | 11.0 M | train\n",
      "1 | loss_fn | CrossEntropyLoss | 0      | train\n",
      "-----------------------------------------------------\n",
      "11.0 M    Trainable params\n",
      "0         Non-trainable params\n",
      "11.0 M    Total params\n",
      "43.825    Total estimated model params size (MB)\n",
      "45        Modules in train mode\n",
      "0         Modules in eval mode\n"
     ]
    },
    {
     "name": "stdout",
     "output_type": "stream",
     "text": [
      "\r",
      "Sanity Checking: |                                                                                                                                      | 0/? [00:00<?, ?it/s]"
     ]
    },
    {
     "name": "stderr",
     "output_type": "stream",
     "text": [
      "/Users/rturnbull/MDAP/hierarchicalsoftmax/.venv/lib/python3.13/site-packages/lightning/pytorch/trainer/connectors/data_connector.py:425: The 'val_dataloader' does not have many workers which may be a bottleneck. Consider increasing the value of the `num_workers` argument` to `num_workers=13` in the `DataLoader` to improve performance.\n"
     ]
    },
    {
     "name": "stdout",
     "output_type": "stream",
     "text": [
      "\r",
      "Sanity Checking:   0%|                                                                                                                                  | 0/2 [00:00<?, ?it/s]\r",
      "Sanity Checking DataLoader 0:   0%|                                                                                                                     | 0/2 [00:00<?, ?it/s]"
     ]
    },
    {
     "name": "stdout",
     "output_type": "stream",
     "text": [
      "\r",
      "Sanity Checking DataLoader 0:  50%|██████████████████████████████████████████████████████▌                                                      | 1/2 [00:00<00:00,  8.37it/s]\r",
      "Sanity Checking DataLoader 0: 100%|█████████████████████████████████████████████████████████████████████████████████████████████████████████████| 2/2 [00:00<00:00, 15.99it/s]"
     ]
    },
    {
     "name": "stdout",
     "output_type": "stream",
     "text": [
      "\r",
      "                                                                                                                                                                              \r"
     ]
    },
    {
     "name": "stderr",
     "output_type": "stream",
     "text": [
      "/Users/rturnbull/MDAP/hierarchicalsoftmax/.venv/lib/python3.13/site-packages/lightning/pytorch/trainer/connectors/data_connector.py:425: The 'train_dataloader' does not have many workers which may be a bottleneck. Consider increasing the value of the `num_workers` argument` to `num_workers=13` in the `DataLoader` to improve performance.\n"
     ]
    },
    {
     "name": "stdout",
     "output_type": "stream",
     "text": [
      "\r",
      "Training: |                                                                                                                                             | 0/? [00:00<?, ?it/s]\r",
      "Training:   0%|                                                                                                                                      | 0/1563 [00:00<?, ?it/s]\r",
      "Epoch 0:   0%|                                                                                                                                       | 0/1563 [00:00<?, ?it/s]"
     ]
    },
    {
     "name": "stdout",
     "output_type": "stream",
     "text": [
      "\r",
      "Epoch 0:   0%|                                                                                                                               | 1/1563 [00:00<07:30,  3.47it/s]\r",
      "Epoch 0:   0%|                                                                                                   | 1/1563 [00:00<07:30,  3.46it/s, v_num=15, train_loss=4.640]"
     ]
    },
    {
     "name": "stdout",
     "output_type": "stream",
     "text": [
      "\r",
      "Epoch 0:   0%|▏                                                                                                  | 2/1563 [00:00<04:00,  6.50it/s, v_num=15, train_loss=4.640]"
     ]
    },
    {
     "name": "stdout",
     "output_type": "stream",
     "text": [
      "\r",
      "Epoch 0:   0%|▏                                                                                                  | 2/1563 [00:00<04:36,  5.65it/s, v_num=15, train_loss=4.640]"
     ]
    },
    {
     "name": "stdout",
     "output_type": "stream",
     "text": [
      "\r",
      "Epoch 0:   0%|▏                                                                                                  | 3/1563 [00:00<03:13,  8.08it/s, v_num=15, train_loss=4.640]"
     ]
    },
    {
     "name": "stdout",
     "output_type": "stream",
     "text": [
      "\r",
      "Epoch 0:   0%|▏                                                                                                  | 3/1563 [00:00<03:37,  7.16it/s, v_num=15, train_loss=4.740]"
     ]
    },
    {
     "name": "stdout",
     "output_type": "stream",
     "text": [
      "\r",
      "Epoch 0:   0%|▎                                                                                                  | 4/1563 [00:00<02:50,  9.15it/s, v_num=15, train_loss=4.740]"
     ]
    },
    {
     "name": "stdout",
     "output_type": "stream",
     "text": [
      "\r",
      "Epoch 0:   0%|▎                                                                                                  | 4/1563 [00:00<03:09,  8.24it/s, v_num=15, train_loss=4.910]"
     ]
    },
    {
     "name": "stdout",
     "output_type": "stream",
     "text": [
      "\r",
      "Epoch 0:   0%|▎                                                                                                  | 5/1563 [00:00<02:37,  9.90it/s, v_num=15, train_loss=4.910]"
     ]
    },
    {
     "name": "stdout",
     "output_type": "stream",
     "text": [
      "\r",
      "Epoch 0:   0%|▎                                                                                                  | 5/1563 [00:00<02:51,  9.06it/s, v_num=15, train_loss=4.970]"
     ]
    },
    {
     "name": "stdout",
     "output_type": "stream",
     "text": [
      "\r",
      "Epoch 0:   0%|▍                                                                                                  | 6/1563 [00:00<02:28, 10.47it/s, v_num=15, train_loss=4.970]"
     ]
    },
    {
     "name": "stdout",
     "output_type": "stream",
     "text": [
      "\r",
      "Epoch 0:   0%|▍                                                                                                  | 6/1563 [00:00<02:40,  9.70it/s, v_num=15, train_loss=4.490]"
     ]
    },
    {
     "name": "stdout",
     "output_type": "stream",
     "text": [
      "\r",
      "Epoch 0:   0%|▍                                                                                                  | 7/1563 [00:00<02:22, 10.93it/s, v_num=15, train_loss=4.490]"
     ]
    },
    {
     "name": "stdout",
     "output_type": "stream",
     "text": [
      "\r",
      "Epoch 0:   0%|▍                                                                                                  | 7/1563 [00:00<02:32, 10.21it/s, v_num=15, train_loss=4.520]"
     ]
    },
    {
     "name": "stdout",
     "output_type": "stream",
     "text": [
      "\r",
      "Epoch 0:   1%|▌                                                                                                  | 8/1563 [00:00<02:17, 11.30it/s, v_num=15, train_loss=4.520]"
     ]
    },
    {
     "name": "stdout",
     "output_type": "stream",
     "text": [
      "\r",
      "Epoch 0:   1%|▌                                                                                                  | 8/1563 [00:00<02:26, 10.63it/s, v_num=15, train_loss=4.700]"
     ]
    },
    {
     "name": "stdout",
     "output_type": "stream",
     "text": [
      "\r",
      "Epoch 0:   1%|▌                                                                                                  | 9/1563 [00:00<02:13, 11.60it/s, v_num=15, train_loss=4.700]"
     ]
    },
    {
     "name": "stdout",
     "output_type": "stream",
     "text": [
      "\r",
      "Epoch 0:   1%|▌                                                                                                  | 9/1563 [00:00<02:21, 10.98it/s, v_num=15, train_loss=4.510]"
     ]
    },
    {
     "name": "stdout",
     "output_type": "stream",
     "text": [
      "\r",
      "Epoch 0:   1%|▋                                                                                                 | 10/1563 [00:00<02:10, 11.86it/s, v_num=15, train_loss=4.510]"
     ]
    },
    {
     "name": "stdout",
     "output_type": "stream",
     "text": [
      "\r",
      "Epoch 0:   1%|▋                                                                                                 | 10/1563 [00:00<02:17, 11.26it/s, v_num=15, train_loss=4.740]"
     ]
    },
    {
     "name": "stdout",
     "output_type": "stream",
     "text": [
      "\r",
      "Epoch 0:   1%|▋                                                                                                 | 11/1563 [00:00<02:08, 12.07it/s, v_num=15, train_loss=4.740]"
     ]
    },
    {
     "name": "stdout",
     "output_type": "stream",
     "text": [
      "\r",
      "Epoch 0:   1%|▋                                                                                                 | 11/1563 [00:00<02:14, 11.52it/s, v_num=15, train_loss=4.610]"
     ]
    },
    {
     "name": "stdout",
     "output_type": "stream",
     "text": [
      "\r",
      "Epoch 0:   1%|▊                                                                                                 | 12/1563 [00:00<02:06, 12.25it/s, v_num=15, train_loss=4.610]"
     ]
    },
    {
     "name": "stdout",
     "output_type": "stream",
     "text": [
      "\r",
      "Epoch 0:   1%|▊                                                                                                 | 12/1563 [00:01<02:12, 11.71it/s, v_num=15, train_loss=4.920]"
     ]
    },
    {
     "name": "stdout",
     "output_type": "stream",
     "text": [
      "\r",
      "Epoch 0:   1%|▊                                                                                                 | 13/1563 [00:01<02:04, 12.43it/s, v_num=15, train_loss=4.920]"
     ]
    },
    {
     "name": "stdout",
     "output_type": "stream",
     "text": [
      "\r",
      "Epoch 0:   1%|▊                                                                                                 | 13/1563 [00:01<02:10, 11.91it/s, v_num=15, train_loss=4.880]"
     ]
    },
    {
     "name": "stdout",
     "output_type": "stream",
     "text": [
      "\r",
      "Epoch 0:   1%|▉                                                                                                 | 14/1563 [00:01<02:03, 12.57it/s, v_num=15, train_loss=4.880]"
     ]
    },
    {
     "name": "stdout",
     "output_type": "stream",
     "text": [
      "\r",
      "Epoch 0:   1%|▉                                                                                                 | 14/1563 [00:01<02:08, 12.09it/s, v_num=15, train_loss=4.680]"
     ]
    },
    {
     "name": "stdout",
     "output_type": "stream",
     "text": [
      "\r",
      "Epoch 0:   1%|▉                                                                                                 | 15/1563 [00:01<02:01, 12.70it/s, v_num=15, train_loss=4.680]"
     ]
    },
    {
     "name": "stdout",
     "output_type": "stream",
     "text": [
      "\r",
      "Epoch 0:   1%|▉                                                                                                 | 15/1563 [00:01<02:06, 12.25it/s, v_num=15, train_loss=4.790]"
     ]
    },
    {
     "name": "stdout",
     "output_type": "stream",
     "text": [
      "\r",
      "Epoch 0:   1%|█                                                                                                 | 16/1563 [00:01<02:00, 12.80it/s, v_num=15, train_loss=4.790]"
     ]
    },
    {
     "name": "stdout",
     "output_type": "stream",
     "text": [
      "\r",
      "Epoch 0:   1%|█                                                                                                 | 16/1563 [00:01<02:05, 12.36it/s, v_num=15, train_loss=4.520]"
     ]
    },
    {
     "name": "stdout",
     "output_type": "stream",
     "text": [
      "\r",
      "Epoch 0:   1%|█                                                                                                 | 17/1563 [00:01<01:59, 12.93it/s, v_num=15, train_loss=4.520]"
     ]
    },
    {
     "name": "stdout",
     "output_type": "stream",
     "text": [
      "\r",
      "Epoch 0:   1%|█                                                                                                 | 17/1563 [00:01<02:03, 12.49it/s, v_num=15, train_loss=4.700]"
     ]
    },
    {
     "name": "stdout",
     "output_type": "stream",
     "text": [
      "\r",
      "Epoch 0:   1%|█▏                                                                                                | 18/1563 [00:01<01:58, 13.05it/s, v_num=15, train_loss=4.700]"
     ]
    },
    {
     "name": "stdout",
     "output_type": "stream",
     "text": [
      "\r",
      "Epoch 0:   1%|█▏                                                                                                | 18/1563 [00:01<02:02, 12.62it/s, v_num=15, train_loss=4.620]"
     ]
    },
    {
     "name": "stdout",
     "output_type": "stream",
     "text": [
      "\r",
      "Epoch 0:   1%|█▏                                                                                                | 19/1563 [00:01<01:57, 13.15it/s, v_num=15, train_loss=4.620]"
     ]
    },
    {
     "name": "stdout",
     "output_type": "stream",
     "text": [
      "\r",
      "Epoch 0:   1%|█▏                                                                                                | 19/1563 [00:01<02:01, 12.73it/s, v_num=15, train_loss=4.550]"
     ]
    },
    {
     "name": "stdout",
     "output_type": "stream",
     "text": [
      "\r",
      "Epoch 0:   1%|█▎                                                                                                | 20/1563 [00:01<01:56, 13.22it/s, v_num=15, train_loss=4.550]"
     ]
    },
    {
     "name": "stdout",
     "output_type": "stream",
     "text": [
      "\r",
      "Epoch 0:   1%|█▎                                                                                                | 20/1563 [00:01<02:00, 12.84it/s, v_num=15, train_loss=4.630]"
     ]
    },
    {
     "name": "stdout",
     "output_type": "stream",
     "text": [
      "\r",
      "Epoch 0:   1%|█▎                                                                                                | 21/1563 [00:01<01:55, 13.29it/s, v_num=15, train_loss=4.630]"
     ]
    },
    {
     "name": "stdout",
     "output_type": "stream",
     "text": [
      "\r",
      "Epoch 0:   1%|█▎                                                                                                | 21/1563 [00:01<01:59, 12.93it/s, v_num=15, train_loss=4.720]"
     ]
    },
    {
     "name": "stdout",
     "output_type": "stream",
     "text": [
      "\r",
      "Epoch 0:   1%|█▍                                                                                                | 22/1563 [00:01<01:55, 13.37it/s, v_num=15, train_loss=4.720]"
     ]
    },
    {
     "name": "stdout",
     "output_type": "stream",
     "text": [
      "\r",
      "Epoch 0:   1%|█▍                                                                                                | 22/1563 [00:01<01:58, 13.01it/s, v_num=15, train_loss=4.590]"
     ]
    },
    {
     "name": "stdout",
     "output_type": "stream",
     "text": [
      "\r",
      "Epoch 0:   1%|█▍                                                                                                | 23/1563 [00:01<01:54, 13.43it/s, v_num=15, train_loss=4.590]"
     ]
    },
    {
     "name": "stdout",
     "output_type": "stream",
     "text": [
      "\r",
      "Epoch 0:   1%|█▍                                                                                                | 23/1563 [00:01<01:57, 13.09it/s, v_num=15, train_loss=4.460]"
     ]
    },
    {
     "name": "stdout",
     "output_type": "stream",
     "text": [
      "\r",
      "Epoch 0:   2%|█▌                                                                                                | 24/1563 [00:01<01:54, 13.48it/s, v_num=15, train_loss=4.460]"
     ]
    },
    {
     "name": "stdout",
     "output_type": "stream",
     "text": [
      "\r",
      "Epoch 0:   2%|█▌                                                                                                | 24/1563 [00:01<01:57, 13.15it/s, v_num=15, train_loss=4.800]"
     ]
    },
    {
     "name": "stdout",
     "output_type": "stream",
     "text": [
      "\r",
      "Epoch 0:   2%|█▌                                                                                                | 25/1563 [00:01<01:53, 13.52it/s, v_num=15, train_loss=4.800]"
     ]
    },
    {
     "name": "stdout",
     "output_type": "stream",
     "text": [
      "\r",
      "Epoch 0:   2%|█▌                                                                                                | 25/1563 [00:01<01:56, 13.21it/s, v_num=15, train_loss=4.770]"
     ]
    },
    {
     "name": "stdout",
     "output_type": "stream",
     "text": [
      "\r",
      "Epoch 0:   2%|█▋                                                                                                | 26/1563 [00:01<01:53, 13.58it/s, v_num=15, train_loss=4.770]"
     ]
    },
    {
     "name": "stdout",
     "output_type": "stream",
     "text": [
      "\r",
      "Epoch 0:   2%|█▋                                                                                                | 26/1563 [00:01<01:55, 13.26it/s, v_num=15, train_loss=4.630]"
     ]
    },
    {
     "name": "stdout",
     "output_type": "stream",
     "text": [
      "\r",
      "Epoch 0:   2%|█▋                                                                                                | 27/1563 [00:01<01:52, 13.59it/s, v_num=15, train_loss=4.630]"
     ]
    },
    {
     "name": "stdout",
     "output_type": "stream",
     "text": [
      "\r",
      "Epoch 0:   2%|█▋                                                                                                | 27/1563 [00:02<01:55, 13.30it/s, v_num=15, train_loss=4.320]"
     ]
    },
    {
     "name": "stdout",
     "output_type": "stream",
     "text": [
      "\r",
      "Epoch 0:   2%|█▊                                                                                                | 28/1563 [00:02<01:52, 13.66it/s, v_num=15, train_loss=4.320]"
     ]
    },
    {
     "name": "stdout",
     "output_type": "stream",
     "text": [
      "\r",
      "Epoch 0:   2%|█▊                                                                                                | 28/1563 [00:02<01:54, 13.35it/s, v_num=15, train_loss=4.450]"
     ]
    },
    {
     "name": "stdout",
     "output_type": "stream",
     "text": [
      "\r",
      "Epoch 0:   2%|█▊                                                                                                | 29/1563 [00:02<01:51, 13.70it/s, v_num=15, train_loss=4.450]"
     ]
    },
    {
     "name": "stdout",
     "output_type": "stream",
     "text": [
      "\r",
      "Epoch 0:   2%|█▊                                                                                                | 29/1563 [00:02<01:54, 13.40it/s, v_num=15, train_loss=4.650]"
     ]
    },
    {
     "name": "stdout",
     "output_type": "stream",
     "text": [
      "\r",
      "Epoch 0:   2%|█▉                                                                                                | 30/1563 [00:02<01:51, 13.75it/s, v_num=15, train_loss=4.650]"
     ]
    },
    {
     "name": "stdout",
     "output_type": "stream",
     "text": [
      "\r",
      "Epoch 0:   2%|█▉                                                                                                | 30/1563 [00:02<01:53, 13.45it/s, v_num=15, train_loss=4.380]"
     ]
    },
    {
     "name": "stdout",
     "output_type": "stream",
     "text": [
      "\r",
      "Epoch 0:   2%|█▉                                                                                                | 31/1563 [00:02<01:51, 13.79it/s, v_num=15, train_loss=4.380]"
     ]
    },
    {
     "name": "stdout",
     "output_type": "stream",
     "text": [
      "\r",
      "Epoch 0:   2%|█▉                                                                                                | 31/1563 [00:02<01:53, 13.50it/s, v_num=15, train_loss=4.740]"
     ]
    },
    {
     "name": "stdout",
     "output_type": "stream",
     "text": [
      "\r",
      "Epoch 0:   2%|██                                                                                                | 32/1563 [00:02<01:50, 13.81it/s, v_num=15, train_loss=4.740]"
     ]
    },
    {
     "name": "stdout",
     "output_type": "stream",
     "text": [
      "\r",
      "Epoch 0:   2%|██                                                                                                | 32/1563 [00:02<01:53, 13.55it/s, v_num=15, train_loss=4.630]"
     ]
    },
    {
     "name": "stdout",
     "output_type": "stream",
     "text": [
      "\r",
      "Epoch 0:   2%|██                                                                                                | 33/1563 [00:02<01:50, 13.86it/s, v_num=15, train_loss=4.630]"
     ]
    },
    {
     "name": "stdout",
     "output_type": "stream",
     "text": [
      "\r",
      "Epoch 0:   2%|██                                                                                                | 33/1563 [00:02<01:52, 13.59it/s, v_num=15, train_loss=4.590]"
     ]
    },
    {
     "name": "stdout",
     "output_type": "stream",
     "text": [
      "\r",
      "Epoch 0:   2%|██▏                                                                                               | 34/1563 [00:02<01:50, 13.89it/s, v_num=15, train_loss=4.590]"
     ]
    },
    {
     "name": "stdout",
     "output_type": "stream",
     "text": [
      "\r",
      "Epoch 0:   2%|██▏                                                                                               | 34/1563 [00:02<01:52, 13.64it/s, v_num=15, train_loss=4.340]"
     ]
    },
    {
     "name": "stdout",
     "output_type": "stream",
     "text": [
      "\r",
      "Epoch 0:   2%|██▏                                                                                               | 35/1563 [00:02<01:49, 13.93it/s, v_num=15, train_loss=4.340]"
     ]
    },
    {
     "name": "stdout",
     "output_type": "stream",
     "text": [
      "\r",
      "Epoch 0:   2%|██▏                                                                                               | 35/1563 [00:02<01:51, 13.67it/s, v_num=15, train_loss=4.510]"
     ]
    },
    {
     "name": "stdout",
     "output_type": "stream",
     "text": [
      "\r",
      "Epoch 0:   2%|██▎                                                                                               | 36/1563 [00:02<01:49, 13.94it/s, v_num=15, train_loss=4.510]"
     ]
    },
    {
     "name": "stdout",
     "output_type": "stream",
     "text": [
      "\r",
      "Epoch 0:   2%|██▎                                                                                               | 36/1563 [00:02<01:51, 13.71it/s, v_num=15, train_loss=4.500]"
     ]
    },
    {
     "name": "stdout",
     "output_type": "stream",
     "text": [
      "\r",
      "Epoch 0:   2%|██▎                                                                                               | 37/1563 [00:02<01:49, 13.97it/s, v_num=15, train_loss=4.500]"
     ]
    },
    {
     "name": "stdout",
     "output_type": "stream",
     "text": [
      "\r",
      "Epoch 0:   2%|██▎                                                                                               | 37/1563 [00:02<01:51, 13.74it/s, v_num=15, train_loss=4.400]"
     ]
    },
    {
     "name": "stdout",
     "output_type": "stream",
     "text": [
      "\r",
      "Epoch 0:   2%|██▍                                                                                               | 38/1563 [00:02<01:48, 14.00it/s, v_num=15, train_loss=4.400]"
     ]
    },
    {
     "name": "stdout",
     "output_type": "stream",
     "text": [
      "\r",
      "Epoch 0:   2%|██▍                                                                                               | 38/1563 [00:02<01:50, 13.77it/s, v_num=15, train_loss=4.730]"
     ]
    },
    {
     "name": "stdout",
     "output_type": "stream",
     "text": [
      "\r",
      "Epoch 0:   2%|██▍                                                                                               | 39/1563 [00:02<01:48, 14.02it/s, v_num=15, train_loss=4.730]"
     ]
    },
    {
     "name": "stdout",
     "output_type": "stream",
     "text": [
      "\r",
      "Epoch 0:   2%|██▍                                                                                               | 39/1563 [00:02<01:50, 13.80it/s, v_num=15, train_loss=4.680]"
     ]
    },
    {
     "name": "stdout",
     "output_type": "stream",
     "text": [
      "\r",
      "Epoch 0:   3%|██▌                                                                                               | 40/1563 [00:02<01:48, 14.04it/s, v_num=15, train_loss=4.680]"
     ]
    },
    {
     "name": "stdout",
     "output_type": "stream",
     "text": [
      "\r",
      "Epoch 0:   3%|██▌                                                                                               | 40/1563 [00:02<01:50, 13.82it/s, v_num=15, train_loss=4.450]"
     ]
    },
    {
     "name": "stdout",
     "output_type": "stream",
     "text": [
      "\r",
      "Epoch 0:   3%|██▌                                                                                               | 41/1563 [00:02<01:48, 14.06it/s, v_num=15, train_loss=4.450]"
     ]
    },
    {
     "name": "stdout",
     "output_type": "stream",
     "text": [
      "\r",
      "Epoch 0:   3%|██▌                                                                                               | 41/1563 [00:02<01:49, 13.85it/s, v_num=15, train_loss=4.480]"
     ]
    },
    {
     "name": "stdout",
     "output_type": "stream",
     "text": [
      "\r",
      "Epoch 0:   3%|██▋                                                                                               | 42/1563 [00:02<01:47, 14.10it/s, v_num=15, train_loss=4.480]"
     ]
    },
    {
     "name": "stdout",
     "output_type": "stream",
     "text": [
      "\r",
      "Epoch 0:   3%|██▋                                                                                               | 42/1563 [00:03<01:49, 13.88it/s, v_num=15, train_loss=4.630]"
     ]
    },
    {
     "name": "stdout",
     "output_type": "stream",
     "text": [
      "\r",
      "Epoch 0:   3%|██▋                                                                                               | 43/1563 [00:03<01:47, 14.13it/s, v_num=15, train_loss=4.630]"
     ]
    },
    {
     "name": "stdout",
     "output_type": "stream",
     "text": [
      "\r",
      "Epoch 0:   3%|██▋                                                                                               | 43/1563 [00:03<01:49, 13.91it/s, v_num=15, train_loss=4.520]"
     ]
    },
    {
     "name": "stdout",
     "output_type": "stream",
     "text": [
      "\r",
      "Epoch 0:   3%|██▊                                                                                               | 44/1563 [00:03<01:47, 14.15it/s, v_num=15, train_loss=4.520]"
     ]
    },
    {
     "name": "stdout",
     "output_type": "stream",
     "text": [
      "\r",
      "Epoch 0:   3%|██▊                                                                                               | 44/1563 [00:03<01:49, 13.93it/s, v_num=15, train_loss=4.640]"
     ]
    },
    {
     "name": "stdout",
     "output_type": "stream",
     "text": [
      "\r",
      "Epoch 0:   3%|██▊                                                                                               | 45/1563 [00:03<01:47, 14.17it/s, v_num=15, train_loss=4.640]"
     ]
    },
    {
     "name": "stdout",
     "output_type": "stream",
     "text": [
      "\r",
      "Epoch 0:   3%|██▊                                                                                               | 45/1563 [00:03<01:48, 13.96it/s, v_num=15, train_loss=4.670]"
     ]
    },
    {
     "name": "stdout",
     "output_type": "stream",
     "text": [
      "\r",
      "Epoch 0:   3%|██▉                                                                                               | 46/1563 [00:03<01:46, 14.19it/s, v_num=15, train_loss=4.670]"
     ]
    },
    {
     "name": "stdout",
     "output_type": "stream",
     "text": [
      "\r",
      "Epoch 0:   3%|██▉                                                                                               | 46/1563 [00:03<01:48, 13.99it/s, v_num=15, train_loss=4.590]"
     ]
    },
    {
     "name": "stdout",
     "output_type": "stream",
     "text": [
      "\r",
      "Epoch 0:   3%|██▉                                                                                               | 47/1563 [00:03<01:46, 14.20it/s, v_num=15, train_loss=4.590]"
     ]
    },
    {
     "name": "stdout",
     "output_type": "stream",
     "text": [
      "\r",
      "Epoch 0:   3%|██▉                                                                                               | 47/1563 [00:03<01:48, 14.01it/s, v_num=15, train_loss=4.330]"
     ]
    },
    {
     "name": "stdout",
     "output_type": "stream",
     "text": [
      "\r",
      "Epoch 0:   3%|███                                                                                               | 48/1563 [00:03<01:46, 14.23it/s, v_num=15, train_loss=4.330]"
     ]
    },
    {
     "name": "stdout",
     "output_type": "stream",
     "text": [
      "\r",
      "Epoch 0:   3%|███                                                                                               | 48/1563 [00:03<01:47, 14.04it/s, v_num=15, train_loss=4.420]"
     ]
    },
    {
     "name": "stdout",
     "output_type": "stream",
     "text": [
      "\r",
      "Epoch 0:   3%|███                                                                                               | 49/1563 [00:03<01:46, 14.25it/s, v_num=15, train_loss=4.420]"
     ]
    },
    {
     "name": "stdout",
     "output_type": "stream",
     "text": [
      "\r",
      "Epoch 0:   3%|███                                                                                               | 49/1563 [00:03<01:47, 14.06it/s, v_num=15, train_loss=4.420]"
     ]
    },
    {
     "name": "stdout",
     "output_type": "stream",
     "text": [
      "\r",
      "Epoch 0:   3%|███▏                                                                                              | 50/1563 [00:03<01:46, 14.27it/s, v_num=15, train_loss=4.420]"
     ]
    },
    {
     "name": "stdout",
     "output_type": "stream",
     "text": [
      "\r",
      "Epoch 0:   3%|███▏                                                                                              | 50/1563 [00:03<01:47, 14.08it/s, v_num=15, train_loss=4.570]"
     ]
    },
    {
     "name": "stdout",
     "output_type": "stream",
     "text": [
      "\r",
      "Epoch 0:   3%|███▏                                                                                              | 51/1563 [00:03<01:45, 14.27it/s, v_num=15, train_loss=4.570]"
     ]
    },
    {
     "name": "stdout",
     "output_type": "stream",
     "text": [
      "\r",
      "Epoch 0:   3%|███▏                                                                                              | 51/1563 [00:03<01:47, 14.09it/s, v_num=15, train_loss=4.520]"
     ]
    },
    {
     "name": "stdout",
     "output_type": "stream",
     "text": [
      "\r",
      "Epoch 0:   3%|███▎                                                                                              | 52/1563 [00:03<01:45, 14.28it/s, v_num=15, train_loss=4.520]"
     ]
    },
    {
     "name": "stdout",
     "output_type": "stream",
     "text": [
      "\r",
      "Epoch 0:   3%|███▎                                                                                              | 52/1563 [00:03<01:47, 14.10it/s, v_num=15, train_loss=4.660]"
     ]
    },
    {
     "name": "stdout",
     "output_type": "stream",
     "text": [
      "\r",
      "Epoch 0:   3%|███▎                                                                                              | 53/1563 [00:03<01:45, 14.28it/s, v_num=15, train_loss=4.660]"
     ]
    },
    {
     "name": "stdout",
     "output_type": "stream",
     "text": [
      "\r",
      "Epoch 0:   3%|███▎                                                                                              | 53/1563 [00:03<01:46, 14.12it/s, v_num=15, train_loss=4.640]"
     ]
    },
    {
     "name": "stdout",
     "output_type": "stream",
     "text": [
      "\r",
      "Epoch 0:   3%|███▍                                                                                              | 54/1563 [00:03<01:45, 14.30it/s, v_num=15, train_loss=4.640]"
     ]
    },
    {
     "name": "stdout",
     "output_type": "stream",
     "text": [
      "\r",
      "Epoch 0:   3%|███▍                                                                                              | 54/1563 [00:03<01:46, 14.13it/s, v_num=15, train_loss=4.370]"
     ]
    },
    {
     "name": "stdout",
     "output_type": "stream",
     "text": [
      "\r",
      "Epoch 0:   4%|███▍                                                                                              | 55/1563 [00:03<01:45, 14.31it/s, v_num=15, train_loss=4.370]"
     ]
    },
    {
     "name": "stdout",
     "output_type": "stream",
     "text": [
      "\r",
      "Epoch 0:   4%|███▍                                                                                              | 55/1563 [00:03<01:46, 14.14it/s, v_num=15, train_loss=4.540]"
     ]
    },
    {
     "name": "stdout",
     "output_type": "stream",
     "text": [
      "\r",
      "Epoch 0:   4%|███▌                                                                                              | 56/1563 [00:03<01:45, 14.33it/s, v_num=15, train_loss=4.540]"
     ]
    },
    {
     "name": "stdout",
     "output_type": "stream",
     "text": [
      "\r",
      "Epoch 0:   4%|███▌                                                                                              | 56/1563 [00:03<01:46, 14.16it/s, v_num=15, train_loss=4.670]"
     ]
    },
    {
     "name": "stdout",
     "output_type": "stream",
     "text": [
      "\r",
      "Epoch 0:   4%|███▌                                                                                              | 57/1563 [00:03<01:44, 14.35it/s, v_num=15, train_loss=4.670]"
     ]
    },
    {
     "name": "stdout",
     "output_type": "stream",
     "text": [
      "\r",
      "Epoch 0:   4%|███▌                                                                                              | 57/1563 [00:04<01:46, 14.18it/s, v_num=15, train_loss=4.270]"
     ]
    },
    {
     "name": "stdout",
     "output_type": "stream",
     "text": [
      "\r",
      "Epoch 0:   4%|███▋                                                                                              | 58/1563 [00:04<01:44, 14.37it/s, v_num=15, train_loss=4.270]"
     ]
    },
    {
     "name": "stdout",
     "output_type": "stream",
     "text": [
      "\r",
      "Epoch 0:   4%|███▋                                                                                              | 58/1563 [00:04<01:46, 14.19it/s, v_num=15, train_loss=4.670]"
     ]
    },
    {
     "name": "stdout",
     "output_type": "stream",
     "text": [
      "\r",
      "Epoch 0:   4%|███▋                                                                                              | 59/1563 [00:04<01:44, 14.37it/s, v_num=15, train_loss=4.670]"
     ]
    },
    {
     "name": "stdout",
     "output_type": "stream",
     "text": [
      "\r",
      "Epoch 0:   4%|███▋                                                                                              | 59/1563 [00:04<01:45, 14.21it/s, v_num=15, train_loss=4.350]"
     ]
    },
    {
     "name": "stdout",
     "output_type": "stream",
     "text": [
      "\r",
      "Epoch 0:   4%|███▊                                                                                              | 60/1563 [00:04<01:44, 14.39it/s, v_num=15, train_loss=4.350]"
     ]
    },
    {
     "name": "stdout",
     "output_type": "stream",
     "text": [
      "\r",
      "Epoch 0:   4%|███▊                                                                                              | 60/1563 [00:04<01:45, 14.22it/s, v_num=15, train_loss=4.360]"
     ]
    },
    {
     "name": "stdout",
     "output_type": "stream",
     "text": [
      "\r",
      "Epoch 0:   4%|███▊                                                                                              | 61/1563 [00:04<01:44, 14.40it/s, v_num=15, train_loss=4.360]"
     ]
    },
    {
     "name": "stdout",
     "output_type": "stream",
     "text": [
      "\r",
      "Epoch 0:   4%|███▊                                                                                              | 61/1563 [00:04<01:45, 14.24it/s, v_num=15, train_loss=4.590]"
     ]
    },
    {
     "name": "stdout",
     "output_type": "stream",
     "text": [
      "\r",
      "Epoch 0:   4%|███▉                                                                                              | 62/1563 [00:04<01:44, 14.41it/s, v_num=15, train_loss=4.590]"
     ]
    },
    {
     "name": "stdout",
     "output_type": "stream",
     "text": [
      "\r",
      "Epoch 0:   4%|███▉                                                                                              | 62/1563 [00:04<01:45, 14.25it/s, v_num=15, train_loss=4.420]"
     ]
    },
    {
     "name": "stdout",
     "output_type": "stream",
     "text": [
      "\r",
      "Epoch 0:   4%|███▉                                                                                              | 63/1563 [00:04<01:43, 14.42it/s, v_num=15, train_loss=4.420]"
     ]
    },
    {
     "name": "stdout",
     "output_type": "stream",
     "text": [
      "\r",
      "Epoch 0:   4%|███▉                                                                                              | 63/1563 [00:04<01:45, 14.27it/s, v_num=15, train_loss=4.380]"
     ]
    },
    {
     "name": "stdout",
     "output_type": "stream",
     "text": [
      "\r",
      "Epoch 0:   4%|████                                                                                              | 64/1563 [00:04<01:43, 14.43it/s, v_num=15, train_loss=4.380]"
     ]
    },
    {
     "name": "stdout",
     "output_type": "stream",
     "text": [
      "\r",
      "Epoch 0:   4%|████                                                                                              | 64/1563 [00:04<01:44, 14.28it/s, v_num=15, train_loss=4.350]"
     ]
    },
    {
     "name": "stdout",
     "output_type": "stream",
     "text": [
      "\r",
      "Epoch 0:   4%|████                                                                                              | 65/1563 [00:04<01:43, 14.44it/s, v_num=15, train_loss=4.350]"
     ]
    },
    {
     "name": "stdout",
     "output_type": "stream",
     "text": [
      "\r",
      "Epoch 0:   4%|████                                                                                              | 65/1563 [00:04<01:44, 14.29it/s, v_num=15, train_loss=4.320]"
     ]
    },
    {
     "name": "stdout",
     "output_type": "stream",
     "text": [
      "\r",
      "Epoch 0:   4%|████▏                                                                                             | 66/1563 [00:04<01:43, 14.44it/s, v_num=15, train_loss=4.320]"
     ]
    },
    {
     "name": "stdout",
     "output_type": "stream",
     "text": [
      "\r",
      "Epoch 0:   4%|████▏                                                                                             | 66/1563 [00:04<01:44, 14.30it/s, v_num=15, train_loss=4.300]"
     ]
    },
    {
     "name": "stdout",
     "output_type": "stream",
     "text": [
      "\r",
      "Epoch 0:   4%|████▏                                                                                             | 67/1563 [00:04<01:43, 14.45it/s, v_num=15, train_loss=4.300]"
     ]
    },
    {
     "name": "stdout",
     "output_type": "stream",
     "text": [
      "\r",
      "Epoch 0:   4%|████▏                                                                                             | 67/1563 [00:04<01:44, 14.31it/s, v_num=15, train_loss=4.440]"
     ]
    },
    {
     "name": "stdout",
     "output_type": "stream",
     "text": [
      "\r",
      "Epoch 0:   4%|████▎                                                                                             | 68/1563 [00:04<01:43, 14.45it/s, v_num=15, train_loss=4.440]"
     ]
    },
    {
     "name": "stdout",
     "output_type": "stream",
     "text": [
      "\r",
      "Epoch 0:   4%|████▎                                                                                             | 68/1563 [00:04<01:44, 14.32it/s, v_num=15, train_loss=4.260]"
     ]
    },
    {
     "name": "stdout",
     "output_type": "stream",
     "text": [
      "\r",
      "Epoch 0:   4%|████▎                                                                                             | 69/1563 [00:04<01:43, 14.46it/s, v_num=15, train_loss=4.260]"
     ]
    },
    {
     "name": "stdout",
     "output_type": "stream",
     "text": [
      "\r",
      "Epoch 0:   4%|████▎                                                                                             | 69/1563 [00:04<01:44, 14.32it/s, v_num=15, train_loss=4.170]"
     ]
    },
    {
     "name": "stdout",
     "output_type": "stream",
     "text": [
      "\r",
      "Epoch 0:   4%|████▍                                                                                             | 70/1563 [00:04<01:43, 14.46it/s, v_num=15, train_loss=4.170]"
     ]
    },
    {
     "name": "stdout",
     "output_type": "stream",
     "text": [
      "\r",
      "Epoch 0:   4%|████▍                                                                                             | 70/1563 [00:04<01:44, 14.33it/s, v_num=15, train_loss=4.370]"
     ]
    },
    {
     "name": "stdout",
     "output_type": "stream",
     "text": [
      "\r",
      "Epoch 0:   5%|████▍                                                                                             | 71/1563 [00:04<01:43, 14.48it/s, v_num=15, train_loss=4.370]"
     ]
    },
    {
     "name": "stdout",
     "output_type": "stream",
     "text": [
      "\r",
      "Epoch 0:   5%|████▍                                                                                             | 71/1563 [00:04<01:44, 14.34it/s, v_num=15, train_loss=4.500]"
     ]
    },
    {
     "name": "stdout",
     "output_type": "stream",
     "text": [
      "\r",
      "Epoch 0:   5%|████▌                                                                                             | 72/1563 [00:04<01:42, 14.49it/s, v_num=15, train_loss=4.500]"
     ]
    },
    {
     "name": "stdout",
     "output_type": "stream",
     "text": [
      "\r",
      "Epoch 0:   5%|████▌                                                                                             | 72/1563 [00:05<01:43, 14.35it/s, v_num=15, train_loss=4.500]"
     ]
    },
    {
     "name": "stdout",
     "output_type": "stream",
     "text": [
      "\r",
      "Epoch 0:   5%|████▌                                                                                             | 73/1563 [00:05<01:42, 14.50it/s, v_num=15, train_loss=4.500]"
     ]
    },
    {
     "name": "stdout",
     "output_type": "stream",
     "text": [
      "\r",
      "Epoch 0:   5%|████▌                                                                                             | 73/1563 [00:05<01:43, 14.36it/s, v_num=15, train_loss=4.330]"
     ]
    },
    {
     "name": "stdout",
     "output_type": "stream",
     "text": [
      "\r",
      "Epoch 0:   5%|████▋                                                                                             | 74/1563 [00:05<01:42, 14.51it/s, v_num=15, train_loss=4.330]"
     ]
    },
    {
     "name": "stdout",
     "output_type": "stream",
     "text": [
      "\r",
      "Epoch 0:   5%|████▋                                                                                             | 74/1563 [00:05<01:43, 14.37it/s, v_num=15, train_loss=4.290]"
     ]
    },
    {
     "name": "stdout",
     "output_type": "stream",
     "text": [
      "\r",
      "Epoch 0:   5%|████▋                                                                                             | 75/1563 [00:05<01:42, 14.52it/s, v_num=15, train_loss=4.290]"
     ]
    },
    {
     "name": "stdout",
     "output_type": "stream",
     "text": [
      "\r",
      "Epoch 0:   5%|████▋                                                                                             | 75/1563 [00:05<01:43, 14.39it/s, v_num=15, train_loss=4.530]"
     ]
    },
    {
     "name": "stdout",
     "output_type": "stream",
     "text": [
      "\r",
      "Epoch 0:   5%|████▊                                                                                             | 76/1563 [00:05<01:42, 14.53it/s, v_num=15, train_loss=4.530]"
     ]
    },
    {
     "name": "stdout",
     "output_type": "stream",
     "text": [
      "\r",
      "Epoch 0:   5%|████▊                                                                                             | 76/1563 [00:05<01:43, 14.40it/s, v_num=15, train_loss=4.180]"
     ]
    },
    {
     "name": "stdout",
     "output_type": "stream",
     "text": [
      "\r",
      "Epoch 0:   5%|████▊                                                                                             | 77/1563 [00:05<01:42, 14.53it/s, v_num=15, train_loss=4.180]"
     ]
    },
    {
     "name": "stdout",
     "output_type": "stream",
     "text": [
      "\r",
      "Epoch 0:   5%|████▊                                                                                             | 77/1563 [00:05<01:43, 14.41it/s, v_num=15, train_loss=4.290]"
     ]
    },
    {
     "name": "stdout",
     "output_type": "stream",
     "text": [
      "\r",
      "Epoch 0:   5%|████▉                                                                                             | 78/1563 [00:05<01:42, 14.54it/s, v_num=15, train_loss=4.290]"
     ]
    },
    {
     "name": "stdout",
     "output_type": "stream",
     "text": [
      "\r",
      "Epoch 0:   5%|████▉                                                                                             | 78/1563 [00:05<01:43, 14.41it/s, v_num=15, train_loss=4.750]"
     ]
    },
    {
     "name": "stdout",
     "output_type": "stream",
     "text": [
      "\r",
      "Epoch 0:   5%|████▉                                                                                             | 79/1563 [00:05<01:41, 14.55it/s, v_num=15, train_loss=4.750]"
     ]
    },
    {
     "name": "stdout",
     "output_type": "stream",
     "text": [
      "\r",
      "Epoch 0:   5%|████▉                                                                                             | 79/1563 [00:05<01:42, 14.42it/s, v_num=15, train_loss=4.360]"
     ]
    },
    {
     "name": "stdout",
     "output_type": "stream",
     "text": [
      "\r",
      "Epoch 0:   5%|█████                                                                                             | 80/1563 [00:05<01:41, 14.55it/s, v_num=15, train_loss=4.360]"
     ]
    },
    {
     "name": "stdout",
     "output_type": "stream",
     "text": [
      "\r",
      "Epoch 0:   5%|█████                                                                                             | 80/1563 [00:05<01:42, 14.43it/s, v_num=15, train_loss=4.470]"
     ]
    },
    {
     "name": "stdout",
     "output_type": "stream",
     "text": [
      "\r",
      "Epoch 0:   5%|█████                                                                                             | 81/1563 [00:05<01:41, 14.56it/s, v_num=15, train_loss=4.470]"
     ]
    },
    {
     "name": "stdout",
     "output_type": "stream",
     "text": [
      "\r",
      "Epoch 0:   5%|█████                                                                                             | 81/1563 [00:05<01:42, 14.44it/s, v_num=15, train_loss=4.360]"
     ]
    },
    {
     "name": "stdout",
     "output_type": "stream",
     "text": [
      "\r",
      "Epoch 0:   5%|█████▏                                                                                            | 82/1563 [00:05<01:41, 14.56it/s, v_num=15, train_loss=4.360]"
     ]
    },
    {
     "name": "stdout",
     "output_type": "stream",
     "text": [
      "\r",
      "Epoch 0:   5%|█████▏                                                                                            | 82/1563 [00:05<01:42, 14.45it/s, v_num=15, train_loss=4.370]"
     ]
    },
    {
     "name": "stdout",
     "output_type": "stream",
     "text": [
      "\r",
      "Epoch 0:   5%|█████▏                                                                                            | 83/1563 [00:05<01:41, 14.56it/s, v_num=15, train_loss=4.370]"
     ]
    },
    {
     "name": "stdout",
     "output_type": "stream",
     "text": [
      "\r",
      "Epoch 0:   5%|█████▏                                                                                            | 83/1563 [00:05<01:42, 14.45it/s, v_num=15, train_loss=4.280]"
     ]
    },
    {
     "name": "stdout",
     "output_type": "stream",
     "text": [
      "\r",
      "Epoch 0:   5%|█████▎                                                                                            | 84/1563 [00:05<01:41, 14.57it/s, v_num=15, train_loss=4.280]"
     ]
    },
    {
     "name": "stdout",
     "output_type": "stream",
     "text": [
      "\r",
      "Epoch 0:   5%|█████▎                                                                                            | 84/1563 [00:05<01:42, 14.46it/s, v_num=15, train_loss=4.560]"
     ]
    },
    {
     "name": "stdout",
     "output_type": "stream",
     "text": [
      "\r",
      "Epoch 0:   5%|█████▎                                                                                            | 85/1563 [00:05<01:41, 14.57it/s, v_num=15, train_loss=4.560]"
     ]
    },
    {
     "name": "stdout",
     "output_type": "stream",
     "text": [
      "\r",
      "Epoch 0:   5%|█████▎                                                                                            | 85/1563 [00:05<01:42, 14.46it/s, v_num=15, train_loss=4.430]"
     ]
    },
    {
     "name": "stdout",
     "output_type": "stream",
     "text": [
      "\r",
      "Epoch 0:   6%|█████▍                                                                                            | 86/1563 [00:05<01:41, 14.58it/s, v_num=15, train_loss=4.430]"
     ]
    },
    {
     "name": "stdout",
     "output_type": "stream",
     "text": [
      "\r",
      "Epoch 0:   6%|█████▍                                                                                            | 86/1563 [00:05<01:42, 14.47it/s, v_num=15, train_loss=4.410]"
     ]
    },
    {
     "name": "stdout",
     "output_type": "stream",
     "text": [
      "\r",
      "Epoch 0:   6%|█████▍                                                                                            | 87/1563 [00:05<01:41, 14.58it/s, v_num=15, train_loss=4.410]"
     ]
    },
    {
     "name": "stdout",
     "output_type": "stream",
     "text": [
      "\r",
      "Epoch 0:   6%|█████▍                                                                                            | 87/1563 [00:06<01:42, 14.47it/s, v_num=15, train_loss=4.320]"
     ]
    },
    {
     "name": "stdout",
     "output_type": "stream",
     "text": [
      "\r",
      "Epoch 0:   6%|█████▌                                                                                            | 88/1563 [00:06<01:41, 14.58it/s, v_num=15, train_loss=4.320]"
     ]
    },
    {
     "name": "stdout",
     "output_type": "stream",
     "text": [
      "\r",
      "Epoch 0:   6%|█████▌                                                                                            | 88/1563 [00:06<01:41, 14.47it/s, v_num=15, train_loss=4.530]"
     ]
    },
    {
     "name": "stdout",
     "output_type": "stream",
     "text": [
      "\r",
      "Epoch 0:   6%|█████▌                                                                                            | 89/1563 [00:06<01:41, 14.58it/s, v_num=15, train_loss=4.530]"
     ]
    },
    {
     "name": "stdout",
     "output_type": "stream",
     "text": [
      "\r",
      "Epoch 0:   6%|█████▌                                                                                            | 89/1563 [00:06<01:41, 14.48it/s, v_num=15, train_loss=4.410]"
     ]
    },
    {
     "name": "stdout",
     "output_type": "stream",
     "text": [
      "\r",
      "Epoch 0:   6%|█████▋                                                                                            | 90/1563 [00:06<01:40, 14.59it/s, v_num=15, train_loss=4.410]"
     ]
    },
    {
     "name": "stdout",
     "output_type": "stream",
     "text": [
      "\r",
      "Epoch 0:   6%|█████▋                                                                                            | 90/1563 [00:06<01:41, 14.48it/s, v_num=15, train_loss=4.160]"
     ]
    },
    {
     "name": "stdout",
     "output_type": "stream",
     "text": [
      "\r",
      "Epoch 0:   6%|█████▋                                                                                            | 91/1563 [00:06<01:40, 14.59it/s, v_num=15, train_loss=4.160]"
     ]
    },
    {
     "name": "stdout",
     "output_type": "stream",
     "text": [
      "\r",
      "Epoch 0:   6%|█████▋                                                                                            | 91/1563 [00:06<01:41, 14.49it/s, v_num=15, train_loss=4.390]"
     ]
    },
    {
     "name": "stdout",
     "output_type": "stream",
     "text": [
      "\r",
      "Epoch 0:   6%|█████▊                                                                                            | 92/1563 [00:06<01:40, 14.59it/s, v_num=15, train_loss=4.390]"
     ]
    },
    {
     "name": "stdout",
     "output_type": "stream",
     "text": [
      "\r",
      "Epoch 0:   6%|█████▊                                                                                            | 92/1563 [00:06<01:41, 14.49it/s, v_num=15, train_loss=4.280]"
     ]
    },
    {
     "name": "stdout",
     "output_type": "stream",
     "text": [
      "\r",
      "Epoch 0:   6%|█████▊                                                                                            | 93/1563 [00:06<01:40, 14.60it/s, v_num=15, train_loss=4.280]"
     ]
    },
    {
     "name": "stdout",
     "output_type": "stream",
     "text": [
      "\r",
      "Epoch 0:   6%|█████▊                                                                                            | 93/1563 [00:06<01:41, 14.50it/s, v_num=15, train_loss=4.200]"
     ]
    },
    {
     "name": "stdout",
     "output_type": "stream",
     "text": [
      "\r",
      "Epoch 0:   6%|█████▉                                                                                            | 94/1563 [00:06<01:40, 14.61it/s, v_num=15, train_loss=4.200]"
     ]
    },
    {
     "name": "stdout",
     "output_type": "stream",
     "text": [
      "\r",
      "Epoch 0:   6%|█████▉                                                                                            | 94/1563 [00:06<01:41, 14.50it/s, v_num=15, train_loss=4.360]"
     ]
    },
    {
     "name": "stdout",
     "output_type": "stream",
     "text": [
      "\r",
      "Epoch 0:   6%|█████▉                                                                                            | 95/1563 [00:06<01:40, 14.61it/s, v_num=15, train_loss=4.360]"
     ]
    },
    {
     "name": "stdout",
     "output_type": "stream",
     "text": [
      "\r",
      "Epoch 0:   6%|█████▉                                                                                            | 95/1563 [00:06<01:41, 14.51it/s, v_num=15, train_loss=4.280]"
     ]
    },
    {
     "name": "stdout",
     "output_type": "stream",
     "text": [
      "\r",
      "Epoch 0:   6%|██████                                                                                            | 96/1563 [00:06<01:40, 14.61it/s, v_num=15, train_loss=4.280]"
     ]
    },
    {
     "name": "stdout",
     "output_type": "stream",
     "text": [
      "\r",
      "Epoch 0:   6%|██████                                                                                            | 96/1563 [00:06<01:41, 14.51it/s, v_num=15, train_loss=4.580]"
     ]
    },
    {
     "name": "stdout",
     "output_type": "stream",
     "text": [
      "\r",
      "Epoch 0:   6%|██████                                                                                            | 97/1563 [00:06<01:40, 14.61it/s, v_num=15, train_loss=4.580]"
     ]
    },
    {
     "name": "stdout",
     "output_type": "stream",
     "text": [
      "\r",
      "Epoch 0:   6%|██████                                                                                            | 97/1563 [00:06<01:40, 14.52it/s, v_num=15, train_loss=4.260]"
     ]
    },
    {
     "name": "stdout",
     "output_type": "stream",
     "text": [
      "\r",
      "Epoch 0:   6%|██████▏                                                                                           | 98/1563 [00:06<01:40, 14.62it/s, v_num=15, train_loss=4.260]"
     ]
    },
    {
     "name": "stdout",
     "output_type": "stream",
     "text": [
      "\r",
      "Epoch 0:   6%|██████▏                                                                                           | 98/1563 [00:06<01:40, 14.52it/s, v_num=15, train_loss=4.620]"
     ]
    },
    {
     "name": "stdout",
     "output_type": "stream",
     "text": [
      "\r",
      "Epoch 0:   6%|██████▏                                                                                           | 99/1563 [00:06<01:40, 14.62it/s, v_num=15, train_loss=4.620]"
     ]
    },
    {
     "name": "stdout",
     "output_type": "stream",
     "text": [
      "\r",
      "Epoch 0:   6%|██████▏                                                                                           | 99/1563 [00:06<01:40, 14.53it/s, v_num=15, train_loss=4.510]"
     ]
    },
    {
     "name": "stdout",
     "output_type": "stream",
     "text": [
      "\r",
      "Epoch 0:   6%|██████▏                                                                                          | 100/1563 [00:06<01:40, 14.62it/s, v_num=15, train_loss=4.510]"
     ]
    },
    {
     "name": "stdout",
     "output_type": "stream",
     "text": [
      "\r",
      "Epoch 0:   6%|██████▏                                                                                          | 100/1563 [00:06<01:40, 14.53it/s, v_num=15, train_loss=4.530]"
     ]
    },
    {
     "name": "stdout",
     "output_type": "stream",
     "text": [
      "\r",
      "Epoch 0:   6%|██████▎                                                                                          | 101/1563 [00:06<01:39, 14.62it/s, v_num=15, train_loss=4.530]"
     ]
    },
    {
     "name": "stdout",
     "output_type": "stream",
     "text": [
      "\r",
      "Epoch 0:   6%|██████▎                                                                                          | 101/1563 [00:06<01:40, 14.53it/s, v_num=15, train_loss=4.160]"
     ]
    },
    {
     "name": "stdout",
     "output_type": "stream",
     "text": [
      "\r",
      "Epoch 0:   7%|██████▎                                                                                          | 102/1563 [00:06<01:39, 14.63it/s, v_num=15, train_loss=4.160]"
     ]
    },
    {
     "name": "stdout",
     "output_type": "stream",
     "text": [
      "\r",
      "Epoch 0:   7%|██████▎                                                                                          | 102/1563 [00:07<01:40, 14.54it/s, v_num=15, train_loss=4.430]"
     ]
    },
    {
     "name": "stdout",
     "output_type": "stream",
     "text": [
      "\r",
      "Epoch 0:   7%|██████▍                                                                                          | 103/1563 [00:07<01:39, 14.64it/s, v_num=15, train_loss=4.430]"
     ]
    },
    {
     "name": "stdout",
     "output_type": "stream",
     "text": [
      "\r",
      "Epoch 0:   7%|██████▍                                                                                          | 103/1563 [00:07<01:40, 14.54it/s, v_num=15, train_loss=4.470]"
     ]
    },
    {
     "name": "stdout",
     "output_type": "stream",
     "text": [
      "\r",
      "Epoch 0:   7%|██████▍                                                                                          | 104/1563 [00:07<01:39, 14.64it/s, v_num=15, train_loss=4.470]"
     ]
    },
    {
     "name": "stdout",
     "output_type": "stream",
     "text": [
      "\r",
      "Epoch 0:   7%|██████▍                                                                                          | 104/1563 [00:07<01:40, 14.55it/s, v_num=15, train_loss=4.330]"
     ]
    },
    {
     "name": "stdout",
     "output_type": "stream",
     "text": [
      "\r",
      "Epoch 0:   7%|██████▌                                                                                          | 105/1563 [00:07<01:39, 14.65it/s, v_num=15, train_loss=4.330]"
     ]
    },
    {
     "name": "stdout",
     "output_type": "stream",
     "text": [
      "\r",
      "Epoch 0:   7%|██████▌                                                                                          | 105/1563 [00:07<01:40, 14.55it/s, v_num=15, train_loss=4.270]"
     ]
    },
    {
     "name": "stdout",
     "output_type": "stream",
     "text": [
      "\r",
      "Epoch 0:   7%|██████▌                                                                                          | 106/1563 [00:07<01:39, 14.65it/s, v_num=15, train_loss=4.270]"
     ]
    },
    {
     "name": "stdout",
     "output_type": "stream",
     "text": [
      "\r",
      "Epoch 0:   7%|██████▌                                                                                          | 106/1563 [00:07<01:40, 14.56it/s, v_num=15, train_loss=4.160]"
     ]
    },
    {
     "name": "stdout",
     "output_type": "stream",
     "text": [
      "\r",
      "Epoch 0:   7%|██████▋                                                                                          | 107/1563 [00:07<01:39, 14.65it/s, v_num=15, train_loss=4.160]"
     ]
    },
    {
     "name": "stdout",
     "output_type": "stream",
     "text": [
      "\r",
      "Epoch 0:   7%|██████▋                                                                                          | 107/1563 [00:07<01:39, 14.56it/s, v_num=15, train_loss=4.380]"
     ]
    },
    {
     "name": "stdout",
     "output_type": "stream",
     "text": [
      "\r",
      "Epoch 0:   7%|██████▋                                                                                          | 108/1563 [00:07<01:39, 14.66it/s, v_num=15, train_loss=4.380]"
     ]
    },
    {
     "name": "stdout",
     "output_type": "stream",
     "text": [
      "\r",
      "Epoch 0:   7%|██████▋                                                                                          | 108/1563 [00:07<01:39, 14.57it/s, v_num=15, train_loss=4.210]"
     ]
    },
    {
     "name": "stdout",
     "output_type": "stream",
     "text": [
      "\r",
      "Epoch 0:   7%|██████▊                                                                                          | 109/1563 [00:07<01:39, 14.67it/s, v_num=15, train_loss=4.210]"
     ]
    },
    {
     "name": "stdout",
     "output_type": "stream",
     "text": [
      "\r",
      "Epoch 0:   7%|██████▊                                                                                          | 109/1563 [00:07<01:39, 14.57it/s, v_num=15, train_loss=4.320]"
     ]
    },
    {
     "name": "stdout",
     "output_type": "stream",
     "text": [
      "\r",
      "Epoch 0:   7%|██████▊                                                                                          | 110/1563 [00:07<01:39, 14.67it/s, v_num=15, train_loss=4.320]"
     ]
    },
    {
     "name": "stdout",
     "output_type": "stream",
     "text": [
      "\r",
      "Epoch 0:   7%|██████▊                                                                                          | 110/1563 [00:07<01:39, 14.58it/s, v_num=15, train_loss=4.040]"
     ]
    },
    {
     "name": "stdout",
     "output_type": "stream",
     "text": [
      "\r",
      "Epoch 0:   7%|██████▉                                                                                          | 111/1563 [00:07<01:39, 14.67it/s, v_num=15, train_loss=4.040]"
     ]
    },
    {
     "name": "stdout",
     "output_type": "stream",
     "text": [
      "\r",
      "Epoch 0:   7%|██████▉                                                                                          | 111/1563 [00:07<01:39, 14.58it/s, v_num=15, train_loss=4.500]"
     ]
    },
    {
     "name": "stdout",
     "output_type": "stream",
     "text": [
      "\r",
      "Epoch 0:   7%|██████▉                                                                                          | 112/1563 [00:07<01:38, 14.67it/s, v_num=15, train_loss=4.500]"
     ]
    },
    {
     "name": "stdout",
     "output_type": "stream",
     "text": [
      "\r",
      "Epoch 0:   7%|██████▉                                                                                          | 112/1563 [00:07<01:39, 14.58it/s, v_num=15, train_loss=4.130]"
     ]
    },
    {
     "name": "stdout",
     "output_type": "stream",
     "text": [
      "\r",
      "Epoch 0:   7%|███████                                                                                          | 113/1563 [00:07<01:38, 14.67it/s, v_num=15, train_loss=4.130]"
     ]
    },
    {
     "name": "stdout",
     "output_type": "stream",
     "text": [
      "\r",
      "Epoch 0:   7%|███████                                                                                          | 113/1563 [00:07<01:39, 14.59it/s, v_num=15, train_loss=4.520]"
     ]
    },
    {
     "name": "stdout",
     "output_type": "stream",
     "text": [
      "\r",
      "Epoch 0:   7%|███████                                                                                          | 114/1563 [00:07<01:38, 14.67it/s, v_num=15, train_loss=4.520]"
     ]
    },
    {
     "name": "stdout",
     "output_type": "stream",
     "text": [
      "\r",
      "Epoch 0:   7%|███████                                                                                          | 114/1563 [00:07<01:39, 14.59it/s, v_num=15, train_loss=4.110]"
     ]
    },
    {
     "name": "stdout",
     "output_type": "stream",
     "text": [
      "\r",
      "Epoch 0:   7%|███████▏                                                                                         | 115/1563 [00:07<01:38, 14.68it/s, v_num=15, train_loss=4.110]"
     ]
    },
    {
     "name": "stdout",
     "output_type": "stream",
     "text": [
      "\r",
      "Epoch 0:   7%|███████▏                                                                                         | 115/1563 [00:07<01:39, 14.59it/s, v_num=15, train_loss=4.120]"
     ]
    },
    {
     "name": "stdout",
     "output_type": "stream",
     "text": [
      "\r",
      "Epoch 0:   7%|███████▏                                                                                         | 116/1563 [00:07<01:38, 14.68it/s, v_num=15, train_loss=4.120]"
     ]
    },
    {
     "name": "stdout",
     "output_type": "stream",
     "text": [
      "\r",
      "Epoch 0:   7%|███████▏                                                                                         | 116/1563 [00:07<01:39, 14.60it/s, v_num=15, train_loss=4.350]"
     ]
    },
    {
     "name": "stdout",
     "output_type": "stream",
     "text": [
      "\r",
      "Epoch 0:   7%|███████▎                                                                                         | 117/1563 [00:07<01:38, 14.68it/s, v_num=15, train_loss=4.350]"
     ]
    },
    {
     "name": "stdout",
     "output_type": "stream",
     "text": [
      "\r",
      "Epoch 0:   7%|███████▎                                                                                         | 117/1563 [00:08<01:39, 14.60it/s, v_num=15, train_loss=4.610]"
     ]
    },
    {
     "name": "stdout",
     "output_type": "stream",
     "text": [
      "\r",
      "Epoch 0:   8%|███████▎                                                                                         | 118/1563 [00:08<01:38, 14.68it/s, v_num=15, train_loss=4.610]"
     ]
    },
    {
     "name": "stdout",
     "output_type": "stream",
     "text": [
      "\r",
      "Epoch 0:   8%|███████▎                                                                                         | 118/1563 [00:08<01:38, 14.60it/s, v_num=15, train_loss=4.490]"
     ]
    },
    {
     "name": "stdout",
     "output_type": "stream",
     "text": [
      "\r",
      "Epoch 0:   8%|███████▍                                                                                         | 119/1563 [00:08<01:38, 14.69it/s, v_num=15, train_loss=4.490]"
     ]
    },
    {
     "name": "stdout",
     "output_type": "stream",
     "text": [
      "\r",
      "Epoch 0:   8%|███████▍                                                                                         | 119/1563 [00:08<01:38, 14.60it/s, v_num=15, train_loss=4.370]"
     ]
    },
    {
     "name": "stdout",
     "output_type": "stream",
     "text": [
      "\r",
      "Epoch 0:   8%|███████▍                                                                                         | 120/1563 [00:08<01:38, 14.69it/s, v_num=15, train_loss=4.370]"
     ]
    },
    {
     "name": "stdout",
     "output_type": "stream",
     "text": [
      "\r",
      "Epoch 0:   8%|███████▍                                                                                         | 120/1563 [00:08<01:38, 14.61it/s, v_num=15, train_loss=4.390]"
     ]
    },
    {
     "name": "stdout",
     "output_type": "stream",
     "text": [
      "\r",
      "Epoch 0:   8%|███████▌                                                                                         | 121/1563 [00:08<01:38, 14.69it/s, v_num=15, train_loss=4.390]"
     ]
    },
    {
     "name": "stdout",
     "output_type": "stream",
     "text": [
      "\r",
      "Epoch 0:   8%|███████▌                                                                                         | 121/1563 [00:08<01:38, 14.61it/s, v_num=15, train_loss=4.400]"
     ]
    },
    {
     "name": "stdout",
     "output_type": "stream",
     "text": [
      "\r",
      "Epoch 0:   8%|███████▌                                                                                         | 122/1563 [00:08<01:38, 14.70it/s, v_num=15, train_loss=4.400]"
     ]
    },
    {
     "name": "stdout",
     "output_type": "stream",
     "text": [
      "\r",
      "Epoch 0:   8%|███████▌                                                                                         | 122/1563 [00:08<01:38, 14.62it/s, v_num=15, train_loss=4.630]"
     ]
    },
    {
     "name": "stdout",
     "output_type": "stream",
     "text": [
      "\r",
      "Epoch 0:   8%|███████▋                                                                                         | 123/1563 [00:08<01:37, 14.70it/s, v_num=15, train_loss=4.630]"
     ]
    },
    {
     "name": "stdout",
     "output_type": "stream",
     "text": [
      "\r",
      "Epoch 0:   8%|███████▋                                                                                         | 123/1563 [00:08<01:38, 14.62it/s, v_num=15, train_loss=4.440]"
     ]
    },
    {
     "name": "stdout",
     "output_type": "stream",
     "text": [
      "\r",
      "Epoch 0:   8%|███████▋                                                                                         | 124/1563 [00:08<01:37, 14.71it/s, v_num=15, train_loss=4.440]"
     ]
    },
    {
     "name": "stdout",
     "output_type": "stream",
     "text": [
      "\r",
      "Epoch 0:   8%|███████▋                                                                                         | 124/1563 [00:08<01:38, 14.63it/s, v_num=15, train_loss=4.300]"
     ]
    },
    {
     "name": "stdout",
     "output_type": "stream",
     "text": [
      "\r",
      "Epoch 0:   8%|███████▊                                                                                         | 125/1563 [00:08<01:37, 14.71it/s, v_num=15, train_loss=4.300]"
     ]
    },
    {
     "name": "stdout",
     "output_type": "stream",
     "text": [
      "\r",
      "Epoch 0:   8%|███████▊                                                                                         | 125/1563 [00:08<01:38, 14.63it/s, v_num=15, train_loss=4.430]"
     ]
    },
    {
     "name": "stdout",
     "output_type": "stream",
     "text": [
      "\r",
      "Epoch 0:   8%|███████▊                                                                                         | 126/1563 [00:08<01:37, 14.71it/s, v_num=15, train_loss=4.430]"
     ]
    },
    {
     "name": "stdout",
     "output_type": "stream",
     "text": [
      "\r",
      "Epoch 0:   8%|███████▊                                                                                         | 126/1563 [00:08<01:38, 14.63it/s, v_num=15, train_loss=4.290]"
     ]
    },
    {
     "name": "stdout",
     "output_type": "stream",
     "text": [
      "\r",
      "Epoch 0:   8%|███████▉                                                                                         | 127/1563 [00:08<01:37, 14.71it/s, v_num=15, train_loss=4.290]"
     ]
    },
    {
     "name": "stdout",
     "output_type": "stream",
     "text": [
      "\r",
      "Epoch 0:   8%|███████▉                                                                                         | 127/1563 [00:08<01:38, 14.63it/s, v_num=15, train_loss=4.640]"
     ]
    },
    {
     "name": "stdout",
     "output_type": "stream",
     "text": [
      "\r",
      "Epoch 0:   8%|███████▉                                                                                         | 128/1563 [00:08<01:37, 14.71it/s, v_num=15, train_loss=4.640]"
     ]
    },
    {
     "name": "stdout",
     "output_type": "stream",
     "text": [
      "\r",
      "Epoch 0:   8%|███████▉                                                                                         | 128/1563 [00:08<01:38, 14.64it/s, v_num=15, train_loss=4.180]"
     ]
    },
    {
     "name": "stdout",
     "output_type": "stream",
     "text": [
      "\r",
      "Epoch 0:   8%|████████                                                                                         | 129/1563 [00:08<01:37, 14.71it/s, v_num=15, train_loss=4.180]"
     ]
    },
    {
     "name": "stdout",
     "output_type": "stream",
     "text": [
      "\r",
      "Epoch 0:   8%|████████                                                                                         | 129/1563 [00:08<01:37, 14.64it/s, v_num=15, train_loss=4.180]"
     ]
    },
    {
     "name": "stdout",
     "output_type": "stream",
     "text": [
      "\r",
      "Epoch 0:   8%|████████                                                                                         | 130/1563 [00:08<01:37, 14.72it/s, v_num=15, train_loss=4.180]"
     ]
    },
    {
     "name": "stdout",
     "output_type": "stream",
     "text": [
      "\r",
      "Epoch 0:   8%|████████                                                                                         | 130/1563 [00:08<01:37, 14.64it/s, v_num=15, train_loss=4.380]"
     ]
    },
    {
     "name": "stdout",
     "output_type": "stream",
     "text": [
      "\r",
      "Epoch 0:   8%|████████▏                                                                                        | 131/1563 [00:08<01:37, 14.73it/s, v_num=15, train_loss=4.380]"
     ]
    },
    {
     "name": "stdout",
     "output_type": "stream",
     "text": [
      "\r",
      "Epoch 0:   8%|████████▏                                                                                        | 131/1563 [00:08<01:37, 14.65it/s, v_num=15, train_loss=4.460]"
     ]
    },
    {
     "name": "stdout",
     "output_type": "stream",
     "text": [
      "\r",
      "Epoch 0:   8%|████████▏                                                                                        | 132/1563 [00:08<01:37, 14.73it/s, v_num=15, train_loss=4.460]"
     ]
    },
    {
     "name": "stdout",
     "output_type": "stream",
     "text": [
      "\r",
      "Epoch 0:   8%|████████▏                                                                                        | 132/1563 [00:09<01:37, 14.65it/s, v_num=15, train_loss=4.480]"
     ]
    },
    {
     "name": "stdout",
     "output_type": "stream",
     "text": [
      "\r",
      "Epoch 0:   9%|████████▎                                                                                        | 133/1563 [00:09<01:37, 14.73it/s, v_num=15, train_loss=4.480]"
     ]
    },
    {
     "name": "stdout",
     "output_type": "stream",
     "text": [
      "\r",
      "Epoch 0:   9%|████████▎                                                                                        | 133/1563 [00:09<01:37, 14.66it/s, v_num=15, train_loss=4.510]"
     ]
    },
    {
     "name": "stdout",
     "output_type": "stream",
     "text": [
      "\r",
      "Epoch 0:   9%|████████▎                                                                                        | 134/1563 [00:09<01:36, 14.74it/s, v_num=15, train_loss=4.510]"
     ]
    },
    {
     "name": "stdout",
     "output_type": "stream",
     "text": [
      "\r",
      "Epoch 0:   9%|████████▎                                                                                        | 134/1563 [00:09<01:37, 14.66it/s, v_num=15, train_loss=4.510]"
     ]
    },
    {
     "name": "stdout",
     "output_type": "stream",
     "text": [
      "\r",
      "Epoch 0:   9%|████████▍                                                                                        | 135/1563 [00:09<01:36, 14.74it/s, v_num=15, train_loss=4.510]"
     ]
    },
    {
     "name": "stdout",
     "output_type": "stream",
     "text": [
      "\r",
      "Epoch 0:   9%|████████▍                                                                                        | 135/1563 [00:09<01:37, 14.66it/s, v_num=15, train_loss=4.290]"
     ]
    },
    {
     "name": "stdout",
     "output_type": "stream",
     "text": [
      "\r",
      "Epoch 0:   9%|████████▍                                                                                        | 136/1563 [00:09<01:36, 14.74it/s, v_num=15, train_loss=4.290]"
     ]
    },
    {
     "name": "stdout",
     "output_type": "stream",
     "text": [
      "\r",
      "Epoch 0:   9%|████████▍                                                                                        | 136/1563 [00:09<01:37, 14.67it/s, v_num=15, train_loss=4.430]"
     ]
    },
    {
     "name": "stdout",
     "output_type": "stream",
     "text": [
      "\r",
      "Epoch 0:   9%|████████▌                                                                                        | 137/1563 [00:09<01:36, 14.75it/s, v_num=15, train_loss=4.430]"
     ]
    },
    {
     "name": "stdout",
     "output_type": "stream",
     "text": [
      "\r",
      "Epoch 0:   9%|████████▌                                                                                        | 137/1563 [00:09<01:37, 14.67it/s, v_num=15, train_loss=4.310]"
     ]
    },
    {
     "name": "stdout",
     "output_type": "stream",
     "text": [
      "\r",
      "Epoch 0:   9%|████████▌                                                                                        | 138/1563 [00:09<01:36, 14.75it/s, v_num=15, train_loss=4.310]"
     ]
    },
    {
     "name": "stdout",
     "output_type": "stream",
     "text": [
      "\r",
      "Epoch 0:   9%|████████▌                                                                                        | 138/1563 [00:09<01:37, 14.68it/s, v_num=15, train_loss=4.310]"
     ]
    },
    {
     "name": "stdout",
     "output_type": "stream",
     "text": [
      "\r",
      "Epoch 0:   9%|████████▋                                                                                        | 139/1563 [00:09<01:36, 14.75it/s, v_num=15, train_loss=4.310]"
     ]
    },
    {
     "name": "stdout",
     "output_type": "stream",
     "text": [
      "\r",
      "Epoch 0:   9%|████████▋                                                                                        | 139/1563 [00:09<01:37, 14.68it/s, v_num=15, train_loss=4.490]"
     ]
    },
    {
     "name": "stdout",
     "output_type": "stream",
     "text": [
      "\r",
      "Epoch 0:   9%|████████▋                                                                                        | 140/1563 [00:09<01:36, 14.76it/s, v_num=15, train_loss=4.490]"
     ]
    },
    {
     "name": "stdout",
     "output_type": "stream",
     "text": [
      "\r",
      "Epoch 0:   9%|████████▋                                                                                        | 140/1563 [00:09<01:36, 14.68it/s, v_num=15, train_loss=4.200]"
     ]
    },
    {
     "name": "stdout",
     "output_type": "stream",
     "text": [
      "\r",
      "Epoch 0:   9%|████████▊                                                                                        | 141/1563 [00:09<01:36, 14.75it/s, v_num=15, train_loss=4.200]"
     ]
    },
    {
     "name": "stdout",
     "output_type": "stream",
     "text": [
      "\r",
      "Epoch 0:   9%|████████▊                                                                                        | 141/1563 [00:09<01:36, 14.69it/s, v_num=15, train_loss=4.390]"
     ]
    },
    {
     "name": "stdout",
     "output_type": "stream",
     "text": [
      "\r",
      "Epoch 0:   9%|████████▊                                                                                        | 142/1563 [00:09<01:36, 14.76it/s, v_num=15, train_loss=4.390]"
     ]
    },
    {
     "name": "stdout",
     "output_type": "stream",
     "text": [
      "\r",
      "Epoch 0:   9%|████████▊                                                                                        | 142/1563 [00:09<01:36, 14.69it/s, v_num=15, train_loss=4.210]"
     ]
    },
    {
     "name": "stdout",
     "output_type": "stream",
     "text": [
      "\r",
      "Epoch 0:   9%|████████▊                                                                                        | 143/1563 [00:09<01:36, 14.76it/s, v_num=15, train_loss=4.210]"
     ]
    },
    {
     "name": "stdout",
     "output_type": "stream",
     "text": [
      "\r",
      "Epoch 0:   9%|████████▊                                                                                        | 143/1563 [00:09<01:36, 14.69it/s, v_num=15, train_loss=4.330]"
     ]
    },
    {
     "name": "stdout",
     "output_type": "stream",
     "text": [
      "\r",
      "Epoch 0:   9%|████████▉                                                                                        | 144/1563 [00:09<01:36, 14.76it/s, v_num=15, train_loss=4.330]"
     ]
    },
    {
     "name": "stdout",
     "output_type": "stream",
     "text": [
      "\r",
      "Epoch 0:   9%|████████▉                                                                                        | 144/1563 [00:09<01:36, 14.69it/s, v_num=15, train_loss=4.040]"
     ]
    },
    {
     "name": "stdout",
     "output_type": "stream",
     "text": [
      "\r",
      "Epoch 0:   9%|████████▉                                                                                        | 145/1563 [00:09<01:36, 14.76it/s, v_num=15, train_loss=4.040]"
     ]
    },
    {
     "name": "stdout",
     "output_type": "stream",
     "text": [
      "\r",
      "Epoch 0:   9%|████████▉                                                                                        | 145/1563 [00:09<01:36, 14.69it/s, v_num=15, train_loss=4.500]"
     ]
    },
    {
     "name": "stdout",
     "output_type": "stream",
     "text": [
      "\r",
      "Epoch 0:   9%|█████████                                                                                        | 146/1563 [00:09<01:35, 14.77it/s, v_num=15, train_loss=4.500]"
     ]
    },
    {
     "name": "stdout",
     "output_type": "stream",
     "text": [
      "\r",
      "Epoch 0:   9%|█████████                                                                                        | 146/1563 [00:09<01:36, 14.70it/s, v_num=15, train_loss=4.290]"
     ]
    },
    {
     "name": "stdout",
     "output_type": "stream",
     "text": [
      "\r",
      "Epoch 0:   9%|█████████                                                                                        | 147/1563 [00:09<01:35, 14.77it/s, v_num=15, train_loss=4.290]"
     ]
    },
    {
     "name": "stdout",
     "output_type": "stream",
     "text": [
      "\r",
      "Epoch 0:   9%|█████████                                                                                        | 147/1563 [00:09<01:36, 14.70it/s, v_num=15, train_loss=4.570]"
     ]
    },
    {
     "name": "stdout",
     "output_type": "stream",
     "text": [
      "\r",
      "Epoch 0:   9%|█████████▏                                                                                       | 148/1563 [00:10<01:35, 14.77it/s, v_num=15, train_loss=4.570]"
     ]
    },
    {
     "name": "stdout",
     "output_type": "stream",
     "text": [
      "\r",
      "Epoch 0:   9%|█████████▏                                                                                       | 148/1563 [00:10<01:36, 14.70it/s, v_num=15, train_loss=4.360]"
     ]
    },
    {
     "name": "stdout",
     "output_type": "stream",
     "text": [
      "\r",
      "Epoch 0:  10%|█████████▏                                                                                       | 149/1563 [00:10<01:35, 14.77it/s, v_num=15, train_loss=4.360]"
     ]
    },
    {
     "name": "stdout",
     "output_type": "stream",
     "text": [
      "\r",
      "Epoch 0:  10%|█████████▏                                                                                       | 149/1563 [00:10<01:36, 14.71it/s, v_num=15, train_loss=4.140]"
     ]
    },
    {
     "name": "stdout",
     "output_type": "stream",
     "text": [
      "\r",
      "Epoch 0:  10%|█████████▎                                                                                       | 150/1563 [00:10<01:35, 14.78it/s, v_num=15, train_loss=4.140]"
     ]
    },
    {
     "name": "stdout",
     "output_type": "stream",
     "text": [
      "\r",
      "Epoch 0:  10%|█████████▎                                                                                       | 150/1563 [00:10<01:36, 14.71it/s, v_num=15, train_loss=4.360]"
     ]
    },
    {
     "name": "stdout",
     "output_type": "stream",
     "text": [
      "\r",
      "Epoch 0:  10%|█████████▎                                                                                       | 151/1563 [00:10<01:35, 14.78it/s, v_num=15, train_loss=4.360]"
     ]
    },
    {
     "name": "stdout",
     "output_type": "stream",
     "text": [
      "\r",
      "Epoch 0:  10%|█████████▎                                                                                       | 151/1563 [00:10<01:35, 14.71it/s, v_num=15, train_loss=4.270]"
     ]
    },
    {
     "name": "stdout",
     "output_type": "stream",
     "text": [
      "\r",
      "Epoch 0:  10%|█████████▍                                                                                       | 152/1563 [00:10<01:35, 14.78it/s, v_num=15, train_loss=4.270]"
     ]
    },
    {
     "name": "stdout",
     "output_type": "stream",
     "text": [
      "\r",
      "Epoch 0:  10%|█████████▍                                                                                       | 152/1563 [00:10<01:35, 14.72it/s, v_num=15, train_loss=4.190]"
     ]
    },
    {
     "name": "stdout",
     "output_type": "stream",
     "text": [
      "\r",
      "Epoch 0:  10%|█████████▍                                                                                       | 153/1563 [00:10<01:35, 14.79it/s, v_num=15, train_loss=4.190]"
     ]
    },
    {
     "name": "stdout",
     "output_type": "stream",
     "text": [
      "\r",
      "Epoch 0:  10%|█████████▍                                                                                       | 153/1563 [00:10<01:35, 14.72it/s, v_num=15, train_loss=4.390]"
     ]
    },
    {
     "name": "stdout",
     "output_type": "stream",
     "text": [
      "\r",
      "Epoch 0:  10%|█████████▌                                                                                       | 154/1563 [00:10<01:35, 14.79it/s, v_num=15, train_loss=4.390]"
     ]
    },
    {
     "name": "stdout",
     "output_type": "stream",
     "text": [
      "\r",
      "Epoch 0:  10%|█████████▌                                                                                       | 154/1563 [00:10<01:35, 14.72it/s, v_num=15, train_loss=4.180]"
     ]
    },
    {
     "name": "stdout",
     "output_type": "stream",
     "text": [
      "\r",
      "Epoch 0:  10%|█████████▌                                                                                       | 155/1563 [00:10<01:35, 14.79it/s, v_num=15, train_loss=4.180]"
     ]
    },
    {
     "name": "stdout",
     "output_type": "stream",
     "text": [
      "\r",
      "Epoch 0:  10%|█████████▌                                                                                       | 155/1563 [00:10<01:35, 14.73it/s, v_num=15, train_loss=4.220]"
     ]
    },
    {
     "name": "stdout",
     "output_type": "stream",
     "text": [
      "\r",
      "Epoch 0:  10%|█████████▋                                                                                       | 156/1563 [00:10<01:35, 14.79it/s, v_num=15, train_loss=4.220]"
     ]
    },
    {
     "name": "stdout",
     "output_type": "stream",
     "text": [
      "\r",
      "Epoch 0:  10%|█████████▋                                                                                       | 156/1563 [00:10<01:35, 14.73it/s, v_num=15, train_loss=4.680]"
     ]
    },
    {
     "name": "stdout",
     "output_type": "stream",
     "text": [
      "\r",
      "Epoch 0:  10%|█████████▋                                                                                       | 157/1563 [00:10<01:35, 14.79it/s, v_num=15, train_loss=4.680]"
     ]
    },
    {
     "name": "stdout",
     "output_type": "stream",
     "text": [
      "\r",
      "Epoch 0:  10%|█████████▋                                                                                       | 157/1563 [00:10<01:35, 14.73it/s, v_num=15, train_loss=4.380]"
     ]
    },
    {
     "name": "stdout",
     "output_type": "stream",
     "text": [
      "\r",
      "Epoch 0:  10%|█████████▊                                                                                       | 158/1563 [00:10<01:34, 14.79it/s, v_num=15, train_loss=4.380]"
     ]
    },
    {
     "name": "stdout",
     "output_type": "stream",
     "text": [
      "\r",
      "Epoch 0:  10%|█████████▊                                                                                       | 158/1563 [00:10<01:35, 14.73it/s, v_num=15, train_loss=4.250]"
     ]
    },
    {
     "name": "stdout",
     "output_type": "stream",
     "text": [
      "\r",
      "Epoch 0:  10%|█████████▊                                                                                       | 159/1563 [00:10<01:34, 14.79it/s, v_num=15, train_loss=4.250]"
     ]
    },
    {
     "name": "stdout",
     "output_type": "stream",
     "text": [
      "\r",
      "Epoch 0:  10%|█████████▊                                                                                       | 159/1563 [00:10<01:35, 14.73it/s, v_num=15, train_loss=4.010]"
     ]
    },
    {
     "name": "stdout",
     "output_type": "stream",
     "text": [
      "\r",
      "Epoch 0:  10%|█████████▉                                                                                       | 160/1563 [00:10<01:34, 14.80it/s, v_num=15, train_loss=4.010]"
     ]
    },
    {
     "name": "stdout",
     "output_type": "stream",
     "text": [
      "\r",
      "Epoch 0:  10%|█████████▉                                                                                       | 160/1563 [00:10<01:35, 14.74it/s, v_num=15, train_loss=4.100]"
     ]
    },
    {
     "name": "stdout",
     "output_type": "stream",
     "text": [
      "\r",
      "Epoch 0:  10%|█████████▉                                                                                       | 161/1563 [00:10<01:34, 14.80it/s, v_num=15, train_loss=4.100]"
     ]
    },
    {
     "name": "stdout",
     "output_type": "stream",
     "text": [
      "\r",
      "Epoch 0:  10%|█████████▉                                                                                       | 161/1563 [00:10<01:35, 14.74it/s, v_num=15, train_loss=4.230]"
     ]
    },
    {
     "name": "stdout",
     "output_type": "stream",
     "text": [
      "\r",
      "Epoch 0:  10%|██████████                                                                                       | 162/1563 [00:10<01:34, 14.80it/s, v_num=15, train_loss=4.230]"
     ]
    },
    {
     "name": "stdout",
     "output_type": "stream",
     "text": [
      "\r",
      "Epoch 0:  10%|██████████                                                                                       | 162/1563 [00:10<01:35, 14.74it/s, v_num=15, train_loss=4.400]"
     ]
    },
    {
     "name": "stdout",
     "output_type": "stream",
     "text": [
      "\r",
      "Epoch 0:  10%|██████████                                                                                       | 163/1563 [00:11<01:34, 14.80it/s, v_num=15, train_loss=4.400]"
     ]
    },
    {
     "name": "stdout",
     "output_type": "stream",
     "text": [
      "\r",
      "Epoch 0:  10%|██████████                                                                                       | 163/1563 [00:11<01:34, 14.74it/s, v_num=15, train_loss=4.180]"
     ]
    },
    {
     "name": "stdout",
     "output_type": "stream",
     "text": [
      "\r",
      "Epoch 0:  10%|██████████▏                                                                                      | 164/1563 [00:11<01:34, 14.80it/s, v_num=15, train_loss=4.180]"
     ]
    },
    {
     "name": "stdout",
     "output_type": "stream",
     "text": [
      "\r",
      "Epoch 0:  10%|██████████▏                                                                                      | 164/1563 [00:11<01:34, 14.74it/s, v_num=15, train_loss=4.290]"
     ]
    },
    {
     "name": "stdout",
     "output_type": "stream",
     "text": [
      "\r",
      "Epoch 0:  11%|██████████▏                                                                                      | 165/1563 [00:11<01:34, 14.80it/s, v_num=15, train_loss=4.290]"
     ]
    },
    {
     "name": "stdout",
     "output_type": "stream",
     "text": [
      "\r",
      "Epoch 0:  11%|██████████▏                                                                                      | 165/1563 [00:11<01:34, 14.74it/s, v_num=15, train_loss=4.380]"
     ]
    },
    {
     "name": "stdout",
     "output_type": "stream",
     "text": [
      "\r",
      "Epoch 0:  11%|██████████▎                                                                                      | 166/1563 [00:11<01:34, 14.80it/s, v_num=15, train_loss=4.380]"
     ]
    },
    {
     "name": "stdout",
     "output_type": "stream",
     "text": [
      "\r",
      "Epoch 0:  11%|██████████▎                                                                                      | 166/1563 [00:11<01:34, 14.74it/s, v_num=15, train_loss=4.380]"
     ]
    },
    {
     "name": "stdout",
     "output_type": "stream",
     "text": [
      "\r",
      "Epoch 0:  11%|██████████▎                                                                                      | 167/1563 [00:11<01:34, 14.80it/s, v_num=15, train_loss=4.380]"
     ]
    },
    {
     "name": "stdout",
     "output_type": "stream",
     "text": [
      "\r",
      "Epoch 0:  11%|██████████▎                                                                                      | 167/1563 [00:11<01:34, 14.74it/s, v_num=15, train_loss=4.410]"
     ]
    },
    {
     "name": "stdout",
     "output_type": "stream",
     "text": [
      "\r",
      "Epoch 0:  11%|██████████▍                                                                                      | 168/1563 [00:11<01:34, 14.80it/s, v_num=15, train_loss=4.410]"
     ]
    },
    {
     "name": "stdout",
     "output_type": "stream",
     "text": [
      "\r",
      "Epoch 0:  11%|██████████▍                                                                                      | 168/1563 [00:11<01:34, 14.74it/s, v_num=15, train_loss=4.520]"
     ]
    },
    {
     "name": "stdout",
     "output_type": "stream",
     "text": [
      "\r",
      "Epoch 0:  11%|██████████▍                                                                                      | 169/1563 [00:11<01:34, 14.81it/s, v_num=15, train_loss=4.520]"
     ]
    },
    {
     "name": "stdout",
     "output_type": "stream",
     "text": [
      "\r",
      "Epoch 0:  11%|██████████▍                                                                                      | 169/1563 [00:11<01:34, 14.75it/s, v_num=15, train_loss=4.220]"
     ]
    },
    {
     "name": "stdout",
     "output_type": "stream",
     "text": [
      "\r",
      "Epoch 0:  11%|██████████▌                                                                                      | 170/1563 [00:11<01:34, 14.81it/s, v_num=15, train_loss=4.220]"
     ]
    },
    {
     "name": "stdout",
     "output_type": "stream",
     "text": [
      "\r",
      "Epoch 0:  11%|██████████▌                                                                                      | 170/1563 [00:11<01:34, 14.75it/s, v_num=15, train_loss=4.320]"
     ]
    },
    {
     "name": "stdout",
     "output_type": "stream",
     "text": [
      "\r",
      "Epoch 0:  11%|██████████▌                                                                                      | 171/1563 [00:11<01:33, 14.81it/s, v_num=15, train_loss=4.320]"
     ]
    },
    {
     "name": "stdout",
     "output_type": "stream",
     "text": [
      "\r",
      "Epoch 0:  11%|██████████▌                                                                                      | 171/1563 [00:11<01:34, 14.75it/s, v_num=15, train_loss=4.210]"
     ]
    },
    {
     "name": "stdout",
     "output_type": "stream",
     "text": [
      "\r",
      "Epoch 0:  11%|██████████▋                                                                                      | 172/1563 [00:11<01:33, 14.81it/s, v_num=15, train_loss=4.210]"
     ]
    },
    {
     "name": "stdout",
     "output_type": "stream",
     "text": [
      "\r",
      "Epoch 0:  11%|██████████▋                                                                                      | 172/1563 [00:11<01:34, 14.75it/s, v_num=15, train_loss=4.240]"
     ]
    },
    {
     "name": "stdout",
     "output_type": "stream",
     "text": [
      "\r",
      "Epoch 0:  11%|██████████▋                                                                                      | 173/1563 [00:11<01:33, 14.81it/s, v_num=15, train_loss=4.240]"
     ]
    },
    {
     "name": "stdout",
     "output_type": "stream",
     "text": [
      "\r",
      "Epoch 0:  11%|██████████▋                                                                                      | 173/1563 [00:11<01:34, 14.75it/s, v_num=15, train_loss=4.250]"
     ]
    },
    {
     "name": "stdout",
     "output_type": "stream",
     "text": [
      "\r",
      "Epoch 0:  11%|██████████▊                                                                                      | 174/1563 [00:11<01:33, 14.81it/s, v_num=15, train_loss=4.250]"
     ]
    },
    {
     "name": "stdout",
     "output_type": "stream",
     "text": [
      "\r",
      "Epoch 0:  11%|██████████▊                                                                                      | 174/1563 [00:11<01:34, 14.75it/s, v_num=15, train_loss=4.250]"
     ]
    },
    {
     "name": "stdout",
     "output_type": "stream",
     "text": [
      "\r",
      "Epoch 0:  11%|██████████▊                                                                                      | 175/1563 [00:11<01:33, 14.81it/s, v_num=15, train_loss=4.250]"
     ]
    },
    {
     "name": "stdout",
     "output_type": "stream",
     "text": [
      "\r",
      "Epoch 0:  11%|██████████▊                                                                                      | 175/1563 [00:11<01:34, 14.75it/s, v_num=15, train_loss=4.310]"
     ]
    },
    {
     "name": "stdout",
     "output_type": "stream",
     "text": [
      "\r",
      "Epoch 0:  11%|██████████▉                                                                                      | 176/1563 [00:11<01:33, 14.81it/s, v_num=15, train_loss=4.310]"
     ]
    },
    {
     "name": "stdout",
     "output_type": "stream",
     "text": [
      "\r",
      "Epoch 0:  11%|██████████▉                                                                                      | 176/1563 [00:11<01:33, 14.76it/s, v_num=15, train_loss=4.060]"
     ]
    },
    {
     "name": "stdout",
     "output_type": "stream",
     "text": [
      "\r",
      "Epoch 0:  11%|██████████▉                                                                                      | 177/1563 [00:11<01:33, 14.82it/s, v_num=15, train_loss=4.060]"
     ]
    },
    {
     "name": "stdout",
     "output_type": "stream",
     "text": [
      "\r",
      "Epoch 0:  11%|██████████▉                                                                                      | 177/1563 [00:11<01:33, 14.76it/s, v_num=15, train_loss=4.240]"
     ]
    },
    {
     "name": "stdout",
     "output_type": "stream",
     "text": [
      "\r",
      "Epoch 0:  11%|███████████                                                                                      | 178/1563 [00:12<01:33, 14.82it/s, v_num=15, train_loss=4.240]"
     ]
    },
    {
     "name": "stdout",
     "output_type": "stream",
     "text": [
      "\r",
      "Epoch 0:  11%|███████████                                                                                      | 178/1563 [00:12<01:33, 14.76it/s, v_num=15, train_loss=4.380]"
     ]
    },
    {
     "name": "stdout",
     "output_type": "stream",
     "text": [
      "\r",
      "Epoch 0:  11%|███████████                                                                                      | 179/1563 [00:12<01:33, 14.82it/s, v_num=15, train_loss=4.380]"
     ]
    },
    {
     "name": "stdout",
     "output_type": "stream",
     "text": [
      "\r",
      "Epoch 0:  11%|███████████                                                                                      | 179/1563 [00:12<01:33, 14.76it/s, v_num=15, train_loss=4.260]"
     ]
    },
    {
     "name": "stdout",
     "output_type": "stream",
     "text": [
      "\r",
      "Epoch 0:  12%|███████████▏                                                                                     | 180/1563 [00:12<01:33, 14.83it/s, v_num=15, train_loss=4.260]"
     ]
    },
    {
     "name": "stdout",
     "output_type": "stream",
     "text": [
      "\r",
      "Epoch 0:  12%|███████████▏                                                                                     | 180/1563 [00:12<01:33, 14.77it/s, v_num=15, train_loss=4.090]"
     ]
    },
    {
     "name": "stdout",
     "output_type": "stream",
     "text": [
      "\r",
      "Epoch 0:  12%|███████████▏                                                                                     | 181/1563 [00:12<01:33, 14.83it/s, v_num=15, train_loss=4.090]"
     ]
    },
    {
     "name": "stdout",
     "output_type": "stream",
     "text": [
      "\r",
      "Epoch 0:  12%|███████████▏                                                                                     | 181/1563 [00:12<01:33, 14.77it/s, v_num=15, train_loss=4.380]"
     ]
    },
    {
     "name": "stdout",
     "output_type": "stream",
     "text": [
      "\r",
      "Epoch 0:  12%|███████████▎                                                                                     | 182/1563 [00:12<01:33, 14.83it/s, v_num=15, train_loss=4.380]"
     ]
    },
    {
     "name": "stdout",
     "output_type": "stream",
     "text": [
      "\r",
      "Epoch 0:  12%|███████████▎                                                                                     | 182/1563 [00:12<01:33, 14.77it/s, v_num=15, train_loss=4.240]"
     ]
    },
    {
     "name": "stdout",
     "output_type": "stream",
     "text": [
      "\r",
      "Epoch 0:  12%|███████████▎                                                                                     | 183/1563 [00:12<01:33, 14.83it/s, v_num=15, train_loss=4.240]"
     ]
    },
    {
     "name": "stdout",
     "output_type": "stream",
     "text": [
      "\r",
      "Epoch 0:  12%|███████████▎                                                                                     | 183/1563 [00:12<01:33, 14.77it/s, v_num=15, train_loss=4.200]"
     ]
    },
    {
     "name": "stdout",
     "output_type": "stream",
     "text": [
      "\r",
      "Epoch 0:  12%|███████████▍                                                                                     | 184/1563 [00:12<01:32, 14.83it/s, v_num=15, train_loss=4.200]"
     ]
    },
    {
     "name": "stdout",
     "output_type": "stream",
     "text": [
      "\r",
      "Epoch 0:  12%|███████████▍                                                                                     | 184/1563 [00:12<01:33, 14.78it/s, v_num=15, train_loss=3.880]"
     ]
    },
    {
     "name": "stdout",
     "output_type": "stream",
     "text": [
      "\r",
      "Epoch 0:  12%|███████████▍                                                                                     | 185/1563 [00:12<01:32, 14.84it/s, v_num=15, train_loss=3.880]"
     ]
    },
    {
     "name": "stdout",
     "output_type": "stream",
     "text": [
      "\r",
      "Epoch 0:  12%|███████████▍                                                                                     | 185/1563 [00:12<01:33, 14.78it/s, v_num=15, train_loss=4.350]"
     ]
    },
    {
     "name": "stdout",
     "output_type": "stream",
     "text": [
      "\r",
      "Epoch 0:  12%|███████████▌                                                                                     | 186/1563 [00:12<01:32, 14.83it/s, v_num=15, train_loss=4.350]"
     ]
    },
    {
     "name": "stdout",
     "output_type": "stream",
     "text": [
      "\r",
      "Epoch 0:  12%|███████████▌                                                                                     | 186/1563 [00:12<01:33, 14.78it/s, v_num=15, train_loss=4.430]"
     ]
    },
    {
     "name": "stdout",
     "output_type": "stream",
     "text": [
      "\r",
      "Epoch 0:  12%|███████████▌                                                                                     | 187/1563 [00:12<01:32, 14.83it/s, v_num=15, train_loss=4.430]"
     ]
    },
    {
     "name": "stdout",
     "output_type": "stream",
     "text": [
      "\r",
      "Epoch 0:  12%|███████████▌                                                                                     | 187/1563 [00:12<01:33, 14.78it/s, v_num=15, train_loss=4.410]"
     ]
    },
    {
     "name": "stdout",
     "output_type": "stream",
     "text": [
      "\r",
      "Epoch 0:  12%|███████████▋                                                                                     | 188/1563 [00:12<01:32, 14.83it/s, v_num=15, train_loss=4.410]"
     ]
    },
    {
     "name": "stdout",
     "output_type": "stream",
     "text": [
      "\r",
      "Epoch 0:  12%|███████████▋                                                                                     | 188/1563 [00:12<01:33, 14.78it/s, v_num=15, train_loss=4.030]"
     ]
    },
    {
     "name": "stdout",
     "output_type": "stream",
     "text": [
      "\r",
      "Epoch 0:  12%|███████████▋                                                                                     | 189/1563 [00:12<01:32, 14.83it/s, v_num=15, train_loss=4.030]"
     ]
    },
    {
     "name": "stdout",
     "output_type": "stream",
     "text": [
      "\r",
      "Epoch 0:  12%|███████████▋                                                                                     | 189/1563 [00:12<01:32, 14.78it/s, v_num=15, train_loss=4.290]"
     ]
    },
    {
     "name": "stdout",
     "output_type": "stream",
     "text": [
      "\r",
      "Epoch 0:  12%|███████████▊                                                                                     | 190/1563 [00:12<01:32, 14.83it/s, v_num=15, train_loss=4.290]"
     ]
    },
    {
     "name": "stdout",
     "output_type": "stream",
     "text": [
      "\r",
      "Epoch 0:  12%|███████████▊                                                                                     | 190/1563 [00:12<01:32, 14.78it/s, v_num=15, train_loss=4.120]"
     ]
    },
    {
     "name": "stdout",
     "output_type": "stream",
     "text": [
      "\r",
      "Epoch 0:  12%|███████████▊                                                                                     | 191/1563 [00:12<01:32, 14.83it/s, v_num=15, train_loss=4.120]"
     ]
    },
    {
     "name": "stdout",
     "output_type": "stream",
     "text": [
      "\r",
      "Epoch 0:  12%|███████████▊                                                                                     | 191/1563 [00:12<01:32, 14.78it/s, v_num=15, train_loss=4.550]"
     ]
    },
    {
     "name": "stdout",
     "output_type": "stream",
     "text": [
      "\r",
      "Epoch 0:  12%|███████████▉                                                                                     | 192/1563 [00:12<01:32, 14.83it/s, v_num=15, train_loss=4.550]"
     ]
    },
    {
     "name": "stdout",
     "output_type": "stream",
     "text": [
      "\r",
      "Epoch 0:  12%|███████████▉                                                                                     | 192/1563 [00:12<01:32, 14.78it/s, v_num=15, train_loss=4.220]"
     ]
    },
    {
     "name": "stdout",
     "output_type": "stream",
     "text": [
      "\r",
      "Epoch 0:  12%|███████████▉                                                                                     | 193/1563 [00:13<01:32, 14.84it/s, v_num=15, train_loss=4.220]"
     ]
    },
    {
     "name": "stdout",
     "output_type": "stream",
     "text": [
      "\r",
      "Epoch 0:  12%|███████████▉                                                                                     | 193/1563 [00:13<01:32, 14.78it/s, v_num=15, train_loss=4.020]"
     ]
    },
    {
     "name": "stdout",
     "output_type": "stream",
     "text": [
      "\r",
      "Epoch 0:  12%|████████████                                                                                     | 194/1563 [00:13<01:32, 14.84it/s, v_num=15, train_loss=4.020]"
     ]
    },
    {
     "name": "stdout",
     "output_type": "stream",
     "text": [
      "\r",
      "Epoch 0:  12%|████████████                                                                                     | 194/1563 [00:13<01:32, 14.79it/s, v_num=15, train_loss=4.430]"
     ]
    },
    {
     "name": "stdout",
     "output_type": "stream",
     "text": [
      "\r",
      "Epoch 0:  12%|████████████                                                                                     | 195/1563 [00:13<01:32, 14.84it/s, v_num=15, train_loss=4.430]"
     ]
    },
    {
     "name": "stdout",
     "output_type": "stream",
     "text": [
      "\r",
      "Epoch 0:  12%|████████████                                                                                     | 195/1563 [00:13<01:32, 14.79it/s, v_num=15, train_loss=4.470]"
     ]
    },
    {
     "name": "stdout",
     "output_type": "stream",
     "text": [
      "\r",
      "Epoch 0:  13%|████████████▏                                                                                    | 196/1563 [00:13<01:32, 14.84it/s, v_num=15, train_loss=4.470]"
     ]
    },
    {
     "name": "stdout",
     "output_type": "stream",
     "text": [
      "\r",
      "Epoch 0:  13%|████████████▏                                                                                    | 196/1563 [00:13<01:32, 14.79it/s, v_num=15, train_loss=4.460]"
     ]
    },
    {
     "name": "stdout",
     "output_type": "stream",
     "text": [
      "\r",
      "Epoch 0:  13%|████████████▏                                                                                    | 197/1563 [00:13<01:32, 14.84it/s, v_num=15, train_loss=4.460]"
     ]
    },
    {
     "name": "stdout",
     "output_type": "stream",
     "text": [
      "\r",
      "Epoch 0:  13%|████████████▏                                                                                    | 197/1563 [00:13<01:32, 14.79it/s, v_num=15, train_loss=4.310]"
     ]
    },
    {
     "name": "stdout",
     "output_type": "stream",
     "text": [
      "\r",
      "Epoch 0:  13%|████████████▎                                                                                    | 198/1563 [00:13<01:31, 14.84it/s, v_num=15, train_loss=4.310]"
     ]
    },
    {
     "name": "stdout",
     "output_type": "stream",
     "text": [
      "\r",
      "Epoch 0:  13%|████████████▎                                                                                    | 198/1563 [00:13<01:32, 14.79it/s, v_num=15, train_loss=4.170]"
     ]
    },
    {
     "name": "stdout",
     "output_type": "stream",
     "text": [
      "\r",
      "Epoch 0:  13%|████████████▎                                                                                    | 199/1563 [00:13<01:31, 14.84it/s, v_num=15, train_loss=4.170]"
     ]
    },
    {
     "name": "stdout",
     "output_type": "stream",
     "text": [
      "\r",
      "Epoch 0:  13%|████████████▎                                                                                    | 199/1563 [00:13<01:32, 14.79it/s, v_num=15, train_loss=4.070]"
     ]
    },
    {
     "name": "stdout",
     "output_type": "stream",
     "text": [
      "\r",
      "Epoch 0:  13%|████████████▍                                                                                    | 200/1563 [00:13<01:31, 14.85it/s, v_num=15, train_loss=4.070]"
     ]
    },
    {
     "name": "stdout",
     "output_type": "stream",
     "text": [
      "\r",
      "Epoch 0:  13%|████████████▍                                                                                    | 200/1563 [00:13<01:32, 14.79it/s, v_num=15, train_loss=4.240]"
     ]
    },
    {
     "name": "stdout",
     "output_type": "stream",
     "text": [
      "\r",
      "Epoch 0:  13%|████████████▍                                                                                    | 201/1563 [00:13<01:31, 14.84it/s, v_num=15, train_loss=4.240]"
     ]
    },
    {
     "name": "stdout",
     "output_type": "stream",
     "text": [
      "\r",
      "Epoch 0:  13%|████████████▍                                                                                    | 201/1563 [00:13<01:32, 14.79it/s, v_num=15, train_loss=4.450]"
     ]
    },
    {
     "name": "stdout",
     "output_type": "stream",
     "text": [
      "\r",
      "Epoch 0:  13%|████████████▌                                                                                    | 202/1563 [00:13<01:31, 14.84it/s, v_num=15, train_loss=4.450]"
     ]
    },
    {
     "name": "stdout",
     "output_type": "stream",
     "text": [
      "\r",
      "Epoch 0:  13%|████████████▌                                                                                    | 202/1563 [00:13<01:32, 14.79it/s, v_num=15, train_loss=4.370]"
     ]
    },
    {
     "name": "stdout",
     "output_type": "stream",
     "text": [
      "\r",
      "Epoch 0:  13%|████████████▌                                                                                    | 203/1563 [00:13<01:31, 14.84it/s, v_num=15, train_loss=4.370]"
     ]
    },
    {
     "name": "stdout",
     "output_type": "stream",
     "text": [
      "\r",
      "Epoch 0:  13%|████████████▌                                                                                    | 203/1563 [00:13<01:31, 14.79it/s, v_num=15, train_loss=4.190]"
     ]
    },
    {
     "name": "stdout",
     "output_type": "stream",
     "text": [
      "\r",
      "Epoch 0:  13%|████████████▋                                                                                    | 204/1563 [00:13<01:31, 14.84it/s, v_num=15, train_loss=4.190]"
     ]
    },
    {
     "name": "stdout",
     "output_type": "stream",
     "text": [
      "\r",
      "Epoch 0:  13%|████████████▋                                                                                    | 204/1563 [00:13<01:31, 14.79it/s, v_num=15, train_loss=4.370]"
     ]
    },
    {
     "name": "stdout",
     "output_type": "stream",
     "text": [
      "\r",
      "Epoch 0:  13%|████████████▋                                                                                    | 205/1563 [00:13<01:31, 14.84it/s, v_num=15, train_loss=4.370]"
     ]
    },
    {
     "name": "stdout",
     "output_type": "stream",
     "text": [
      "\r",
      "Epoch 0:  13%|████████████▋                                                                                    | 205/1563 [00:13<01:31, 14.79it/s, v_num=15, train_loss=4.570]"
     ]
    },
    {
     "name": "stdout",
     "output_type": "stream",
     "text": [
      "\r",
      "Epoch 0:  13%|████████████▊                                                                                    | 206/1563 [00:13<01:31, 14.84it/s, v_num=15, train_loss=4.570]"
     ]
    },
    {
     "name": "stdout",
     "output_type": "stream",
     "text": [
      "\r",
      "Epoch 0:  13%|████████████▊                                                                                    | 206/1563 [00:13<01:31, 14.80it/s, v_num=15, train_loss=3.870]"
     ]
    },
    {
     "name": "stdout",
     "output_type": "stream",
     "text": [
      "\r",
      "Epoch 0:  13%|████████████▊                                                                                    | 207/1563 [00:13<01:31, 14.84it/s, v_num=15, train_loss=3.870]"
     ]
    },
    {
     "name": "stdout",
     "output_type": "stream",
     "text": [
      "\r",
      "Epoch 0:  13%|████████████▊                                                                                    | 207/1563 [00:13<01:31, 14.80it/s, v_num=15, train_loss=4.210]"
     ]
    },
    {
     "name": "stdout",
     "output_type": "stream",
     "text": [
      "\r",
      "Epoch 0:  13%|████████████▉                                                                                    | 208/1563 [00:14<01:31, 14.84it/s, v_num=15, train_loss=4.210]"
     ]
    },
    {
     "name": "stdout",
     "output_type": "stream",
     "text": [
      "\r",
      "Epoch 0:  13%|████████████▉                                                                                    | 208/1563 [00:14<01:31, 14.80it/s, v_num=15, train_loss=4.030]"
     ]
    },
    {
     "name": "stdout",
     "output_type": "stream",
     "text": [
      "\r",
      "Epoch 0:  13%|████████████▉                                                                                    | 209/1563 [00:14<01:31, 14.84it/s, v_num=15, train_loss=4.030]"
     ]
    },
    {
     "name": "stdout",
     "output_type": "stream",
     "text": [
      "\r",
      "Epoch 0:  13%|████████████▉                                                                                    | 209/1563 [00:14<01:31, 14.80it/s, v_num=15, train_loss=4.360]"
     ]
    },
    {
     "name": "stdout",
     "output_type": "stream",
     "text": [
      "\r",
      "Epoch 0:  13%|█████████████                                                                                    | 210/1563 [00:14<01:31, 14.83it/s, v_num=15, train_loss=4.360]"
     ]
    },
    {
     "name": "stdout",
     "output_type": "stream",
     "text": [
      "\r",
      "Epoch 0:  13%|█████████████                                                                                    | 210/1563 [00:14<01:31, 14.80it/s, v_num=15, train_loss=4.240]"
     ]
    },
    {
     "name": "stdout",
     "output_type": "stream",
     "text": [
      "\r",
      "Epoch 0:  13%|█████████████                                                                                    | 211/1563 [00:14<01:31, 14.84it/s, v_num=15, train_loss=4.240]"
     ]
    },
    {
     "name": "stdout",
     "output_type": "stream",
     "text": [
      "\r",
      "Epoch 0:  13%|█████████████                                                                                    | 211/1563 [00:14<01:31, 14.80it/s, v_num=15, train_loss=4.150]"
     ]
    },
    {
     "name": "stdout",
     "output_type": "stream",
     "text": [
      "\r",
      "Epoch 0:  14%|█████████████▏                                                                                   | 212/1563 [00:14<01:31, 14.84it/s, v_num=15, train_loss=4.150]"
     ]
    },
    {
     "name": "stdout",
     "output_type": "stream",
     "text": [
      "\r",
      "Epoch 0:  14%|█████████████▏                                                                                   | 212/1563 [00:14<01:31, 14.80it/s, v_num=15, train_loss=4.200]"
     ]
    },
    {
     "name": "stdout",
     "output_type": "stream",
     "text": [
      "\r",
      "Epoch 0:  14%|█████████████▏                                                                                   | 213/1563 [00:14<01:30, 14.85it/s, v_num=15, train_loss=4.200]"
     ]
    },
    {
     "name": "stdout",
     "output_type": "stream",
     "text": [
      "\r",
      "Epoch 0:  14%|█████████████▏                                                                                   | 213/1563 [00:14<01:31, 14.80it/s, v_num=15, train_loss=4.150]"
     ]
    },
    {
     "name": "stdout",
     "output_type": "stream",
     "text": [
      "\r",
      "Epoch 0:  14%|█████████████▎                                                                                   | 214/1563 [00:14<01:30, 14.85it/s, v_num=15, train_loss=4.150]"
     ]
    },
    {
     "name": "stdout",
     "output_type": "stream",
     "text": [
      "\r",
      "Epoch 0:  14%|█████████████▎                                                                                   | 214/1563 [00:14<01:31, 14.80it/s, v_num=15, train_loss=4.360]"
     ]
    },
    {
     "name": "stdout",
     "output_type": "stream",
     "text": [
      "\r",
      "Epoch 0:  14%|█████████████▎                                                                                   | 215/1563 [00:14<01:30, 14.85it/s, v_num=15, train_loss=4.360]"
     ]
    },
    {
     "name": "stdout",
     "output_type": "stream",
     "text": [
      "\r",
      "Epoch 0:  14%|█████████████▎                                                                                   | 215/1563 [00:14<01:31, 14.80it/s, v_num=15, train_loss=3.900]"
     ]
    },
    {
     "name": "stdout",
     "output_type": "stream",
     "text": [
      "\r",
      "Epoch 0:  14%|█████████████▍                                                                                   | 216/1563 [00:14<01:30, 14.85it/s, v_num=15, train_loss=3.900]"
     ]
    },
    {
     "name": "stdout",
     "output_type": "stream",
     "text": [
      "\r",
      "Epoch 0:  14%|█████████████▍                                                                                   | 216/1563 [00:14<01:30, 14.80it/s, v_num=15, train_loss=4.060]"
     ]
    },
    {
     "name": "stdout",
     "output_type": "stream",
     "text": [
      "\r",
      "Epoch 0:  14%|█████████████▍                                                                                   | 217/1563 [00:14<01:30, 14.85it/s, v_num=15, train_loss=4.060]"
     ]
    },
    {
     "name": "stdout",
     "output_type": "stream",
     "text": [
      "\r",
      "Epoch 0:  14%|█████████████▍                                                                                   | 217/1563 [00:14<01:30, 14.80it/s, v_num=15, train_loss=4.260]"
     ]
    },
    {
     "name": "stdout",
     "output_type": "stream",
     "text": [
      "\r",
      "Epoch 0:  14%|█████████████▌                                                                                   | 218/1563 [00:14<01:30, 14.85it/s, v_num=15, train_loss=4.260]"
     ]
    },
    {
     "name": "stdout",
     "output_type": "stream",
     "text": [
      "\r",
      "Epoch 0:  14%|█████████████▌                                                                                   | 218/1563 [00:14<01:30, 14.80it/s, v_num=15, train_loss=4.010]"
     ]
    },
    {
     "name": "stdout",
     "output_type": "stream",
     "text": [
      "\r",
      "Epoch 0:  14%|█████████████▌                                                                                   | 219/1563 [00:14<01:30, 14.85it/s, v_num=15, train_loss=4.010]"
     ]
    },
    {
     "name": "stdout",
     "output_type": "stream",
     "text": [
      "\r",
      "Epoch 0:  14%|█████████████▌                                                                                   | 219/1563 [00:14<01:30, 14.81it/s, v_num=15, train_loss=4.180]"
     ]
    },
    {
     "name": "stdout",
     "output_type": "stream",
     "text": [
      "\r",
      "Epoch 0:  14%|█████████████▋                                                                                   | 220/1563 [00:14<01:30, 14.85it/s, v_num=15, train_loss=4.180]"
     ]
    },
    {
     "name": "stdout",
     "output_type": "stream",
     "text": [
      "\r",
      "Epoch 0:  14%|█████████████▋                                                                                   | 220/1563 [00:14<01:30, 14.81it/s, v_num=15, train_loss=4.240]"
     ]
    },
    {
     "name": "stdout",
     "output_type": "stream",
     "text": [
      "\r",
      "Epoch 0:  14%|█████████████▋                                                                                   | 221/1563 [00:14<01:30, 14.85it/s, v_num=15, train_loss=4.240]"
     ]
    },
    {
     "name": "stdout",
     "output_type": "stream",
     "text": [
      "\r",
      "Epoch 0:  14%|█████████████▋                                                                                   | 221/1563 [00:14<01:30, 14.81it/s, v_num=15, train_loss=4.300]"
     ]
    },
    {
     "name": "stdout",
     "output_type": "stream",
     "text": [
      "\r",
      "Epoch 0:  14%|█████████████▊                                                                                   | 222/1563 [00:14<01:30, 14.85it/s, v_num=15, train_loss=4.300]"
     ]
    },
    {
     "name": "stdout",
     "output_type": "stream",
     "text": [
      "\r",
      "Epoch 0:  14%|█████████████▊                                                                                   | 222/1563 [00:14<01:30, 14.81it/s, v_num=15, train_loss=4.510]"
     ]
    },
    {
     "name": "stdout",
     "output_type": "stream",
     "text": [
      "\r",
      "Epoch 0:  14%|█████████████▊                                                                                   | 223/1563 [00:15<01:30, 14.85it/s, v_num=15, train_loss=4.510]"
     ]
    },
    {
     "name": "stdout",
     "output_type": "stream",
     "text": [
      "\r",
      "Epoch 0:  14%|█████████████▊                                                                                   | 223/1563 [00:15<01:30, 14.81it/s, v_num=15, train_loss=4.260]"
     ]
    },
    {
     "name": "stdout",
     "output_type": "stream",
     "text": [
      "\r",
      "Epoch 0:  14%|█████████████▉                                                                                   | 224/1563 [00:15<01:30, 14.85it/s, v_num=15, train_loss=4.260]"
     ]
    },
    {
     "name": "stdout",
     "output_type": "stream",
     "text": [
      "\r",
      "Epoch 0:  14%|█████████████▉                                                                                   | 224/1563 [00:15<01:30, 14.81it/s, v_num=15, train_loss=4.160]"
     ]
    },
    {
     "name": "stdout",
     "output_type": "stream",
     "text": [
      "\r",
      "Epoch 0:  14%|█████████████▉                                                                                   | 225/1563 [00:15<01:30, 14.85it/s, v_num=15, train_loss=4.160]"
     ]
    },
    {
     "name": "stdout",
     "output_type": "stream",
     "text": [
      "\r",
      "Epoch 0:  14%|█████████████▉                                                                                   | 225/1563 [00:15<01:30, 14.81it/s, v_num=15, train_loss=4.440]"
     ]
    },
    {
     "name": "stdout",
     "output_type": "stream",
     "text": [
      "\r",
      "Epoch 0:  14%|██████████████                                                                                   | 226/1563 [00:15<01:30, 14.85it/s, v_num=15, train_loss=4.440]"
     ]
    },
    {
     "name": "stdout",
     "output_type": "stream",
     "text": [
      "\r",
      "Epoch 0:  14%|██████████████                                                                                   | 226/1563 [00:15<01:30, 14.81it/s, v_num=15, train_loss=4.200]"
     ]
    },
    {
     "name": "stdout",
     "output_type": "stream",
     "text": [
      "\r",
      "Epoch 0:  15%|██████████████                                                                                   | 227/1563 [00:15<01:29, 14.85it/s, v_num=15, train_loss=4.200]"
     ]
    },
    {
     "name": "stdout",
     "output_type": "stream",
     "text": [
      "\r",
      "Epoch 0:  15%|██████████████                                                                                   | 227/1563 [00:15<01:30, 14.81it/s, v_num=15, train_loss=3.980]"
     ]
    },
    {
     "name": "stdout",
     "output_type": "stream",
     "text": [
      "\r",
      "Epoch 0:  15%|██████████████▏                                                                                  | 228/1563 [00:15<01:29, 14.86it/s, v_num=15, train_loss=3.980]"
     ]
    },
    {
     "name": "stdout",
     "output_type": "stream",
     "text": [
      "\r",
      "Epoch 0:  15%|██████████████▏                                                                                  | 228/1563 [00:15<01:30, 14.81it/s, v_num=15, train_loss=4.360]"
     ]
    },
    {
     "name": "stdout",
     "output_type": "stream",
     "text": [
      "\r",
      "Epoch 0:  15%|██████████████▏                                                                                  | 229/1563 [00:15<01:29, 14.86it/s, v_num=15, train_loss=4.360]"
     ]
    },
    {
     "name": "stdout",
     "output_type": "stream",
     "text": [
      "\r",
      "Epoch 0:  15%|██████████████▏                                                                                  | 229/1563 [00:15<01:30, 14.81it/s, v_num=15, train_loss=4.210]"
     ]
    },
    {
     "name": "stdout",
     "output_type": "stream",
     "text": [
      "\r",
      "Epoch 0:  15%|██████████████▎                                                                                  | 230/1563 [00:15<01:29, 14.86it/s, v_num=15, train_loss=4.210]"
     ]
    },
    {
     "name": "stdout",
     "output_type": "stream",
     "text": [
      "\r",
      "Epoch 0:  15%|██████████████▎                                                                                  | 230/1563 [00:15<01:29, 14.81it/s, v_num=15, train_loss=4.060]"
     ]
    },
    {
     "name": "stdout",
     "output_type": "stream",
     "text": [
      "\r",
      "Epoch 0:  15%|██████████████▎                                                                                  | 231/1563 [00:15<01:29, 14.86it/s, v_num=15, train_loss=4.060]"
     ]
    },
    {
     "name": "stdout",
     "output_type": "stream",
     "text": [
      "\r",
      "Epoch 0:  15%|██████████████▎                                                                                  | 231/1563 [00:15<01:29, 14.81it/s, v_num=15, train_loss=4.320]"
     ]
    },
    {
     "name": "stdout",
     "output_type": "stream",
     "text": [
      "\r",
      "Epoch 0:  15%|██████████████▍                                                                                  | 232/1563 [00:15<01:29, 14.86it/s, v_num=15, train_loss=4.320]"
     ]
    },
    {
     "name": "stdout",
     "output_type": "stream",
     "text": [
      "\r",
      "Epoch 0:  15%|██████████████▍                                                                                  | 232/1563 [00:15<01:29, 14.82it/s, v_num=15, train_loss=4.150]"
     ]
    },
    {
     "name": "stdout",
     "output_type": "stream",
     "text": [
      "\r",
      "Epoch 0:  15%|██████████████▍                                                                                  | 233/1563 [00:15<01:29, 14.86it/s, v_num=15, train_loss=4.150]"
     ]
    },
    {
     "name": "stdout",
     "output_type": "stream",
     "text": [
      "\r",
      "Epoch 0:  15%|██████████████▍                                                                                  | 233/1563 [00:15<01:29, 14.82it/s, v_num=15, train_loss=4.160]"
     ]
    },
    {
     "name": "stdout",
     "output_type": "stream",
     "text": [
      "\r",
      "Epoch 0:  15%|██████████████▌                                                                                  | 234/1563 [00:15<01:29, 14.86it/s, v_num=15, train_loss=4.160]"
     ]
    },
    {
     "name": "stdout",
     "output_type": "stream",
     "text": [
      "\r",
      "Epoch 0:  15%|██████████████▌                                                                                  | 234/1563 [00:15<01:29, 14.82it/s, v_num=15, train_loss=4.280]"
     ]
    },
    {
     "name": "stdout",
     "output_type": "stream",
     "text": [
      "\r",
      "Epoch 0:  15%|██████████████▌                                                                                  | 235/1563 [00:15<01:29, 14.86it/s, v_num=15, train_loss=4.280]"
     ]
    },
    {
     "name": "stdout",
     "output_type": "stream",
     "text": [
      "\r",
      "Epoch 0:  15%|██████████████▌                                                                                  | 235/1563 [00:15<01:29, 14.82it/s, v_num=15, train_loss=4.050]"
     ]
    },
    {
     "name": "stdout",
     "output_type": "stream",
     "text": [
      "\r",
      "Epoch 0:  15%|██████████████▋                                                                                  | 236/1563 [00:15<01:29, 14.86it/s, v_num=15, train_loss=4.050]"
     ]
    },
    {
     "name": "stdout",
     "output_type": "stream",
     "text": [
      "\r",
      "Epoch 0:  15%|██████████████▋                                                                                  | 236/1563 [00:15<01:29, 14.82it/s, v_num=15, train_loss=4.110]"
     ]
    },
    {
     "name": "stdout",
     "output_type": "stream",
     "text": [
      "\r",
      "Epoch 0:  15%|██████████████▋                                                                                  | 237/1563 [00:15<01:29, 14.86it/s, v_num=15, train_loss=4.110]"
     ]
    },
    {
     "name": "stdout",
     "output_type": "stream",
     "text": [
      "\r",
      "Epoch 0:  15%|██████████████▋                                                                                  | 237/1563 [00:15<01:29, 14.82it/s, v_num=15, train_loss=3.990]"
     ]
    },
    {
     "name": "stdout",
     "output_type": "stream",
     "text": [
      "\r",
      "Epoch 0:  15%|██████████████▊                                                                                  | 238/1563 [00:16<01:29, 14.86it/s, v_num=15, train_loss=3.990]"
     ]
    },
    {
     "name": "stdout",
     "output_type": "stream",
     "text": [
      "\r",
      "Epoch 0:  15%|██████████████▊                                                                                  | 238/1563 [00:16<01:29, 14.82it/s, v_num=15, train_loss=4.170]"
     ]
    },
    {
     "name": "stdout",
     "output_type": "stream",
     "text": [
      "\r",
      "Epoch 0:  15%|██████████████▊                                                                                  | 239/1563 [00:16<01:29, 14.87it/s, v_num=15, train_loss=4.170]"
     ]
    },
    {
     "name": "stdout",
     "output_type": "stream",
     "text": [
      "\r",
      "Epoch 0:  15%|██████████████▊                                                                                  | 239/1563 [00:16<01:29, 14.82it/s, v_num=15, train_loss=4.410]"
     ]
    },
    {
     "name": "stdout",
     "output_type": "stream",
     "text": [
      "\r",
      "Epoch 0:  15%|██████████████▉                                                                                  | 240/1563 [00:16<01:28, 14.87it/s, v_num=15, train_loss=4.410]"
     ]
    },
    {
     "name": "stdout",
     "output_type": "stream",
     "text": [
      "\r",
      "Epoch 0:  15%|██████████████▉                                                                                  | 240/1563 [00:16<01:29, 14.82it/s, v_num=15, train_loss=4.190]"
     ]
    },
    {
     "name": "stdout",
     "output_type": "stream",
     "text": [
      "\r",
      "Epoch 0:  15%|██████████████▉                                                                                  | 241/1563 [00:16<01:28, 14.87it/s, v_num=15, train_loss=4.190]"
     ]
    },
    {
     "name": "stdout",
     "output_type": "stream",
     "text": [
      "\r",
      "Epoch 0:  15%|██████████████▉                                                                                  | 241/1563 [00:16<01:29, 14.83it/s, v_num=15, train_loss=4.290]"
     ]
    },
    {
     "name": "stdout",
     "output_type": "stream",
     "text": [
      "\r",
      "Epoch 0:  15%|███████████████                                                                                  | 242/1563 [00:16<01:28, 14.87it/s, v_num=15, train_loss=4.290]"
     ]
    },
    {
     "name": "stdout",
     "output_type": "stream",
     "text": [
      "\r",
      "Epoch 0:  15%|███████████████                                                                                  | 242/1563 [00:16<01:29, 14.83it/s, v_num=15, train_loss=3.960]"
     ]
    },
    {
     "name": "stdout",
     "output_type": "stream",
     "text": [
      "\r",
      "Epoch 0:  16%|███████████████                                                                                  | 243/1563 [00:16<01:28, 14.87it/s, v_num=15, train_loss=3.960]"
     ]
    },
    {
     "name": "stdout",
     "output_type": "stream",
     "text": [
      "\r",
      "Epoch 0:  16%|███████████████                                                                                  | 243/1563 [00:16<01:29, 14.83it/s, v_num=15, train_loss=4.290]"
     ]
    },
    {
     "name": "stdout",
     "output_type": "stream",
     "text": [
      "\r",
      "Epoch 0:  16%|███████████████▏                                                                                 | 244/1563 [00:16<01:28, 14.87it/s, v_num=15, train_loss=4.290]"
     ]
    },
    {
     "name": "stdout",
     "output_type": "stream",
     "text": [
      "\r",
      "Epoch 0:  16%|███████████████▏                                                                                 | 244/1563 [00:16<01:28, 14.83it/s, v_num=15, train_loss=4.210]"
     ]
    },
    {
     "name": "stdout",
     "output_type": "stream",
     "text": [
      "\r",
      "Epoch 0:  16%|███████████████▏                                                                                 | 245/1563 [00:16<01:28, 14.87it/s, v_num=15, train_loss=4.210]"
     ]
    },
    {
     "name": "stdout",
     "output_type": "stream",
     "text": [
      "\r",
      "Epoch 0:  16%|███████████████▏                                                                                 | 245/1563 [00:16<01:28, 14.83it/s, v_num=15, train_loss=4.250]"
     ]
    },
    {
     "name": "stdout",
     "output_type": "stream",
     "text": [
      "\r",
      "Epoch 0:  16%|███████████████▎                                                                                 | 246/1563 [00:16<01:28, 14.87it/s, v_num=15, train_loss=4.250]"
     ]
    },
    {
     "name": "stdout",
     "output_type": "stream",
     "text": [
      "\r",
      "Epoch 0:  16%|███████████████▎                                                                                 | 246/1563 [00:16<01:28, 14.83it/s, v_num=15, train_loss=4.230]"
     ]
    },
    {
     "name": "stdout",
     "output_type": "stream",
     "text": [
      "\r",
      "Epoch 0:  16%|███████████████▎                                                                                 | 247/1563 [00:16<01:28, 14.87it/s, v_num=15, train_loss=4.230]"
     ]
    },
    {
     "name": "stdout",
     "output_type": "stream",
     "text": [
      "\r",
      "Epoch 0:  16%|███████████████▎                                                                                 | 247/1563 [00:16<01:28, 14.83it/s, v_num=15, train_loss=4.270]"
     ]
    },
    {
     "name": "stdout",
     "output_type": "stream",
     "text": [
      "\r",
      "Epoch 0:  16%|███████████████▍                                                                                 | 248/1563 [00:16<01:28, 14.87it/s, v_num=15, train_loss=4.270]"
     ]
    },
    {
     "name": "stdout",
     "output_type": "stream",
     "text": [
      "\r",
      "Epoch 0:  16%|███████████████▍                                                                                 | 248/1563 [00:16<01:28, 14.83it/s, v_num=15, train_loss=4.090]"
     ]
    },
    {
     "name": "stdout",
     "output_type": "stream",
     "text": [
      "\r",
      "Epoch 0:  16%|███████████████▍                                                                                 | 249/1563 [00:16<01:28, 14.87it/s, v_num=15, train_loss=4.090]"
     ]
    },
    {
     "name": "stdout",
     "output_type": "stream",
     "text": [
      "\r",
      "Epoch 0:  16%|███████████████▍                                                                                 | 249/1563 [00:16<01:28, 14.83it/s, v_num=15, train_loss=4.030]"
     ]
    },
    {
     "name": "stdout",
     "output_type": "stream",
     "text": [
      "\r",
      "Epoch 0:  16%|███████████████▌                                                                                 | 250/1563 [00:16<01:28, 14.87it/s, v_num=15, train_loss=4.030]"
     ]
    },
    {
     "name": "stdout",
     "output_type": "stream",
     "text": [
      "\r",
      "Epoch 0:  16%|███████████████▌                                                                                 | 250/1563 [00:16<01:28, 14.83it/s, v_num=15, train_loss=4.260]"
     ]
    },
    {
     "name": "stdout",
     "output_type": "stream",
     "text": [
      "\r",
      "Epoch 0:  16%|███████████████▌                                                                                 | 251/1563 [00:16<01:28, 14.87it/s, v_num=15, train_loss=4.260]"
     ]
    },
    {
     "name": "stdout",
     "output_type": "stream",
     "text": [
      "\r",
      "Epoch 0:  16%|███████████████▌                                                                                 | 251/1563 [00:16<01:28, 14.83it/s, v_num=15, train_loss=4.110]"
     ]
    },
    {
     "name": "stdout",
     "output_type": "stream",
     "text": [
      "\r",
      "Epoch 0:  16%|███████████████▋                                                                                 | 252/1563 [00:16<01:28, 14.88it/s, v_num=15, train_loss=4.110]"
     ]
    },
    {
     "name": "stdout",
     "output_type": "stream",
     "text": [
      "\r",
      "Epoch 0:  16%|███████████████▋                                                                                 | 252/1563 [00:16<01:28, 14.83it/s, v_num=15, train_loss=4.010]"
     ]
    },
    {
     "name": "stdout",
     "output_type": "stream",
     "text": [
      "\r",
      "Epoch 0:  16%|███████████████▋                                                                                 | 253/1563 [00:17<01:28, 14.87it/s, v_num=15, train_loss=4.010]"
     ]
    },
    {
     "name": "stdout",
     "output_type": "stream",
     "text": [
      "\r",
      "Epoch 0:  16%|███████████████▋                                                                                 | 253/1563 [00:17<01:28, 14.83it/s, v_num=15, train_loss=4.000]"
     ]
    },
    {
     "name": "stdout",
     "output_type": "stream",
     "text": [
      "\r",
      "Epoch 0:  16%|███████████████▊                                                                                 | 254/1563 [00:17<01:27, 14.88it/s, v_num=15, train_loss=4.000]"
     ]
    },
    {
     "name": "stdout",
     "output_type": "stream",
     "text": [
      "\r",
      "Epoch 0:  16%|███████████████▊                                                                                 | 254/1563 [00:17<01:28, 14.84it/s, v_num=15, train_loss=3.890]"
     ]
    },
    {
     "name": "stdout",
     "output_type": "stream",
     "text": [
      "\r",
      "Epoch 0:  16%|███████████████▊                                                                                 | 255/1563 [00:17<01:27, 14.88it/s, v_num=15, train_loss=3.890]"
     ]
    },
    {
     "name": "stdout",
     "output_type": "stream",
     "text": [
      "\r",
      "Epoch 0:  16%|███████████████▊                                                                                 | 255/1563 [00:17<01:28, 14.84it/s, v_num=15, train_loss=4.600]"
     ]
    },
    {
     "name": "stdout",
     "output_type": "stream",
     "text": [
      "\r",
      "Epoch 0:  16%|███████████████▉                                                                                 | 256/1563 [00:17<01:27, 14.88it/s, v_num=15, train_loss=4.600]"
     ]
    },
    {
     "name": "stdout",
     "output_type": "stream",
     "text": [
      "\r",
      "Epoch 0:  16%|███████████████▉                                                                                 | 256/1563 [00:17<01:28, 14.84it/s, v_num=15, train_loss=4.360]"
     ]
    },
    {
     "name": "stdout",
     "output_type": "stream",
     "text": [
      "\r",
      "Epoch 0:  16%|███████████████▉                                                                                 | 257/1563 [00:17<01:27, 14.88it/s, v_num=15, train_loss=4.360]"
     ]
    },
    {
     "name": "stdout",
     "output_type": "stream",
     "text": [
      "\r",
      "Epoch 0:  16%|███████████████▉                                                                                 | 257/1563 [00:17<01:28, 14.84it/s, v_num=15, train_loss=4.430]"
     ]
    },
    {
     "name": "stdout",
     "output_type": "stream",
     "text": [
      "\r",
      "Epoch 0:  17%|████████████████                                                                                 | 258/1563 [00:17<01:27, 14.85it/s, v_num=15, train_loss=4.430]"
     ]
    },
    {
     "name": "stdout",
     "output_type": "stream",
     "text": [
      "\r",
      "Epoch 0:  17%|████████████████                                                                                 | 258/1563 [00:17<01:28, 14.83it/s, v_num=15, train_loss=4.120]"
     ]
    },
    {
     "name": "stdout",
     "output_type": "stream",
     "text": [
      "\r",
      "Epoch 0:  17%|████████████████                                                                                 | 259/1563 [00:17<01:27, 14.85it/s, v_num=15, train_loss=4.120]"
     ]
    },
    {
     "name": "stdout",
     "output_type": "stream",
     "text": [
      "\r",
      "Epoch 0:  17%|████████████████                                                                                 | 259/1563 [00:17<01:27, 14.82it/s, v_num=15, train_loss=3.940]"
     ]
    },
    {
     "name": "stdout",
     "output_type": "stream",
     "text": [
      "\r",
      "Epoch 0:  17%|████████████████▏                                                                                | 260/1563 [00:17<01:27, 14.86it/s, v_num=15, train_loss=3.940]"
     ]
    },
    {
     "name": "stdout",
     "output_type": "stream",
     "text": [
      "\r",
      "Epoch 0:  17%|████████████████▏                                                                                | 260/1563 [00:17<01:27, 14.82it/s, v_num=15, train_loss=4.160]"
     ]
    },
    {
     "name": "stdout",
     "output_type": "stream",
     "text": [
      "\r",
      "Epoch 0:  17%|████████████████▏                                                                                | 261/1563 [00:17<01:27, 14.86it/s, v_num=15, train_loss=4.160]"
     ]
    },
    {
     "name": "stdout",
     "output_type": "stream",
     "text": [
      "\r",
      "Epoch 0:  17%|████████████████▏                                                                                | 261/1563 [00:17<01:27, 14.82it/s, v_num=15, train_loss=4.270]"
     ]
    },
    {
     "name": "stdout",
     "output_type": "stream",
     "text": [
      "\r",
      "Epoch 0:  17%|████████████████▎                                                                                | 262/1563 [00:17<01:27, 14.86it/s, v_num=15, train_loss=4.270]"
     ]
    },
    {
     "name": "stdout",
     "output_type": "stream",
     "text": [
      "\r",
      "Epoch 0:  17%|████████████████▎                                                                                | 262/1563 [00:17<01:27, 14.82it/s, v_num=15, train_loss=4.210]"
     ]
    },
    {
     "name": "stdout",
     "output_type": "stream",
     "text": [
      "\r",
      "Epoch 0:  17%|████████████████▎                                                                                | 263/1563 [00:17<01:27, 14.86it/s, v_num=15, train_loss=4.210]"
     ]
    },
    {
     "name": "stdout",
     "output_type": "stream",
     "text": [
      "\r",
      "Epoch 0:  17%|████████████████▎                                                                                | 263/1563 [00:17<01:27, 14.82it/s, v_num=15, train_loss=4.300]"
     ]
    },
    {
     "name": "stdout",
     "output_type": "stream",
     "text": [
      "\r",
      "Epoch 0:  17%|████████████████▍                                                                                | 264/1563 [00:17<01:27, 14.86it/s, v_num=15, train_loss=4.300]"
     ]
    },
    {
     "name": "stdout",
     "output_type": "stream",
     "text": [
      "\r",
      "Epoch 0:  17%|████████████████▍                                                                                | 264/1563 [00:17<01:27, 14.82it/s, v_num=15, train_loss=4.090]"
     ]
    },
    {
     "name": "stdout",
     "output_type": "stream",
     "text": [
      "\r",
      "Epoch 0:  17%|████████████████▍                                                                                | 265/1563 [00:17<01:27, 14.86it/s, v_num=15, train_loss=4.090]"
     ]
    },
    {
     "name": "stdout",
     "output_type": "stream",
     "text": [
      "\r",
      "Epoch 0:  17%|████████████████▍                                                                                | 265/1563 [00:17<01:27, 14.82it/s, v_num=15, train_loss=4.400]"
     ]
    },
    {
     "name": "stdout",
     "output_type": "stream",
     "text": [
      "\r",
      "Epoch 0:  17%|████████████████▌                                                                                | 266/1563 [00:17<01:27, 14.86it/s, v_num=15, train_loss=4.400]"
     ]
    },
    {
     "name": "stdout",
     "output_type": "stream",
     "text": [
      "\r",
      "Epoch 0:  17%|████████████████▌                                                                                | 266/1563 [00:17<01:27, 14.82it/s, v_num=15, train_loss=4.090]"
     ]
    },
    {
     "name": "stdout",
     "output_type": "stream",
     "text": [
      "\r",
      "Epoch 0:  17%|████████████████▌                                                                                | 267/1563 [00:17<01:27, 14.86it/s, v_num=15, train_loss=4.090]"
     ]
    },
    {
     "name": "stdout",
     "output_type": "stream",
     "text": [
      "\r",
      "Epoch 0:  17%|████████████████▌                                                                                | 267/1563 [00:18<01:27, 14.82it/s, v_num=15, train_loss=4.210]"
     ]
    },
    {
     "name": "stdout",
     "output_type": "stream",
     "text": [
      "\r",
      "Epoch 0:  17%|████████████████▋                                                                                | 268/1563 [00:18<01:27, 14.87it/s, v_num=15, train_loss=4.210]"
     ]
    },
    {
     "name": "stdout",
     "output_type": "stream",
     "text": [
      "\r",
      "Epoch 0:  17%|████████████████▋                                                                                | 268/1563 [00:18<01:27, 14.83it/s, v_num=15, train_loss=4.210]"
     ]
    },
    {
     "name": "stdout",
     "output_type": "stream",
     "text": [
      "\r",
      "Epoch 0:  17%|████████████████▋                                                                                | 269/1563 [00:18<01:27, 14.87it/s, v_num=15, train_loss=4.210]"
     ]
    },
    {
     "name": "stdout",
     "output_type": "stream",
     "text": [
      "\r",
      "Epoch 0:  17%|████████████████▋                                                                                | 269/1563 [00:18<01:27, 14.83it/s, v_num=15, train_loss=4.300]"
     ]
    },
    {
     "name": "stdout",
     "output_type": "stream",
     "text": [
      "\r",
      "Epoch 0:  17%|████████████████▊                                                                                | 270/1563 [00:18<01:26, 14.87it/s, v_num=15, train_loss=4.300]"
     ]
    },
    {
     "name": "stdout",
     "output_type": "stream",
     "text": [
      "\r",
      "Epoch 0:  17%|████████████████▊                                                                                | 270/1563 [00:18<01:27, 14.83it/s, v_num=15, train_loss=4.180]"
     ]
    },
    {
     "name": "stdout",
     "output_type": "stream",
     "text": [
      "\r",
      "Epoch 0:  17%|████████████████▊                                                                                | 271/1563 [00:18<01:26, 14.87it/s, v_num=15, train_loss=4.180]"
     ]
    },
    {
     "name": "stdout",
     "output_type": "stream",
     "text": [
      "\r",
      "Epoch 0:  17%|████████████████▊                                                                                | 271/1563 [00:18<01:27, 14.83it/s, v_num=15, train_loss=4.220]"
     ]
    },
    {
     "name": "stdout",
     "output_type": "stream",
     "text": [
      "\r",
      "Epoch 0:  17%|████████████████▉                                                                                | 272/1563 [00:18<01:26, 14.87it/s, v_num=15, train_loss=4.220]"
     ]
    },
    {
     "name": "stdout",
     "output_type": "stream",
     "text": [
      "\r",
      "Epoch 0:  17%|████████████████▉                                                                                | 272/1563 [00:18<01:27, 14.83it/s, v_num=15, train_loss=4.220]"
     ]
    },
    {
     "name": "stdout",
     "output_type": "stream",
     "text": [
      "\r",
      "Epoch 0:  17%|████████████████▉                                                                                | 273/1563 [00:18<01:26, 14.87it/s, v_num=15, train_loss=4.220]"
     ]
    },
    {
     "name": "stdout",
     "output_type": "stream",
     "text": [
      "\r",
      "Epoch 0:  17%|████████████████▉                                                                                | 273/1563 [00:18<01:26, 14.83it/s, v_num=15, train_loss=4.230]"
     ]
    },
    {
     "name": "stdout",
     "output_type": "stream",
     "text": [
      "\r",
      "Epoch 0:  18%|█████████████████                                                                                | 274/1563 [00:18<01:26, 14.87it/s, v_num=15, train_loss=4.230]"
     ]
    },
    {
     "name": "stdout",
     "output_type": "stream",
     "text": [
      "\r",
      "Epoch 0:  18%|█████████████████                                                                                | 274/1563 [00:18<01:26, 14.83it/s, v_num=15, train_loss=4.140]"
     ]
    },
    {
     "name": "stdout",
     "output_type": "stream",
     "text": [
      "\r",
      "Epoch 0:  18%|█████████████████                                                                                | 275/1563 [00:18<01:26, 14.87it/s, v_num=15, train_loss=4.140]"
     ]
    },
    {
     "name": "stdout",
     "output_type": "stream",
     "text": [
      "\r",
      "Epoch 0:  18%|█████████████████                                                                                | 275/1563 [00:18<01:26, 14.83it/s, v_num=15, train_loss=3.910]"
     ]
    },
    {
     "name": "stdout",
     "output_type": "stream",
     "text": [
      "\r",
      "Epoch 0:  18%|█████████████████▏                                                                               | 276/1563 [00:18<01:26, 14.87it/s, v_num=15, train_loss=3.910]"
     ]
    },
    {
     "name": "stdout",
     "output_type": "stream",
     "text": [
      "\r",
      "Epoch 0:  18%|█████████████████▏                                                                               | 276/1563 [00:18<01:26, 14.83it/s, v_num=15, train_loss=4.300]"
     ]
    },
    {
     "name": "stdout",
     "output_type": "stream",
     "text": [
      "\r",
      "Epoch 0:  18%|█████████████████▏                                                                               | 277/1563 [00:18<01:26, 14.87it/s, v_num=15, train_loss=4.300]"
     ]
    },
    {
     "name": "stdout",
     "output_type": "stream",
     "text": [
      "\r",
      "Epoch 0:  18%|█████████████████▏                                                                               | 277/1563 [00:18<01:26, 14.83it/s, v_num=15, train_loss=4.170]"
     ]
    },
    {
     "name": "stdout",
     "output_type": "stream",
     "text": [
      "\r",
      "Epoch 0:  18%|█████████████████▎                                                                               | 278/1563 [00:18<01:26, 14.87it/s, v_num=15, train_loss=4.170]"
     ]
    },
    {
     "name": "stdout",
     "output_type": "stream",
     "text": [
      "\r",
      "Epoch 0:  18%|█████████████████▎                                                                               | 278/1563 [00:18<01:26, 14.84it/s, v_num=15, train_loss=4.470]"
     ]
    },
    {
     "name": "stdout",
     "output_type": "stream",
     "text": [
      "\r",
      "Epoch 0:  18%|█████████████████▎                                                                               | 279/1563 [00:18<01:26, 14.87it/s, v_num=15, train_loss=4.470]"
     ]
    },
    {
     "name": "stdout",
     "output_type": "stream",
     "text": [
      "\r",
      "Epoch 0:  18%|█████████████████▎                                                                               | 279/1563 [00:18<01:26, 14.84it/s, v_num=15, train_loss=4.520]"
     ]
    },
    {
     "name": "stdout",
     "output_type": "stream",
     "text": [
      "\r",
      "Epoch 0:  18%|█████████████████▍                                                                               | 280/1563 [00:18<01:26, 14.87it/s, v_num=15, train_loss=4.520]"
     ]
    },
    {
     "name": "stdout",
     "output_type": "stream",
     "text": [
      "\r",
      "Epoch 0:  18%|█████████████████▍                                                                               | 280/1563 [00:18<01:26, 14.84it/s, v_num=15, train_loss=4.000]"
     ]
    },
    {
     "name": "stdout",
     "output_type": "stream",
     "text": [
      "\r",
      "Epoch 0:  18%|█████████████████▍                                                                               | 281/1563 [00:18<01:26, 14.87it/s, v_num=15, train_loss=4.000]"
     ]
    },
    {
     "name": "stdout",
     "output_type": "stream",
     "text": [
      "\r",
      "Epoch 0:  18%|█████████████████▍                                                                               | 281/1563 [00:18<01:26, 14.84it/s, v_num=15, train_loss=4.260]"
     ]
    },
    {
     "name": "stdout",
     "output_type": "stream",
     "text": [
      "\r",
      "Epoch 0:  18%|█████████████████▌                                                                               | 282/1563 [00:18<01:26, 14.87it/s, v_num=15, train_loss=4.260]"
     ]
    },
    {
     "name": "stdout",
     "output_type": "stream",
     "text": [
      "\r",
      "Epoch 0:  18%|█████████████████▌                                                                               | 282/1563 [00:19<01:26, 14.84it/s, v_num=15, train_loss=4.070]"
     ]
    },
    {
     "name": "stdout",
     "output_type": "stream",
     "text": [
      "\r",
      "Epoch 0:  18%|█████████████████▌                                                                               | 283/1563 [00:19<01:26, 14.88it/s, v_num=15, train_loss=4.070]"
     ]
    },
    {
     "name": "stdout",
     "output_type": "stream",
     "text": [
      "\r",
      "Epoch 0:  18%|█████████████████▌                                                                               | 283/1563 [00:19<01:26, 14.84it/s, v_num=15, train_loss=4.470]"
     ]
    },
    {
     "name": "stdout",
     "output_type": "stream",
     "text": [
      "\r",
      "Epoch 0:  18%|█████████████████▋                                                                               | 284/1563 [00:19<01:25, 14.88it/s, v_num=15, train_loss=4.470]"
     ]
    },
    {
     "name": "stdout",
     "output_type": "stream",
     "text": [
      "\r",
      "Epoch 0:  18%|█████████████████▋                                                                               | 284/1563 [00:19<01:26, 14.84it/s, v_num=15, train_loss=3.960]"
     ]
    },
    {
     "name": "stdout",
     "output_type": "stream",
     "text": [
      "\r",
      "Epoch 0:  18%|█████████████████▋                                                                               | 285/1563 [00:19<01:25, 14.88it/s, v_num=15, train_loss=3.960]"
     ]
    },
    {
     "name": "stdout",
     "output_type": "stream",
     "text": [
      "\r",
      "Epoch 0:  18%|█████████████████▋                                                                               | 285/1563 [00:19<01:26, 14.84it/s, v_num=15, train_loss=4.230]"
     ]
    },
    {
     "name": "stdout",
     "output_type": "stream",
     "text": [
      "\r",
      "Epoch 0:  18%|█████████████████▋                                                                               | 286/1563 [00:19<01:25, 14.88it/s, v_num=15, train_loss=4.230]"
     ]
    },
    {
     "name": "stdout",
     "output_type": "stream",
     "text": [
      "\r",
      "Epoch 0:  18%|█████████████████▋                                                                               | 286/1563 [00:19<01:26, 14.84it/s, v_num=15, train_loss=4.120]"
     ]
    },
    {
     "name": "stdout",
     "output_type": "stream",
     "text": [
      "\r",
      "Epoch 0:  18%|█████████████████▊                                                                               | 287/1563 [00:19<01:25, 14.88it/s, v_num=15, train_loss=4.120]"
     ]
    },
    {
     "name": "stdout",
     "output_type": "stream",
     "text": [
      "\r",
      "Epoch 0:  18%|█████████████████▊                                                                               | 287/1563 [00:19<01:25, 14.84it/s, v_num=15, train_loss=3.930]"
     ]
    },
    {
     "name": "stdout",
     "output_type": "stream",
     "text": [
      "\r",
      "Epoch 0:  18%|█████████████████▊                                                                               | 288/1563 [00:19<01:25, 14.88it/s, v_num=15, train_loss=3.930]"
     ]
    },
    {
     "name": "stdout",
     "output_type": "stream",
     "text": [
      "\r",
      "Epoch 0:  18%|█████████████████▊                                                                               | 288/1563 [00:19<01:25, 14.84it/s, v_num=15, train_loss=4.300]"
     ]
    },
    {
     "name": "stdout",
     "output_type": "stream",
     "text": [
      "\r",
      "Epoch 0:  18%|█████████████████▉                                                                               | 289/1563 [00:19<01:25, 14.88it/s, v_num=15, train_loss=4.300]"
     ]
    },
    {
     "name": "stdout",
     "output_type": "stream",
     "text": [
      "\r",
      "Epoch 0:  18%|█████████████████▉                                                                               | 289/1563 [00:19<01:25, 14.84it/s, v_num=15, train_loss=4.390]"
     ]
    },
    {
     "name": "stdout",
     "output_type": "stream",
     "text": [
      "\r",
      "Epoch 0:  19%|█████████████████▉                                                                               | 290/1563 [00:19<01:25, 14.88it/s, v_num=15, train_loss=4.390]"
     ]
    },
    {
     "name": "stdout",
     "output_type": "stream",
     "text": [
      "\r",
      "Epoch 0:  19%|█████████████████▉                                                                               | 290/1563 [00:19<01:25, 14.84it/s, v_num=15, train_loss=4.170]"
     ]
    },
    {
     "name": "stdout",
     "output_type": "stream",
     "text": [
      "\r",
      "Epoch 0:  19%|██████████████████                                                                               | 291/1563 [00:19<01:25, 14.88it/s, v_num=15, train_loss=4.170]"
     ]
    },
    {
     "name": "stdout",
     "output_type": "stream",
     "text": [
      "\r",
      "Epoch 0:  19%|██████████████████                                                                               | 291/1563 [00:19<01:25, 14.84it/s, v_num=15, train_loss=4.060]"
     ]
    },
    {
     "name": "stdout",
     "output_type": "stream",
     "text": [
      "\r",
      "Epoch 0:  19%|██████████████████                                                                               | 292/1563 [00:19<01:25, 14.88it/s, v_num=15, train_loss=4.060]"
     ]
    },
    {
     "name": "stdout",
     "output_type": "stream",
     "text": [
      "\r",
      "Epoch 0:  19%|██████████████████                                                                               | 292/1563 [00:19<01:25, 14.84it/s, v_num=15, train_loss=4.100]"
     ]
    },
    {
     "name": "stdout",
     "output_type": "stream",
     "text": [
      "\r",
      "Epoch 0:  19%|██████████████████▏                                                                              | 293/1563 [00:19<01:25, 14.88it/s, v_num=15, train_loss=4.100]"
     ]
    },
    {
     "name": "stdout",
     "output_type": "stream",
     "text": [
      "\r",
      "Epoch 0:  19%|██████████████████▏                                                                              | 293/1563 [00:19<01:25, 14.84it/s, v_num=15, train_loss=3.990]"
     ]
    },
    {
     "name": "stdout",
     "output_type": "stream",
     "text": [
      "\r",
      "Epoch 0:  19%|██████████████████▏                                                                              | 294/1563 [00:19<01:25, 14.88it/s, v_num=15, train_loss=3.990]"
     ]
    },
    {
     "name": "stdout",
     "output_type": "stream",
     "text": [
      "\r",
      "Epoch 0:  19%|██████████████████▏                                                                              | 294/1563 [00:19<01:25, 14.84it/s, v_num=15, train_loss=4.240]"
     ]
    },
    {
     "name": "stdout",
     "output_type": "stream",
     "text": [
      "\r",
      "Epoch 0:  19%|██████████████████▎                                                                              | 295/1563 [00:19<01:25, 14.88it/s, v_num=15, train_loss=4.240]"
     ]
    },
    {
     "name": "stdout",
     "output_type": "stream",
     "text": [
      "\r",
      "Epoch 0:  19%|██████████████████▎                                                                              | 295/1563 [00:19<01:25, 14.84it/s, v_num=15, train_loss=4.100]"
     ]
    },
    {
     "name": "stdout",
     "output_type": "stream",
     "text": [
      "\r",
      "Epoch 0:  19%|██████████████████▎                                                                              | 296/1563 [00:19<01:25, 14.88it/s, v_num=15, train_loss=4.100]"
     ]
    },
    {
     "name": "stdout",
     "output_type": "stream",
     "text": [
      "\r",
      "Epoch 0:  19%|██████████████████▎                                                                              | 296/1563 [00:19<01:25, 14.84it/s, v_num=15, train_loss=4.270]"
     ]
    },
    {
     "name": "stdout",
     "output_type": "stream",
     "text": [
      "\r",
      "Epoch 0:  19%|██████████████████▍                                                                              | 297/1563 [00:19<01:25, 14.88it/s, v_num=15, train_loss=4.270]"
     ]
    },
    {
     "name": "stdout",
     "output_type": "stream",
     "text": [
      "\r",
      "Epoch 0:  19%|██████████████████▍                                                                              | 297/1563 [00:20<01:25, 14.84it/s, v_num=15, train_loss=4.260]"
     ]
    },
    {
     "name": "stdout",
     "output_type": "stream",
     "text": [
      "\r",
      "Epoch 0:  19%|██████████████████▍                                                                              | 298/1563 [00:20<01:25, 14.88it/s, v_num=15, train_loss=4.260]"
     ]
    },
    {
     "name": "stdout",
     "output_type": "stream",
     "text": [
      "\r",
      "Epoch 0:  19%|██████████████████▍                                                                              | 298/1563 [00:20<01:25, 14.84it/s, v_num=15, train_loss=4.270]"
     ]
    },
    {
     "name": "stdout",
     "output_type": "stream",
     "text": [
      "\r",
      "Epoch 0:  19%|██████████████████▌                                                                              | 299/1563 [00:20<01:24, 14.88it/s, v_num=15, train_loss=4.270]"
     ]
    },
    {
     "name": "stdout",
     "output_type": "stream",
     "text": [
      "\r",
      "Epoch 0:  19%|██████████████████▌                                                                              | 299/1563 [00:20<01:25, 14.85it/s, v_num=15, train_loss=4.360]"
     ]
    },
    {
     "name": "stdout",
     "output_type": "stream",
     "text": [
      "\r",
      "Epoch 0:  19%|██████████████████▌                                                                              | 300/1563 [00:20<01:24, 14.88it/s, v_num=15, train_loss=4.360]"
     ]
    },
    {
     "name": "stdout",
     "output_type": "stream",
     "text": [
      "\r",
      "Epoch 0:  19%|██████████████████▌                                                                              | 300/1563 [00:20<01:25, 14.85it/s, v_num=15, train_loss=4.220]"
     ]
    },
    {
     "name": "stdout",
     "output_type": "stream",
     "text": [
      "\r",
      "Epoch 0:  19%|██████████████████▋                                                                              | 301/1563 [00:20<01:24, 14.88it/s, v_num=15, train_loss=4.220]"
     ]
    },
    {
     "name": "stdout",
     "output_type": "stream",
     "text": [
      "\r",
      "Epoch 0:  19%|██████████████████▋                                                                              | 301/1563 [00:20<01:24, 14.85it/s, v_num=15, train_loss=4.210]"
     ]
    },
    {
     "name": "stdout",
     "output_type": "stream",
     "text": [
      "\r",
      "Epoch 0:  19%|██████████████████▋                                                                              | 302/1563 [00:20<01:24, 14.88it/s, v_num=15, train_loss=4.210]"
     ]
    },
    {
     "name": "stdout",
     "output_type": "stream",
     "text": [
      "\r",
      "Epoch 0:  19%|██████████████████▋                                                                              | 302/1563 [00:20<01:24, 14.85it/s, v_num=15, train_loss=4.060]"
     ]
    },
    {
     "name": "stdout",
     "output_type": "stream",
     "text": [
      "\r",
      "Epoch 0:  19%|██████████████████▊                                                                              | 303/1563 [00:20<01:24, 14.88it/s, v_num=15, train_loss=4.060]"
     ]
    },
    {
     "name": "stdout",
     "output_type": "stream",
     "text": [
      "\r",
      "Epoch 0:  19%|██████████████████▊                                                                              | 303/1563 [00:20<01:24, 14.85it/s, v_num=15, train_loss=4.210]"
     ]
    },
    {
     "name": "stdout",
     "output_type": "stream",
     "text": [
      "\r",
      "Epoch 0:  19%|██████████████████▊                                                                              | 304/1563 [00:20<01:24, 14.88it/s, v_num=15, train_loss=4.210]"
     ]
    },
    {
     "name": "stdout",
     "output_type": "stream",
     "text": [
      "\r",
      "Epoch 0:  19%|██████████████████▊                                                                              | 304/1563 [00:20<01:24, 14.85it/s, v_num=15, train_loss=4.350]"
     ]
    },
    {
     "name": "stdout",
     "output_type": "stream",
     "text": [
      "\r",
      "Epoch 0:  20%|██████████████████▉                                                                              | 305/1563 [00:20<01:24, 14.89it/s, v_num=15, train_loss=4.350]"
     ]
    },
    {
     "name": "stdout",
     "output_type": "stream",
     "text": [
      "\r",
      "Epoch 0:  20%|██████████████████▉                                                                              | 305/1563 [00:20<01:24, 14.85it/s, v_num=15, train_loss=4.050]"
     ]
    },
    {
     "name": "stdout",
     "output_type": "stream",
     "text": [
      "\r",
      "Epoch 0:  20%|██████████████████▉                                                                              | 306/1563 [00:20<01:24, 14.88it/s, v_num=15, train_loss=4.050]"
     ]
    },
    {
     "name": "stdout",
     "output_type": "stream",
     "text": [
      "\r",
      "Epoch 0:  20%|██████████████████▉                                                                              | 306/1563 [00:20<01:24, 14.85it/s, v_num=15, train_loss=4.580]"
     ]
    },
    {
     "name": "stdout",
     "output_type": "stream",
     "text": [
      "\r",
      "Epoch 0:  20%|███████████████████                                                                              | 307/1563 [00:20<01:24, 14.88it/s, v_num=15, train_loss=4.580]"
     ]
    },
    {
     "name": "stdout",
     "output_type": "stream",
     "text": [
      "\r",
      "Epoch 0:  20%|███████████████████                                                                              | 307/1563 [00:20<01:24, 14.85it/s, v_num=15, train_loss=4.190]"
     ]
    },
    {
     "name": "stdout",
     "output_type": "stream",
     "text": [
      "\r",
      "Epoch 0:  20%|███████████████████                                                                              | 308/1563 [00:20<01:24, 14.88it/s, v_num=15, train_loss=4.190]"
     ]
    },
    {
     "name": "stdout",
     "output_type": "stream",
     "text": [
      "\r",
      "Epoch 0:  20%|███████████████████                                                                              | 308/1563 [00:20<01:24, 14.85it/s, v_num=15, train_loss=3.990]"
     ]
    },
    {
     "name": "stdout",
     "output_type": "stream",
     "text": [
      "\r",
      "Epoch 0:  20%|███████████████████▏                                                                             | 309/1563 [00:20<01:24, 14.88it/s, v_num=15, train_loss=3.990]"
     ]
    },
    {
     "name": "stdout",
     "output_type": "stream",
     "text": [
      "\r",
      "Epoch 0:  20%|███████████████████▏                                                                             | 309/1563 [00:20<01:24, 14.85it/s, v_num=15, train_loss=4.130]"
     ]
    },
    {
     "name": "stdout",
     "output_type": "stream",
     "text": [
      "\r",
      "Epoch 0:  20%|███████████████████▏                                                                             | 310/1563 [00:20<01:24, 14.88it/s, v_num=15, train_loss=4.130]"
     ]
    },
    {
     "name": "stdout",
     "output_type": "stream",
     "text": [
      "\r",
      "Epoch 0:  20%|███████████████████▏                                                                             | 310/1563 [00:20<01:24, 14.85it/s, v_num=15, train_loss=3.990]"
     ]
    },
    {
     "name": "stdout",
     "output_type": "stream",
     "text": [
      "\r",
      "Epoch 0:  20%|███████████████████▎                                                                             | 311/1563 [00:20<01:24, 14.88it/s, v_num=15, train_loss=3.990]"
     ]
    },
    {
     "name": "stdout",
     "output_type": "stream",
     "text": [
      "\r",
      "Epoch 0:  20%|███████████████████▎                                                                             | 311/1563 [00:20<01:24, 14.85it/s, v_num=15, train_loss=3.840]"
     ]
    },
    {
     "name": "stdout",
     "output_type": "stream",
     "text": [
      "\r",
      "Epoch 0:  20%|███████████████████▎                                                                             | 312/1563 [00:20<01:24, 14.89it/s, v_num=15, train_loss=3.840]"
     ]
    },
    {
     "name": "stdout",
     "output_type": "stream",
     "text": [
      "\r",
      "Epoch 0:  20%|███████████████████▎                                                                             | 312/1563 [00:21<01:24, 14.85it/s, v_num=15, train_loss=4.220]"
     ]
    },
    {
     "name": "stdout",
     "output_type": "stream",
     "text": [
      "\r",
      "Epoch 0:  20%|███████████████████▍                                                                             | 313/1563 [00:21<01:23, 14.89it/s, v_num=15, train_loss=4.220]"
     ]
    },
    {
     "name": "stdout",
     "output_type": "stream",
     "text": [
      "\r",
      "Epoch 0:  20%|███████████████████▍                                                                             | 313/1563 [00:21<01:24, 14.85it/s, v_num=15, train_loss=4.170]"
     ]
    },
    {
     "name": "stdout",
     "output_type": "stream",
     "text": [
      "\r",
      "Epoch 0:  20%|███████████████████▍                                                                             | 314/1563 [00:21<01:23, 14.89it/s, v_num=15, train_loss=4.170]"
     ]
    },
    {
     "name": "stdout",
     "output_type": "stream",
     "text": [
      "\r",
      "Epoch 0:  20%|███████████████████▍                                                                             | 314/1563 [00:21<01:24, 14.85it/s, v_num=15, train_loss=4.030]"
     ]
    },
    {
     "name": "stdout",
     "output_type": "stream",
     "text": [
      "\r",
      "Epoch 0:  20%|███████████████████▌                                                                             | 315/1563 [00:21<01:23, 14.88it/s, v_num=15, train_loss=4.030]"
     ]
    },
    {
     "name": "stdout",
     "output_type": "stream",
     "text": [
      "\r",
      "Epoch 0:  20%|███████████████████▌                                                                             | 315/1563 [00:21<01:24, 14.85it/s, v_num=15, train_loss=4.080]"
     ]
    },
    {
     "name": "stdout",
     "output_type": "stream",
     "text": [
      "\r",
      "Epoch 0:  20%|███████████████████▌                                                                             | 316/1563 [00:21<01:23, 14.88it/s, v_num=15, train_loss=4.080]"
     ]
    },
    {
     "name": "stdout",
     "output_type": "stream",
     "text": [
      "\r",
      "Epoch 0:  20%|███████████████████▌                                                                             | 316/1563 [00:21<01:23, 14.85it/s, v_num=15, train_loss=4.430]"
     ]
    },
    {
     "name": "stdout",
     "output_type": "stream",
     "text": [
      "\r",
      "Epoch 0:  20%|███████████████████▋                                                                             | 317/1563 [00:21<01:23, 14.88it/s, v_num=15, train_loss=4.430]"
     ]
    },
    {
     "name": "stdout",
     "output_type": "stream",
     "text": [
      "\r",
      "Epoch 0:  20%|███████████████████▋                                                                             | 317/1563 [00:21<01:23, 14.85it/s, v_num=15, train_loss=4.230]"
     ]
    },
    {
     "name": "stdout",
     "output_type": "stream",
     "text": [
      "\r",
      "Epoch 0:  20%|███████████████████▋                                                                             | 318/1563 [00:21<01:23, 14.89it/s, v_num=15, train_loss=4.230]"
     ]
    },
    {
     "name": "stdout",
     "output_type": "stream",
     "text": [
      "\r",
      "Epoch 0:  20%|███████████████████▋                                                                             | 318/1563 [00:21<01:23, 14.85it/s, v_num=15, train_loss=4.350]"
     ]
    },
    {
     "name": "stdout",
     "output_type": "stream",
     "text": [
      "\r",
      "Epoch 0:  20%|███████████████████▊                                                                             | 319/1563 [00:21<01:23, 14.89it/s, v_num=15, train_loss=4.350]"
     ]
    },
    {
     "name": "stdout",
     "output_type": "stream",
     "text": [
      "\r",
      "Epoch 0:  20%|███████████████████▊                                                                             | 319/1563 [00:21<01:23, 14.86it/s, v_num=15, train_loss=4.030]"
     ]
    },
    {
     "name": "stdout",
     "output_type": "stream",
     "text": [
      "\r",
      "Epoch 0:  20%|███████████████████▊                                                                             | 320/1563 [00:21<01:23, 14.89it/s, v_num=15, train_loss=4.030]"
     ]
    },
    {
     "name": "stdout",
     "output_type": "stream",
     "text": [
      "\r",
      "Epoch 0:  20%|███████████████████▊                                                                             | 320/1563 [00:21<01:23, 14.86it/s, v_num=15, train_loss=4.130]"
     ]
    },
    {
     "name": "stdout",
     "output_type": "stream",
     "text": [
      "\r",
      "Epoch 0:  21%|███████████████████▉                                                                             | 321/1563 [00:21<01:23, 14.89it/s, v_num=15, train_loss=4.130]"
     ]
    },
    {
     "name": "stdout",
     "output_type": "stream",
     "text": [
      "\r",
      "Epoch 0:  21%|███████████████████▉                                                                             | 321/1563 [00:21<01:23, 14.86it/s, v_num=15, train_loss=4.100]"
     ]
    },
    {
     "name": "stdout",
     "output_type": "stream",
     "text": [
      "\r",
      "Epoch 0:  21%|███████████████████▉                                                                             | 322/1563 [00:21<01:23, 14.89it/s, v_num=15, train_loss=4.100]"
     ]
    },
    {
     "name": "stdout",
     "output_type": "stream",
     "text": [
      "\r",
      "Epoch 0:  21%|███████████████████▉                                                                             | 322/1563 [00:21<01:23, 14.86it/s, v_num=15, train_loss=4.690]"
     ]
    },
    {
     "name": "stdout",
     "output_type": "stream",
     "text": [
      "\r",
      "Epoch 0:  21%|████████████████████                                                                             | 323/1563 [00:21<01:23, 14.89it/s, v_num=15, train_loss=4.690]"
     ]
    },
    {
     "name": "stdout",
     "output_type": "stream",
     "text": [
      "\r",
      "Epoch 0:  21%|████████████████████                                                                             | 323/1563 [00:21<01:23, 14.86it/s, v_num=15, train_loss=4.080]"
     ]
    },
    {
     "name": "stdout",
     "output_type": "stream",
     "text": [
      "\r",
      "Epoch 0:  21%|████████████████████                                                                             | 324/1563 [00:21<01:23, 14.89it/s, v_num=15, train_loss=4.080]"
     ]
    },
    {
     "name": "stdout",
     "output_type": "stream",
     "text": [
      "\r",
      "Epoch 0:  21%|████████████████████                                                                             | 324/1563 [00:21<01:23, 14.86it/s, v_num=15, train_loss=4.070]"
     ]
    },
    {
     "name": "stdout",
     "output_type": "stream",
     "text": [
      "\r",
      "Epoch 0:  21%|████████████████████▏                                                                            | 325/1563 [00:21<01:23, 14.89it/s, v_num=15, train_loss=4.070]"
     ]
    },
    {
     "name": "stdout",
     "output_type": "stream",
     "text": [
      "\r",
      "Epoch 0:  21%|████████████████████▏                                                                            | 325/1563 [00:21<01:23, 14.86it/s, v_num=15, train_loss=4.270]"
     ]
    },
    {
     "name": "stdout",
     "output_type": "stream",
     "text": [
      "\r",
      "Epoch 0:  21%|████████████████████▏                                                                            | 326/1563 [00:21<01:23, 14.89it/s, v_num=15, train_loss=4.270]"
     ]
    },
    {
     "name": "stdout",
     "output_type": "stream",
     "text": [
      "\r",
      "Epoch 0:  21%|████████████████████▏                                                                            | 326/1563 [00:21<01:23, 14.86it/s, v_num=15, train_loss=4.110]"
     ]
    },
    {
     "name": "stdout",
     "output_type": "stream",
     "text": [
      "\r",
      "Epoch 0:  21%|████████████████████▎                                                                            | 327/1563 [00:21<01:23, 14.89it/s, v_num=15, train_loss=4.110]"
     ]
    },
    {
     "name": "stdout",
     "output_type": "stream",
     "text": [
      "\r",
      "Epoch 0:  21%|████████████████████▎                                                                            | 327/1563 [00:22<01:23, 14.86it/s, v_num=15, train_loss=4.120]"
     ]
    },
    {
     "name": "stdout",
     "output_type": "stream",
     "text": [
      "\r",
      "Epoch 0:  21%|████████████████████▎                                                                            | 328/1563 [00:22<01:22, 14.89it/s, v_num=15, train_loss=4.120]"
     ]
    },
    {
     "name": "stderr",
     "output_type": "stream",
     "text": [
      "\n",
      "Detected KeyboardInterrupt, attempting graceful shutdown ...\n"
     ]
    },
    {
     "name": "stderr",
     "output_type": "stream",
     "text": [
      "<span class=\"codehilite\"><div class=\"highlight\"><pre><span></span><span class=\"gt\">Traceback (most recent call last):</span>\n",
      "  File <span class=\"nb\">&quot;/Users/rturnbull/MDAP/hierarchicalsoftmax/.venv/lib/python3.13/site-packages/lightning/pytorch/trainer/call.py&quot;</span>, line <span class=\"m\">48</span>, in <span class=\"n\">_call_and_handle_interrupt</span>\n",
      "<span class=\"w\">    </span><span class=\"k\">return</span> <span class=\"n\">trainer_fn</span><span class=\"p\">(</span><span class=\"o\">*</span><span class=\"n\">args</span><span class=\"p\">,</span> <span class=\"o\">**</span><span class=\"n\">kwargs</span><span class=\"p\">)</span>\n",
      "  File <span class=\"nb\">&quot;/Users/rturnbull/MDAP/hierarchicalsoftmax/.venv/lib/python3.13/site-packages/lightning/pytorch/trainer/trainer.py&quot;</span>, line <span class=\"m\">599</span>, in <span class=\"n\">_fit_impl</span>\n",
      "<span class=\"w\">    </span><span class=\"bp\">self</span><span class=\"o\">.</span><span class=\"n\">_run</span><span class=\"p\">(</span><span class=\"n\">model</span><span class=\"p\">,</span> <span class=\"n\">ckpt_path</span><span class=\"o\">=</span><span class=\"n\">ckpt_path</span><span class=\"p\">)</span>\n",
      "<span class=\"w\">    </span><span class=\"pm\">~~~~~~~~~^^^^^^^^^^^^^^^^^^^^^^^^^^^^</span>\n",
      "  File <span class=\"nb\">&quot;/Users/rturnbull/MDAP/hierarchicalsoftmax/.venv/lib/python3.13/site-packages/lightning/pytorch/trainer/trainer.py&quot;</span>, line <span class=\"m\">1012</span>, in <span class=\"n\">_run</span>\n",
      "<span class=\"w\">    </span><span class=\"n\">results</span> <span class=\"o\">=</span> <span class=\"bp\">self</span><span class=\"o\">.</span><span class=\"n\">_run_stage</span><span class=\"p\">()</span>\n",
      "  File <span class=\"nb\">&quot;/Users/rturnbull/MDAP/hierarchicalsoftmax/.venv/lib/python3.13/site-packages/lightning/pytorch/trainer/trainer.py&quot;</span>, line <span class=\"m\">1056</span>, in <span class=\"n\">_run_stage</span>\n",
      "<span class=\"w\">    </span><span class=\"bp\">self</span><span class=\"o\">.</span><span class=\"n\">fit_loop</span><span class=\"o\">.</span><span class=\"n\">run</span><span class=\"p\">()</span>\n",
      "<span class=\"w\">    </span><span class=\"pm\">~~~~~~~~~~~~~~~~~^^</span>\n",
      "  File <span class=\"nb\">&quot;/Users/rturnbull/MDAP/hierarchicalsoftmax/.venv/lib/python3.13/site-packages/lightning/pytorch/loops/fit_loop.py&quot;</span>, line <span class=\"m\">216</span>, in <span class=\"n\">run</span>\n",
      "<span class=\"w\">    </span><span class=\"bp\">self</span><span class=\"o\">.</span><span class=\"n\">advance</span><span class=\"p\">()</span>\n",
      "<span class=\"w\">    </span><span class=\"pm\">~~~~~~~~~~~~^^</span>\n",
      "  File <span class=\"nb\">&quot;/Users/rturnbull/MDAP/hierarchicalsoftmax/.venv/lib/python3.13/site-packages/lightning/pytorch/loops/fit_loop.py&quot;</span>, line <span class=\"m\">455</span>, in <span class=\"n\">advance</span>\n",
      "<span class=\"w\">    </span><span class=\"bp\">self</span><span class=\"o\">.</span><span class=\"n\">epoch_loop</span><span class=\"o\">.</span><span class=\"n\">run</span><span class=\"p\">(</span><span class=\"bp\">self</span><span class=\"o\">.</span><span class=\"n\">_data_fetcher</span><span class=\"p\">)</span>\n",
      "<span class=\"w\">    </span><span class=\"pm\">~~~~~~~~~~~~~~~~~~~^^^^^^^^^^^^^^^^^^^^</span>\n",
      "  File <span class=\"nb\">&quot;/Users/rturnbull/MDAP/hierarchicalsoftmax/.venv/lib/python3.13/site-packages/lightning/pytorch/loops/training_epoch_loop.py&quot;</span>, line <span class=\"m\">150</span>, in <span class=\"n\">run</span>\n",
      "<span class=\"w\">    </span><span class=\"bp\">self</span><span class=\"o\">.</span><span class=\"n\">advance</span><span class=\"p\">(</span><span class=\"n\">data_fetcher</span><span class=\"p\">)</span>\n",
      "<span class=\"w\">    </span><span class=\"pm\">~~~~~~~~~~~~^^^^^^^^^^^^^^</span>\n",
      "  File <span class=\"nb\">&quot;/Users/rturnbull/MDAP/hierarchicalsoftmax/.venv/lib/python3.13/site-packages/lightning/pytorch/loops/training_epoch_loop.py&quot;</span>, line <span class=\"m\">339</span>, in <span class=\"n\">advance</span>\n",
      "<span class=\"w\">    </span><span class=\"n\">call</span><span class=\"o\">.</span><span class=\"n\">_call_callback_hooks</span><span class=\"p\">(</span><span class=\"n\">trainer</span><span class=\"p\">,</span> <span class=\"s2\">&quot;on_train_batch_end&quot;</span><span class=\"p\">,</span> <span class=\"n\">batch_output</span><span class=\"p\">,</span> <span class=\"n\">batch</span><span class=\"p\">,</span> <span class=\"n\">batch_idx</span><span class=\"p\">)</span>\n",
      "<span class=\"w\">    </span><span class=\"pm\">~~~~~~~~~~~~~~~~~~~~~~~~~^^^^^^^^^^^^^^^^^^^^^^^^^^^^^^^^^^^^^^^^^^^^^^^^^^^^^^^^^^^^^^^</span>\n",
      "  File <span class=\"nb\">&quot;/Users/rturnbull/MDAP/hierarchicalsoftmax/.venv/lib/python3.13/site-packages/lightning/pytorch/trainer/call.py&quot;</span>, line <span class=\"m\">227</span>, in <span class=\"n\">_call_callback_hooks</span>\n",
      "<span class=\"w\">    </span><span class=\"n\">fn</span><span class=\"p\">(</span><span class=\"n\">trainer</span><span class=\"p\">,</span> <span class=\"n\">trainer</span><span class=\"o\">.</span><span class=\"n\">lightning_module</span><span class=\"p\">,</span> <span class=\"o\">*</span><span class=\"n\">args</span><span class=\"p\">,</span> <span class=\"o\">**</span><span class=\"n\">kwargs</span><span class=\"p\">)</span>\n",
      "<span class=\"w\">    </span><span class=\"pm\">~~^^^^^^^^^^^^^^^^^^^^^^^^^^^^^^^^^^^^^^^^^^^^^^^^^^^^</span>\n",
      "  File <span class=\"nb\">&quot;/Users/rturnbull/MDAP/hierarchicalsoftmax/.venv/lib/python3.13/site-packages/lightning/pytorch/callbacks/progress/tqdm_progress.py&quot;</span>, line <span class=\"m\">279</span>, in <span class=\"n\">on_train_batch_end</span>\n",
      "<span class=\"w\">    </span><span class=\"bp\">self</span><span class=\"o\">.</span><span class=\"n\">train_progress_bar</span><span class=\"o\">.</span><span class=\"n\">set_postfix</span><span class=\"p\">(</span><span class=\"bp\">self</span><span class=\"o\">.</span><span class=\"n\">get_metrics</span><span class=\"p\">(</span><span class=\"n\">trainer</span><span class=\"p\">,</span> <span class=\"n\">pl_module</span><span class=\"p\">))</span>\n",
      "<span class=\"w\">                                        </span><span class=\"pm\">~~~~~~~~~~~~~~~~^^^^^^^^^^^^^^^^^^^^</span>\n",
      "  File <span class=\"nb\">&quot;/Users/rturnbull/MDAP/hierarchicalsoftmax/.venv/lib/python3.13/site-packages/lightning/pytorch/callbacks/progress/progress_bar.py&quot;</span>, line <span class=\"m\">198</span>, in <span class=\"n\">get_metrics</span>\n",
      "<span class=\"w\">    </span><span class=\"n\">pbar_metrics</span> <span class=\"o\">=</span> <span class=\"n\">trainer</span><span class=\"o\">.</span><span class=\"n\">progress_bar_metrics</span>\n",
      "<span class=\"w\">                   </span><span class=\"pm\">^^^^^^^^^^^^^^^^^^^^^^^^^^^^</span>\n",
      "  File <span class=\"nb\">&quot;/Users/rturnbull/MDAP/hierarchicalsoftmax/.venv/lib/python3.13/site-packages/lightning/pytorch/trainer/trainer.py&quot;</span>, line <span class=\"m\">1667</span>, in <span class=\"n\">progress_bar_metrics</span>\n",
      "<span class=\"w\">    </span><span class=\"k\">return</span> <span class=\"bp\">self</span><span class=\"o\">.</span><span class=\"n\">_logger_connector</span><span class=\"o\">.</span><span class=\"n\">progress_bar_metrics</span>\n",
      "<span class=\"w\">           </span><span class=\"pm\">^^^^^^^^^^^^^^^^^^^^^^^^^^^^^^^^^^^^^^^^^^^</span>\n",
      "  File <span class=\"nb\">&quot;/Users/rturnbull/MDAP/hierarchicalsoftmax/.venv/lib/python3.13/site-packages/lightning/pytorch/trainer/connectors/logger_connector/logger_connector.py&quot;</span>, line <span class=\"m\">254</span>, in <span class=\"n\">progress_bar_metrics</span>\n",
      "<span class=\"w\">    </span><span class=\"n\">metrics</span> <span class=\"o\">=</span> <span class=\"bp\">self</span><span class=\"o\">.</span><span class=\"n\">metrics</span><span class=\"p\">[</span><span class=\"s2\">&quot;pbar&quot;</span><span class=\"p\">]</span>\n",
      "<span class=\"w\">              </span><span class=\"pm\">^^^^^^^^^^^^</span>\n",
      "  File <span class=\"nb\">&quot;/Users/rturnbull/MDAP/hierarchicalsoftmax/.venv/lib/python3.13/site-packages/lightning/pytorch/trainer/connectors/logger_connector/logger_connector.py&quot;</span>, line <span class=\"m\">235</span>, in <span class=\"n\">metrics</span>\n",
      "<span class=\"w\">    </span><span class=\"k\">return</span> <span class=\"bp\">self</span><span class=\"o\">.</span><span class=\"n\">trainer</span><span class=\"o\">.</span><span class=\"n\">_results</span><span class=\"o\">.</span><span class=\"n\">metrics</span><span class=\"p\">(</span><span class=\"n\">on_step</span><span class=\"p\">)</span>\n",
      "<span class=\"w\">           </span><span class=\"pm\">~~~~~~~~~~~~~~~~~~~~~~~~~~~~~^^^^^^^^^</span>\n",
      "  File <span class=\"nb\">&quot;/Users/rturnbull/MDAP/hierarchicalsoftmax/.venv/lib/python3.13/site-packages/lightning/pytorch/trainer/connectors/logger_connector/result.py&quot;</span>, line <span class=\"m\">493</span>, in <span class=\"n\">metrics</span>\n",
      "<span class=\"w\">    </span><span class=\"n\">metrics</span><span class=\"p\">[</span><span class=\"s2\">&quot;pbar&quot;</span><span class=\"p\">][</span><span class=\"n\">forked_name</span><span class=\"p\">]</span> <span class=\"o\">=</span> <span class=\"n\">convert_tensors_to_scalars</span><span class=\"p\">(</span><span class=\"n\">value</span><span class=\"p\">)</span>\n",
      "<span class=\"w\">                                   </span><span class=\"pm\">~~~~~~~~~~~~~~~~~~~~~~~~~~^^^^^^^</span>\n",
      "  File <span class=\"nb\">&quot;/Users/rturnbull/MDAP/hierarchicalsoftmax/.venv/lib/python3.13/site-packages/lightning/fabric/utilities/apply_func.py&quot;</span>, line <span class=\"m\">136</span>, in <span class=\"n\">convert_tensors_to_scalars</span>\n",
      "<span class=\"w\">    </span><span class=\"k\">return</span> <span class=\"n\">apply_to_collection</span><span class=\"p\">(</span><span class=\"n\">data</span><span class=\"p\">,</span> <span class=\"n\">Tensor</span><span class=\"p\">,</span> <span class=\"n\">to_item</span><span class=\"p\">)</span>\n",
      "  File <span class=\"nb\">&quot;/Users/rturnbull/MDAP/hierarchicalsoftmax/.venv/lib/python3.13/site-packages/lightning_utilities/core/apply_func.py&quot;</span>, line <span class=\"m\">66</span>, in <span class=\"n\">apply_to_collection</span>\n",
      "<span class=\"w\">    </span><span class=\"k\">return</span> <span class=\"n\">function</span><span class=\"p\">(</span><span class=\"n\">data</span><span class=\"p\">,</span> <span class=\"o\">*</span><span class=\"n\">args</span><span class=\"p\">,</span> <span class=\"o\">**</span><span class=\"n\">kwargs</span><span class=\"p\">)</span>\n",
      "  File <span class=\"nb\">&quot;/Users/rturnbull/MDAP/hierarchicalsoftmax/.venv/lib/python3.13/site-packages/lightning/fabric/utilities/apply_func.py&quot;</span>, line <span class=\"m\">134</span>, in <span class=\"n\">to_item</span>\n",
      "<span class=\"w\">    </span><span class=\"k\">return</span> <span class=\"n\">value</span><span class=\"o\">.</span><span class=\"n\">item</span><span class=\"p\">()</span>\n",
      "<span class=\"w\">           </span><span class=\"pm\">~~~~~~~~~~^^</span>\n",
      "  File <span class=\"nb\">&quot;/Users/rturnbull/MDAP/hierarchicalsoftmax/.venv/lib/python3.13/site-packages/marimo/_runtime/handlers.py&quot;</span>, line <span class=\"m\">32</span>, in <span class=\"n\">interrupt_handler</span>\n",
      "<span class=\"w\">    </span><span class=\"k\">raise</span> <span class=\"n\">MarimoInterrupt</span>\n",
      "<span class=\"gr\">KeyboardInterrupt</span>\n",
      "\n",
      "<span class=\"gt\">During handling of the above exception, another exception occurred:</span>\n",
      "\n",
      "<span class=\"gt\">Traceback (most recent call last):</span>\n",
      "  File <span class=\"nb\">&quot;/Users/rturnbull/MDAP/hierarchicalsoftmax/.venv/lib/python3.13/site-packages/marimo/_runtime/executor.py&quot;</span>, line <span class=\"m\">123</span>, in <span class=\"n\">execute_cell</span>\n",
      "<span class=\"w\">    </span><span class=\"k\">return</span> <span class=\"nb\">eval</span><span class=\"p\">(</span><span class=\"n\">cell</span><span class=\"o\">.</span><span class=\"n\">last_expr</span><span class=\"p\">,</span> <span class=\"n\">glbls</span><span class=\"p\">)</span>\n",
      "  File <span class=\"nb\">&quot;/var/folders/5x/vn169pd92hb1twlj61zvwpw40000gq/T/marimo_46152/__marimo__cell_Kclp_.py&quot;</span>, line <span class=\"m\">5</span>, in <span class=\"n\">&lt;module&gt;</span>\n",
      "<span class=\"w\">    </span><span class=\"n\">basic_trainer</span><span class=\"o\">.</span><span class=\"n\">fit</span><span class=\"p\">(</span><span class=\"n\">basic_model</span><span class=\"p\">,</span> <span class=\"n\">train_dataloaders</span><span class=\"o\">=</span><span class=\"n\">train_loader</span><span class=\"p\">,</span> <span class=\"n\">val_dataloaders</span><span class=\"o\">=</span><span class=\"n\">test_loader</span><span class=\"p\">)</span>\n",
      "<span class=\"w\">    </span><span class=\"pm\">~~~~~~~~~~~~~~~~~^^^^^^^^^^^^^^^^^^^^^^^^^^^^^^^^^^^^^^^^^^^^^^^^^^^^^^^^^^^^^^^^^^^^^^^^^^</span>\n",
      "  File <span class=\"nb\">&quot;/Users/rturnbull/MDAP/hierarchicalsoftmax/.venv/lib/python3.13/site-packages/lightning/pytorch/trainer/trainer.py&quot;</span>, line <span class=\"m\">561</span>, in <span class=\"n\">fit</span>\n",
      "<span class=\"w\">    </span><span class=\"n\">call</span><span class=\"o\">.</span><span class=\"n\">_call_and_handle_interrupt</span><span class=\"p\">(</span>\n",
      "<span class=\"w\">    </span><span class=\"pm\">~~~~~~~~~~~~~~~~~~~~~~~~~~~~~~~^</span>\n",
      "<span class=\"w\">    </span>    <span class=\"bp\">self</span><span class=\"p\">,</span> <span class=\"bp\">self</span><span class=\"o\">.</span><span class=\"n\">_fit_impl</span><span class=\"p\">,</span> <span class=\"n\">model</span><span class=\"p\">,</span> <span class=\"n\">train_dataloaders</span><span class=\"p\">,</span> <span class=\"n\">val_dataloaders</span><span class=\"p\">,</span> <span class=\"n\">datamodule</span><span class=\"p\">,</span> <span class=\"n\">ckpt_path</span>\n",
      "<span class=\"w\">        </span><span class=\"pm\">^^^^^^^^^^^^^^^^^^^^^^^^^^^^^^^^^^^^^^^^^^^^^^^^^^^^^^^^^^^^^^^^^^^^^^^^^^^^^^^^^^^^^^</span>\n",
      "<span class=\"w\">    </span><span class=\"p\">)</span>\n",
      "<span class=\"w\">    </span><span class=\"pm\">^</span>\n",
      "  File <span class=\"nb\">&quot;/Users/rturnbull/MDAP/hierarchicalsoftmax/.venv/lib/python3.13/site-packages/lightning/pytorch/trainer/call.py&quot;</span>, line <span class=\"m\">65</span>, in <span class=\"n\">_call_and_handle_interrupt</span>\n",
      "<span class=\"w\">    </span><span class=\"n\">exit</span><span class=\"p\">(</span><span class=\"mi\">1</span><span class=\"p\">)</span>\n",
      "<span class=\"w\">    </span><span class=\"pm\">~~~~^^^</span>\n",
      "  File <span class=\"nb\">&quot;&lt;frozen _sitebuiltins&gt;&quot;</span>, line <span class=\"m\">26</span>, in <span class=\"n\">__call__</span>\n",
      "<span class=\"gr\">SystemExit</span>: <span class=\"n\">1</span>\n",
      "</pre></div>\n",
      "</span>"
     ]
    }
   ],
   "source": [
    "from lightning.pytorch.loggers import CSVLogger\n",
    "\n",
    "basic_logger = CSVLogger(save_dir=\"lightning_logs\", name=\"basic_model\")\n",
    "basic_trainer = L.Trainer(max_epochs=epochs, accelerator=\"auto\", enable_checkpointing=False, logger=basic_logger)\n",
    "basic_trainer.fit(basic_model, train_dataloaders=train_loader, val_dataloaders=test_loader)"
   ]
  },
  {
   "cell_type": "code",
   "execution_count": null,
   "id": "emfo",
   "metadata": {},
   "outputs": [
    {
     "name": "stderr",
     "output_type": "stream",
     "text": [
      "<span class=\"codehilite\"><div class=\"highlight\"><pre><span></span><span class=\"gt\">Traceback (most recent call last):</span>\n",
      "  File <span class=\"nb\">&quot;/Users/rturnbull/MDAP/hierarchicalsoftmax/.venv/lib/python3.13/site-packages/marimo/_runtime/executor.py&quot;</span>, line <span class=\"m\">122</span>, in <span class=\"n\">execute_cell</span>\n",
      "<span class=\"w\">    </span><span class=\"n\">exec</span><span class=\"p\">(</span><span class=\"n\">cell</span><span class=\"o\">.</span><span class=\"n\">body</span><span class=\"p\">,</span> <span class=\"n\">glbls</span><span class=\"p\">)</span>\n",
      "<span class=\"w\">    </span><span class=\"pm\">~~~~^^^^^^^^^^^^^^^^^^</span>\n",
      "  File <span class=\"nb\">&quot;/var/folders/5x/vn169pd92hb1twlj61zvwpw40000gq/T/marimo_46152/__marimo__cell_emfo_.py&quot;</span>, line <span class=\"m\">5</span>, in <span class=\"n\">&lt;module&gt;</span>\n",
      "<span class=\"w\">    </span><span class=\"n\">basic_metrics_df</span> <span class=\"o\">=</span> <span class=\"n\">basic_metrics_df</span><span class=\"o\">.</span><span class=\"n\">dropna</span><span class=\"p\">(</span><span class=\"n\">subset</span><span class=\"o\">=</span><span class=\"p\">[</span><span class=\"s2\">&quot;val_MulticlassAccuracy&quot;</span><span class=\"p\">])</span>\n",
      "  File <span class=\"nb\">&quot;/Users/rturnbull/MDAP/hierarchicalsoftmax/.venv/lib/python3.13/site-packages/pandas/core/frame.py&quot;</span>, line <span class=\"m\">6670</span>, in <span class=\"n\">dropna</span>\n",
      "<span class=\"w\">    </span><span class=\"k\">raise</span> <span class=\"ne\">KeyError</span><span class=\"p\">(</span><span class=\"n\">np</span><span class=\"o\">.</span><span class=\"n\">array</span><span class=\"p\">(</span><span class=\"n\">subset</span><span class=\"p\">)[</span><span class=\"n\">check</span><span class=\"p\">]</span><span class=\"o\">.</span><span class=\"n\">tolist</span><span class=\"p\">())</span>\n",
      "<span class=\"gr\">KeyError</span>: <span class=\"n\">[&#39;val_MulticlassAccuracy&#39;]</span>\n",
      "</pre></div>\n",
      "</span>"
     ]
    }
   ],
   "source": [
    "import pandas as pd\n",
    "from pathlib import Path\n",
    "\n",
    "basic_metrics_df = pd.read_csv(Path(basic_logger.log_dir) / \"metrics.csv\")\n",
    "basic_metrics_df = basic_metrics_df.dropna(subset=[\"val_MulticlassAccuracy\"])\n",
    "basic_fig = go.Figure()\n",
    "basic_fig.add_trace(go.Scatter(x=basic_metrics_df[\"epoch\"], y=basic_metrics_df[\"val_MulticlassAccuracy\"], mode='lines', name='class'))\n",
    "basic_fig.update_layout(\n",
    "    xaxis_title=\"Epochs\",\n",
    "    yaxis_title=\"Accuracy\",\n",
    ")\n",
    "basic_fig.show()\n"
   ]
  },
  {
   "cell_type": "markdown",
   "id": "Hstk",
   "metadata": {
    "marimo": {
     "config": {
      "hide_code": true
     }
    }
   },
   "source": [
    "## Hierarchical model\n",
    "\n",
    "Let's now create a hierarchical model.\n",
    "First we need to create a tree structure for the CIFAR dataset."
   ]
  },
  {
   "cell_type": "code",
   "execution_count": null,
   "id": "nWHF",
   "metadata": {},
   "outputs": [
    {
     "data": {
      "text/html": [
       "<?xml version=\"1.0\" encoding=\"UTF-8\" standalone=\"no\"?>\n",
       "<!DOCTYPE svg PUBLIC \"-//W3C//DTD SVG 1.1//EN\"\n",
       " \"http://www.w3.org/Graphics/SVG/1.1/DTD/svg11.dtd\">\n",
       "<!-- Generated by graphviz version 12.2.1 (20241206.2353)\n",
       " -->\n",
       "<!-- Title: tree Pages: 1 -->\n",
       "<svg width=\"521pt\" height=\"5390pt\"\n",
       " viewBox=\"0.00 0.00 520.59 5390.00\" xmlns=\"http://www.w3.org/2000/svg\" xmlns:xlink=\"http://www.w3.org/1999/xlink\">\n",
       "<g id=\"graph0\" class=\"graph\" transform=\"scale(1 1) rotate(0) translate(4 5386)\">\n",
       "<title>tree</title>\n",
       "<polygon fill=\"white\" stroke=\"none\" points=\"-4,4 -4,-5386 516.59,-5386 516.59,4 -4,4\"/>\n",
       "<!-- root -->\n",
       "<g id=\"node1\" class=\"node\">\n",
       "<title>root</title>\n",
       "<ellipse fill=\"none\" stroke=\"black\" cx=\"27\" cy=\"-2718\" rx=\"27\" ry=\"18\"/>\n",
       "<text text-anchor=\"middle\" x=\"27\" y=\"-2712.95\" font-family=\"Times,serif\" font-size=\"14.00\">root</text>\n",
       "</g>\n",
       "<!-- aquatic mammals -->\n",
       "<g id=\"node2\" class=\"node\">\n",
       "<title>aquatic mammals</title>\n",
       "<ellipse fill=\"none\" stroke=\"black\" cx=\"218.63\" cy=\"-5229\" rx=\"77.45\" ry=\"18\"/>\n",
       "<text text-anchor=\"middle\" x=\"218.63\" y=\"-5223.95\" font-family=\"Times,serif\" font-size=\"14.00\">aquatic mammals</text>\n",
       "</g>\n",
       "<!-- root&#45;&gt;aquatic mammals -->\n",
       "<g id=\"edge1\" class=\"edge\">\n",
       "<title>root&#45;&gt;aquatic mammals</title>\n",
       "<path fill=\"none\" stroke=\"black\" d=\"M28,-2736.47C28.01,-2939.7 29.87,-4755.78 90,-4986 112.07,-5070.48 167.93,-5158.51 197.91,-5201.73\"/>\n",
       "<polygon fill=\"black\" stroke=\"black\" points=\"194.93,-5203.59 203.54,-5209.76 200.66,-5199.56 194.93,-5203.59\"/>\n",
       "</g>\n",
       "<!-- fish -->\n",
       "<g id=\"node8\" class=\"node\">\n",
       "<title>fish</title>\n",
       "<ellipse fill=\"none\" stroke=\"black\" cx=\"218.63\" cy=\"-4959\" rx=\"27\" ry=\"18\"/>\n",
       "<text text-anchor=\"middle\" x=\"218.63\" y=\"-4953.95\" font-family=\"Times,serif\" font-size=\"14.00\">fish</text>\n",
       "</g>\n",
       "<!-- root&#45;&gt;fish -->\n",
       "<g id=\"edge2\" class=\"edge\">\n",
       "<title>root&#45;&gt;fish</title>\n",
       "<path fill=\"none\" stroke=\"black\" d=\"M28.07,-2736.28C28.83,-2924.89 36.84,-4514 90,-4716 112.51,-4801.54 169.48,-4890.79 199.1,-4933.39\"/>\n",
       "<polygon fill=\"black\" stroke=\"black\" points=\"196.18,-4935.32 204.8,-4941.48 201.9,-4931.29 196.18,-4935.32\"/>\n",
       "</g>\n",
       "<!-- flowers -->\n",
       "<g id=\"node14\" class=\"node\">\n",
       "<title>flowers</title>\n",
       "<ellipse fill=\"none\" stroke=\"black\" cx=\"218.63\" cy=\"-4689\" rx=\"38.56\" ry=\"18\"/>\n",
       "<text text-anchor=\"middle\" x=\"218.63\" y=\"-4683.95\" font-family=\"Times,serif\" font-size=\"14.00\">flowers</text>\n",
       "</g>\n",
       "<!-- root&#45;&gt;flowers -->\n",
       "<g id=\"edge3\" class=\"edge\">\n",
       "<title>root&#45;&gt;flowers</title>\n",
       "<path fill=\"none\" stroke=\"black\" d=\"M28.16,-2736.45C29.78,-2911.18 43.84,-4272.29 90,-4446 112.6,-4531.03 168.98,-4619.8 198.67,-4662.69\"/>\n",
       "<polygon fill=\"black\" stroke=\"black\" points=\"195.62,-4664.43 204.22,-4670.61 201.35,-4660.42 195.62,-4664.43\"/>\n",
       "</g>\n",
       "<!-- food containers -->\n",
       "<g id=\"node20\" class=\"node\">\n",
       "<title>food containers</title>\n",
       "<ellipse fill=\"none\" stroke=\"black\" cx=\"218.63\" cy=\"-4419\" rx=\"68.24\" ry=\"18\"/>\n",
       "<text text-anchor=\"middle\" x=\"218.63\" y=\"-4413.95\" font-family=\"Times,serif\" font-size=\"14.00\">food containers</text>\n",
       "</g>\n",
       "<!-- root&#45;&gt;food containers -->\n",
       "<g id=\"edge4\" class=\"edge\">\n",
       "<title>root&#45;&gt;food containers</title>\n",
       "<path fill=\"none\" stroke=\"black\" d=\"M28.3,-2736.45C30.9,-2895.35 50.8,-4030.44 90,-4176 112.71,-4260.31 168.29,-4348.42 198.06,-4391.69\"/>\n",
       "<polygon fill=\"black\" stroke=\"black\" points=\"195.07,-4393.52 203.65,-4399.73 200.81,-4389.52 195.07,-4393.52\"/>\n",
       "</g>\n",
       "<!-- fruit and vegetables -->\n",
       "<g id=\"node26\" class=\"node\">\n",
       "<title>fruit and vegetables</title>\n",
       "<ellipse fill=\"none\" stroke=\"black\" cx=\"218.63\" cy=\"-4149\" rx=\"84.11\" ry=\"18\"/>\n",
       "<text text-anchor=\"middle\" x=\"218.63\" y=\"-4143.95\" font-family=\"Times,serif\" font-size=\"14.00\">fruit and vegetables</text>\n",
       "</g>\n",
       "<!-- root&#45;&gt;fruit and vegetables -->\n",
       "<g id=\"edge5\" class=\"edge\">\n",
       "<title>root&#45;&gt;fruit and vegetables</title>\n",
       "<path fill=\"none\" stroke=\"black\" d=\"M27.88,-2736.37C27.21,-2868.23 25.83,-3672.23 90,-3906 113.11,-3990.2 168.52,-4078.35 198.16,-4121.67\"/>\n",
       "<polygon fill=\"black\" stroke=\"black\" points=\"195.16,-4123.48 203.73,-4129.71 200.91,-4119.49 195.16,-4123.48\"/>\n",
       "</g>\n",
       "<!-- household electrical devices -->\n",
       "<g id=\"node32\" class=\"node\">\n",
       "<title>household electrical devices</title>\n",
       "<ellipse fill=\"none\" stroke=\"black\" cx=\"218.63\" cy=\"-3879\" rx=\"115.33\" ry=\"18\"/>\n",
       "<text text-anchor=\"middle\" x=\"218.63\" y=\"-3873.95\" font-family=\"Times,serif\" font-size=\"14.00\">household electrical devices</text>\n",
       "</g>\n",
       "<!-- root&#45;&gt;household electrical devices -->\n",
       "<g id=\"edge6\" class=\"edge\">\n",
       "<title>root&#45;&gt;household electrical devices</title>\n",
       "<path fill=\"none\" stroke=\"black\" d=\"M28.21,-2736.36C29.65,-2849.94 39.64,-3457.89 90,-3636 113.75,-3720.02 168.89,-3808.25 198.32,-3851.62\"/>\n",
       "<polygon fill=\"black\" stroke=\"black\" points=\"195.3,-3853.41 203.84,-3859.67 201.07,-3849.45 195.3,-3853.41\"/>\n",
       "</g>\n",
       "<!-- household furniture -->\n",
       "<g id=\"node38\" class=\"node\">\n",
       "<title>household furniture</title>\n",
       "<ellipse fill=\"none\" stroke=\"black\" cx=\"218.63\" cy=\"-3609\" rx=\"83.6\" ry=\"18\"/>\n",
       "<text text-anchor=\"middle\" x=\"218.63\" y=\"-3603.95\" font-family=\"Times,serif\" font-size=\"14.00\">household furniture</text>\n",
       "</g>\n",
       "<!-- root&#45;&gt;household furniture -->\n",
       "<g id=\"edge7\" class=\"edge\">\n",
       "<title>root&#45;&gt;household furniture</title>\n",
       "<path fill=\"none\" stroke=\"black\" d=\"M28.8,-2736.33C32.95,-2828.65 53.38,-3243.07 90,-3366 114.93,-3449.68 169.56,-3538.06 198.6,-3581.54\"/>\n",
       "<polygon fill=\"black\" stroke=\"black\" points=\"195.55,-3583.28 204.05,-3589.61 201.35,-3579.36 195.55,-3583.28\"/>\n",
       "</g>\n",
       "<!-- insects -->\n",
       "<g id=\"node44\" class=\"node\">\n",
       "<title>insects</title>\n",
       "<ellipse fill=\"none\" stroke=\"black\" cx=\"218.63\" cy=\"-3339\" rx=\"36\" ry=\"18\"/>\n",
       "<text text-anchor=\"middle\" x=\"218.63\" y=\"-3333.95\" font-family=\"Times,serif\" font-size=\"14.00\">insects</text>\n",
       "</g>\n",
       "<!-- root&#45;&gt;insects -->\n",
       "<g id=\"edge8\" class=\"edge\">\n",
       "<title>root&#45;&gt;insects</title>\n",
       "<path fill=\"none\" stroke=\"black\" d=\"M28.92,-2736.2C32.16,-2791.62 45.34,-2962.63 90,-3096 117.94,-3179.46 172,-3268.97 199.95,-3312.37\"/>\n",
       "<polygon fill=\"black\" stroke=\"black\" points=\"196.93,-3314.14 205.31,-3320.62 202.8,-3310.33 196.93,-3314.14\"/>\n",
       "</g>\n",
       "<!-- large carnivores -->\n",
       "<g id=\"node50\" class=\"node\">\n",
       "<title>large carnivores</title>\n",
       "<ellipse fill=\"none\" stroke=\"black\" cx=\"218.63\" cy=\"-3069\" rx=\"70.29\" ry=\"18\"/>\n",
       "<text text-anchor=\"middle\" x=\"218.63\" y=\"-3063.95\" font-family=\"Times,serif\" font-size=\"14.00\">large carnivores</text>\n",
       "</g>\n",
       "<!-- root&#45;&gt;large carnivores -->\n",
       "<g id=\"edge9\" class=\"edge\">\n",
       "<title>root&#45;&gt;large carnivores</title>\n",
       "<path fill=\"none\" stroke=\"black\" d=\"M37.15,-2734.93C67.48,-2791.07 164.95,-2971.48 202.6,-3041.17\"/>\n",
       "<polygon fill=\"black\" stroke=\"black\" points=\"199.35,-3042.53 207.19,-3049.66 205.51,-3039.2 199.35,-3042.53\"/>\n",
       "</g>\n",
       "<!-- large man&#45;made outdoor things -->\n",
       "<g id=\"node56\" class=\"node\">\n",
       "<title>large man&#45;made outdoor things</title>\n",
       "<ellipse fill=\"none\" stroke=\"black\" cx=\"218.63\" cy=\"-2799\" rx=\"128.12\" ry=\"18\"/>\n",
       "<text text-anchor=\"middle\" x=\"218.63\" y=\"-2793.95\" font-family=\"Times,serif\" font-size=\"14.00\">large man&#45;made outdoor things</text>\n",
       "</g>\n",
       "<!-- root&#45;&gt;large man&#45;made outdoor things -->\n",
       "<g id=\"edge10\" class=\"edge\">\n",
       "<title>root&#45;&gt;large man&#45;made outdoor things</title>\n",
       "<path fill=\"none\" stroke=\"black\" d=\"M50.5,-2727.61C78.93,-2739.75 128.71,-2761.02 166.57,-2777.19\"/>\n",
       "<polygon fill=\"black\" stroke=\"black\" points=\"164.94,-2780.3 175.51,-2781.01 167.69,-2773.86 164.94,-2780.3\"/>\n",
       "</g>\n",
       "<!-- large natural outdoor scenes -->\n",
       "<g id=\"node62\" class=\"node\">\n",
       "<title>large natural outdoor scenes</title>\n",
       "<ellipse fill=\"none\" stroke=\"black\" cx=\"218.63\" cy=\"-2583\" rx=\"115.33\" ry=\"18\"/>\n",
       "<text text-anchor=\"middle\" x=\"218.63\" y=\"-2577.95\" font-family=\"Times,serif\" font-size=\"14.00\">large natural outdoor scenes</text>\n",
       "</g>\n",
       "<!-- root&#45;&gt;large natural outdoor scenes -->\n",
       "<g id=\"edge11\" class=\"edge\">\n",
       "<title>root&#45;&gt;large natural outdoor scenes</title>\n",
       "<path fill=\"none\" stroke=\"black\" d=\"M46.18,-2705.06C77.68,-2682.63 142.87,-2636.22 183.17,-2607.53\"/>\n",
       "<polygon fill=\"black\" stroke=\"black\" points=\"185.01,-2610.52 191.12,-2601.87 180.95,-2604.82 185.01,-2610.52\"/>\n",
       "</g>\n",
       "<!-- large omnivores and herbivores -->\n",
       "<g id=\"node68\" class=\"node\">\n",
       "<title>large omnivores and herbivores</title>\n",
       "<ellipse fill=\"none\" stroke=\"black\" cx=\"218.63\" cy=\"-2313\" rx=\"128.63\" ry=\"18\"/>\n",
       "<text text-anchor=\"middle\" x=\"218.63\" y=\"-2307.95\" font-family=\"Times,serif\" font-size=\"14.00\">large omnivores and herbivores</text>\n",
       "</g>\n",
       "<!-- root&#45;&gt;large omnivores and herbivores -->\n",
       "<g id=\"edge12\" class=\"edge\">\n",
       "<title>root&#45;&gt;large omnivores and herbivores</title>\n",
       "<path fill=\"none\" stroke=\"black\" d=\"M34.03,-2700.22C44.41,-2670.1 66.8,-2607.31 90,-2556 126.07,-2476.2 176.13,-2385.75 201.5,-2341.06\"/>\n",
       "<polygon fill=\"black\" stroke=\"black\" points=\"204.45,-2342.96 206.36,-2332.54 198.36,-2339.5 204.45,-2342.96\"/>\n",
       "</g>\n",
       "<!-- medium&#45;sized mammals -->\n",
       "<g id=\"node74\" class=\"node\">\n",
       "<title>medium&#45;sized mammals</title>\n",
       "<ellipse fill=\"none\" stroke=\"black\" cx=\"218.63\" cy=\"-2043\" rx=\"104.07\" ry=\"18\"/>\n",
       "<text text-anchor=\"middle\" x=\"218.63\" y=\"-2037.95\" font-family=\"Times,serif\" font-size=\"14.00\">medium&#45;sized mammals</text>\n",
       "</g>\n",
       "<!-- root&#45;&gt;medium&#45;sized mammals -->\n",
       "<g id=\"edge13\" class=\"edge\">\n",
       "<title>root&#45;&gt;medium&#45;sized mammals</title>\n",
       "<path fill=\"none\" stroke=\"black\" d=\"M28.41,-2699.81C30.24,-2639.42 39.94,-2440.62 90,-2286 116.89,-2202.93 170.67,-2114.29 199.08,-2070.61\"/>\n",
       "<polygon fill=\"black\" stroke=\"black\" points=\"201.83,-2072.79 204.4,-2062.51 195.98,-2068.94 201.83,-2072.79\"/>\n",
       "</g>\n",
       "<!-- non&#45;insect invertebrates -->\n",
       "<g id=\"node80\" class=\"node\">\n",
       "<title>non&#45;insect invertebrates</title>\n",
       "<ellipse fill=\"none\" stroke=\"black\" cx=\"218.63\" cy=\"-1773\" rx=\"99.46\" ry=\"18\"/>\n",
       "<text text-anchor=\"middle\" x=\"218.63\" y=\"-1767.95\" font-family=\"Times,serif\" font-size=\"14.00\">non&#45;insect invertebrates</text>\n",
       "</g>\n",
       "<!-- root&#45;&gt;non&#45;insect invertebrates -->\n",
       "<g id=\"edge14\" class=\"edge\">\n",
       "<title>root&#45;&gt;non&#45;insect invertebrates</title>\n",
       "<path fill=\"none\" stroke=\"black\" d=\"M28.64,-2699.76C32.18,-2603.1 50.63,-2149.96 90,-2016 114.62,-1932.23 169.38,-1843.89 198.53,-1800.44\"/>\n",
       "<polygon fill=\"black\" stroke=\"black\" points=\"201.28,-1802.62 203.99,-1792.38 195.48,-1798.69 201.28,-1802.62\"/>\n",
       "</g>\n",
       "<!-- people -->\n",
       "<g id=\"node86\" class=\"node\">\n",
       "<title>people</title>\n",
       "<ellipse fill=\"none\" stroke=\"black\" cx=\"218.63\" cy=\"-1503\" rx=\"35.49\" ry=\"18\"/>\n",
       "<text text-anchor=\"middle\" x=\"218.63\" y=\"-1497.95\" font-family=\"Times,serif\" font-size=\"14.00\">people</text>\n",
       "</g>\n",
       "<!-- root&#45;&gt;people -->\n",
       "<g id=\"edge15\" class=\"edge\">\n",
       "<title>root&#45;&gt;people</title>\n",
       "<path fill=\"none\" stroke=\"black\" d=\"M28.13,-2699.72C29.11,-2582.48 36.87,-1935.26 90,-1746 113.79,-1661.26 169.69,-1572.31 198.98,-1529.33\"/>\n",
       "<polygon fill=\"black\" stroke=\"black\" points=\"201.82,-1531.37 204.62,-1521.16 196.06,-1527.4 201.82,-1531.37\"/>\n",
       "</g>\n",
       "<!-- reptiles -->\n",
       "<g id=\"node92\" class=\"node\">\n",
       "<title>reptiles</title>\n",
       "<ellipse fill=\"none\" stroke=\"black\" cx=\"218.63\" cy=\"-1233\" rx=\"38.04\" ry=\"18\"/>\n",
       "<text text-anchor=\"middle\" x=\"218.63\" y=\"-1227.95\" font-family=\"Times,serif\" font-size=\"14.00\">reptiles</text>\n",
       "</g>\n",
       "<!-- root&#45;&gt;reptiles -->\n",
       "<g id=\"edge16\" class=\"edge\">\n",
       "<title>root&#45;&gt;reptiles</title>\n",
       "<path fill=\"none\" stroke=\"black\" d=\"M27.84,-2699.67C26.79,-2564.53 23.06,-1720.96 90,-1476 113.14,-1391.31 169.08,-1302.67 198.62,-1259.62\"/>\n",
       "<polygon fill=\"black\" stroke=\"black\" points=\"201.49,-1261.62 204.32,-1251.41 195.74,-1257.63 201.49,-1261.62\"/>\n",
       "</g>\n",
       "<!-- small mammals -->\n",
       "<g id=\"node98\" class=\"node\">\n",
       "<title>small mammals</title>\n",
       "<ellipse fill=\"none\" stroke=\"black\" cx=\"218.63\" cy=\"-963\" rx=\"71.31\" ry=\"18\"/>\n",
       "<text text-anchor=\"middle\" x=\"218.63\" y=\"-957.95\" font-family=\"Times,serif\" font-size=\"14.00\">small mammals</text>\n",
       "</g>\n",
       "<!-- root&#45;&gt;small mammals -->\n",
       "<g id=\"edge17\" class=\"edge\">\n",
       "<title>root&#45;&gt;small mammals</title>\n",
       "<path fill=\"none\" stroke=\"black\" d=\"M28.26,-2699.64C30.65,-2537.79 49.4,-1357.21 90,-1206 112.64,-1121.67 168.26,-1033.58 198.05,-990.3\"/>\n",
       "<polygon fill=\"black\" stroke=\"black\" points=\"200.8,-992.48 203.64,-982.27 195.05,-988.47 200.8,-992.48\"/>\n",
       "</g>\n",
       "<!-- trees -->\n",
       "<g id=\"node104\" class=\"node\">\n",
       "<title>trees</title>\n",
       "<ellipse fill=\"none\" stroke=\"black\" cx=\"218.63\" cy=\"-693\" rx=\"28.32\" ry=\"18\"/>\n",
       "<text text-anchor=\"middle\" x=\"218.63\" y=\"-687.95\" font-family=\"Times,serif\" font-size=\"14.00\">trees</text>\n",
       "</g>\n",
       "<!-- root&#45;&gt;trees -->\n",
       "<g id=\"edge18\" class=\"edge\">\n",
       "<title>root&#45;&gt;trees</title>\n",
       "<path fill=\"none\" stroke=\"black\" d=\"M28.14,-2699.54C29.58,-2521.72 42.44,-1115.35 90,-936 112.67,-850.5 169.57,-761.24 199.14,-718.61\"/>\n",
       "<polygon fill=\"black\" stroke=\"black\" points=\"201.94,-720.72 204.82,-710.53 196.21,-716.7 201.94,-720.72\"/>\n",
       "</g>\n",
       "<!-- vehicles 1 -->\n",
       "<g id=\"node110\" class=\"node\">\n",
       "<title>vehicles 1</title>\n",
       "<ellipse fill=\"none\" stroke=\"black\" cx=\"218.63\" cy=\"-423\" rx=\"48.28\" ry=\"18\"/>\n",
       "<text text-anchor=\"middle\" x=\"218.63\" y=\"-417.95\" font-family=\"Times,serif\" font-size=\"14.00\">vehicles 1</text>\n",
       "</g>\n",
       "<!-- root&#45;&gt;vehicles 1 -->\n",
       "<g id=\"edge19\" class=\"edge\">\n",
       "<title>root&#45;&gt;vehicles 1</title>\n",
       "<path fill=\"none\" stroke=\"black\" d=\"M28.05,-2699.53C28.67,-2507.22 35.46,-873.58 90,-666 112.24,-581.34 168.28,-493.06 198.16,-449.95\"/>\n",
       "<polygon fill=\"black\" stroke=\"black\" points=\"200.89,-452.15 203.77,-441.95 195.16,-448.13 200.89,-452.15\"/>\n",
       "</g>\n",
       "<!-- vehicles 2 -->\n",
       "<g id=\"node116\" class=\"node\">\n",
       "<title>vehicles 2</title>\n",
       "<ellipse fill=\"none\" stroke=\"black\" cx=\"218.63\" cy=\"-153\" rx=\"48.28\" ry=\"18\"/>\n",
       "<text text-anchor=\"middle\" x=\"218.63\" y=\"-147.95\" font-family=\"Times,serif\" font-size=\"14.00\">vehicles 2</text>\n",
       "</g>\n",
       "<!-- root&#45;&gt;vehicles 2 -->\n",
       "<g id=\"edge20\" class=\"edge\">\n",
       "<title>root&#45;&gt;vehicles 2</title>\n",
       "<path fill=\"none\" stroke=\"black\" d=\"M27.98,-2699.73C27.86,-2494.87 28.45,-631.96 90,-396 112.09,-311.3 168.2,-223.04 198.13,-179.94\"/>\n",
       "<polygon fill=\"black\" stroke=\"black\" points=\"200.86,-182.14 203.75,-171.95 195.13,-178.11 200.86,-182.14\"/>\n",
       "</g>\n",
       "<!-- beaver -->\n",
       "<g id=\"node3\" class=\"node\">\n",
       "<title>beaver</title>\n",
       "<ellipse fill=\"none\" stroke=\"black\" cx=\"447.93\" cy=\"-5364\" rx=\"35.49\" ry=\"18\"/>\n",
       "<text text-anchor=\"middle\" x=\"447.93\" y=\"-5358.95\" font-family=\"Times,serif\" font-size=\"14.00\">beaver</text>\n",
       "</g>\n",
       "<!-- aquatic mammals&#45;&gt;beaver -->\n",
       "<g id=\"edge21\" class=\"edge\">\n",
       "<title>aquatic mammals&#45;&gt;beaver</title>\n",
       "<path fill=\"none\" stroke=\"black\" d=\"M243.18,-5246.53C274.24,-5269.17 331.07,-5309.01 383.27,-5337 391.23,-5341.27 400.01,-5345.36 408.44,-5349.01\"/>\n",
       "<polygon fill=\"black\" stroke=\"black\" points=\"406.87,-5352.15 417.44,-5352.79 409.58,-5345.69 406.87,-5352.15\"/>\n",
       "</g>\n",
       "<!-- dolphin -->\n",
       "<g id=\"node4\" class=\"node\">\n",
       "<title>dolphin</title>\n",
       "<ellipse fill=\"none\" stroke=\"black\" cx=\"447.93\" cy=\"-5310\" rx=\"39.07\" ry=\"18\"/>\n",
       "<text text-anchor=\"middle\" x=\"447.93\" y=\"-5304.95\" font-family=\"Times,serif\" font-size=\"14.00\">dolphin</text>\n",
       "</g>\n",
       "<!-- aquatic mammals&#45;&gt;dolphin -->\n",
       "<g id=\"edge22\" class=\"edge\">\n",
       "<title>aquatic mammals&#45;&gt;dolphin</title>\n",
       "<path fill=\"none\" stroke=\"black\" d=\"M262.39,-5244.24C303.5,-5258.89 365.22,-5280.88 405.78,-5295.34\"/>\n",
       "<polygon fill=\"black\" stroke=\"black\" points=\"404.35,-5298.54 414.95,-5298.6 406.7,-5291.95 404.35,-5298.54\"/>\n",
       "</g>\n",
       "<!-- otter -->\n",
       "<g id=\"node5\" class=\"node\">\n",
       "<title>otter</title>\n",
       "<ellipse fill=\"none\" stroke=\"black\" cx=\"447.93\" cy=\"-5256\" rx=\"27.81\" ry=\"18\"/>\n",
       "<text text-anchor=\"middle\" x=\"447.93\" y=\"-5250.95\" font-family=\"Times,serif\" font-size=\"14.00\">otter</text>\n",
       "</g>\n",
       "<!-- aquatic mammals&#45;&gt;otter -->\n",
       "<g id=\"edge23\" class=\"edge\">\n",
       "<title>aquatic mammals&#45;&gt;otter</title>\n",
       "<path fill=\"none\" stroke=\"black\" d=\"M288.45,-5237.17C327.9,-5241.86 375.93,-5247.57 408.7,-5251.46\"/>\n",
       "<polygon fill=\"black\" stroke=\"black\" points=\"408.2,-5254.92 418.54,-5252.63 409.02,-5247.97 408.2,-5254.92\"/>\n",
       "</g>\n",
       "<!-- seal -->\n",
       "<g id=\"node6\" class=\"node\">\n",
       "<title>seal</title>\n",
       "<ellipse fill=\"none\" stroke=\"black\" cx=\"447.93\" cy=\"-5202\" rx=\"27\" ry=\"18\"/>\n",
       "<text text-anchor=\"middle\" x=\"447.93\" y=\"-5196.95\" font-family=\"Times,serif\" font-size=\"14.00\">seal</text>\n",
       "</g>\n",
       "<!-- aquatic mammals&#45;&gt;seal -->\n",
       "<g id=\"edge24\" class=\"edge\">\n",
       "<title>aquatic mammals&#45;&gt;seal</title>\n",
       "<path fill=\"none\" stroke=\"black\" d=\"M288.45,-5220.83C328.24,-5216.1 376.78,-5210.33 409.57,-5206.44\"/>\n",
       "<polygon fill=\"black\" stroke=\"black\" points=\"409.87,-5209.93 419.39,-5205.27 409.05,-5202.98 409.87,-5209.93\"/>\n",
       "</g>\n",
       "<!-- whale -->\n",
       "<g id=\"node7\" class=\"node\">\n",
       "<title>whale</title>\n",
       "<ellipse fill=\"none\" stroke=\"black\" cx=\"447.93\" cy=\"-5148\" rx=\"32.93\" ry=\"18\"/>\n",
       "<text text-anchor=\"middle\" x=\"447.93\" y=\"-5142.95\" font-family=\"Times,serif\" font-size=\"14.00\">whale</text>\n",
       "</g>\n",
       "<!-- aquatic mammals&#45;&gt;whale -->\n",
       "<g id=\"edge25\" class=\"edge\">\n",
       "<title>aquatic mammals&#45;&gt;whale</title>\n",
       "<path fill=\"none\" stroke=\"black\" d=\"M262.39,-5213.76C304.59,-5198.73 368.5,-5175.95 408.95,-5161.53\"/>\n",
       "<polygon fill=\"black\" stroke=\"black\" points=\"410.04,-5164.86 418.28,-5158.21 407.69,-5158.27 410.04,-5164.86\"/>\n",
       "</g>\n",
       "<!-- aquarium_fish -->\n",
       "<g id=\"node9\" class=\"node\">\n",
       "<title>aquarium_fish</title>\n",
       "<ellipse fill=\"none\" stroke=\"black\" cx=\"447.93\" cy=\"-5094\" rx=\"64.66\" ry=\"18\"/>\n",
       "<text text-anchor=\"middle\" x=\"447.93\" y=\"-5088.95\" font-family=\"Times,serif\" font-size=\"14.00\">aquarium_fish</text>\n",
       "</g>\n",
       "<!-- fish&#45;&gt;aquarium_fish -->\n",
       "<g id=\"edge26\" class=\"edge\">\n",
       "<title>fish&#45;&gt;aquarium_fish</title>\n",
       "<path fill=\"none\" stroke=\"black\" d=\"M237.13,-4972.1C266.37,-4993.62 327.47,-5037.08 383.27,-5067 388.23,-5069.66 393.52,-5072.26 398.83,-5074.72\"/>\n",
       "<polygon fill=\"black\" stroke=\"black\" points=\"397.09,-5077.77 407.65,-5078.65 399.94,-5071.38 397.09,-5077.77\"/>\n",
       "</g>\n",
       "<!-- flatfish -->\n",
       "<g id=\"node10\" class=\"node\">\n",
       "<title>flatfish</title>\n",
       "<ellipse fill=\"none\" stroke=\"black\" cx=\"447.93\" cy=\"-5040\" rx=\"37.02\" ry=\"18\"/>\n",
       "<text text-anchor=\"middle\" x=\"447.93\" y=\"-5034.95\" font-family=\"Times,serif\" font-size=\"14.00\">flatfish</text>\n",
       "</g>\n",
       "<!-- fish&#45;&gt;flatfish -->\n",
       "<g id=\"edge27\" class=\"edge\">\n",
       "<title>fish&#45;&gt;flatfish</title>\n",
       "<path fill=\"none\" stroke=\"black\" d=\"M243.1,-4967.36C281.74,-4981.13 359.21,-5008.74 406.72,-5025.67\"/>\n",
       "<polygon fill=\"black\" stroke=\"black\" points=\"405.51,-5028.96 416.11,-5029.02 407.86,-5022.36 405.51,-5028.96\"/>\n",
       "</g>\n",
       "<!-- ray -->\n",
       "<g id=\"node11\" class=\"node\">\n",
       "<title>ray</title>\n",
       "<ellipse fill=\"none\" stroke=\"black\" cx=\"447.93\" cy=\"-4986\" rx=\"27\" ry=\"18\"/>\n",
       "<text text-anchor=\"middle\" x=\"447.93\" y=\"-4980.95\" font-family=\"Times,serif\" font-size=\"14.00\">ray</text>\n",
       "</g>\n",
       "<!-- fish&#45;&gt;ray -->\n",
       "<g id=\"edge28\" class=\"edge\">\n",
       "<title>fish&#45;&gt;ray</title>\n",
       "<path fill=\"none\" stroke=\"black\" d=\"M245.71,-4962.1C286.04,-4966.89 363.71,-4976.12 409.87,-4981.6\"/>\n",
       "<polygon fill=\"black\" stroke=\"black\" points=\"409.31,-4985.06 419.66,-4982.76 410.14,-4978.11 409.31,-4985.06\"/>\n",
       "</g>\n",
       "<!-- shark -->\n",
       "<g id=\"node12\" class=\"node\">\n",
       "<title>shark</title>\n",
       "<ellipse fill=\"none\" stroke=\"black\" cx=\"447.93\" cy=\"-4932\" rx=\"30.88\" ry=\"18\"/>\n",
       "<text text-anchor=\"middle\" x=\"447.93\" y=\"-4926.95\" font-family=\"Times,serif\" font-size=\"14.00\">shark</text>\n",
       "</g>\n",
       "<!-- fish&#45;&gt;shark -->\n",
       "<g id=\"edge29\" class=\"edge\">\n",
       "<title>fish&#45;&gt;shark</title>\n",
       "<path fill=\"none\" stroke=\"black\" d=\"M245.71,-4955.9C284.94,-4951.24 359.52,-4942.38 406.03,-4936.86\"/>\n",
       "<polygon fill=\"black\" stroke=\"black\" points=\"406.2,-4940.36 415.71,-4935.71 405.37,-4933.41 406.2,-4940.36\"/>\n",
       "</g>\n",
       "<!-- trout -->\n",
       "<g id=\"node13\" class=\"node\">\n",
       "<title>trout</title>\n",
       "<ellipse fill=\"none\" stroke=\"black\" cx=\"447.93\" cy=\"-4878\" rx=\"28.32\" ry=\"18\"/>\n",
       "<text text-anchor=\"middle\" x=\"447.93\" y=\"-4872.95\" font-family=\"Times,serif\" font-size=\"14.00\">trout</text>\n",
       "</g>\n",
       "<!-- fish&#45;&gt;trout -->\n",
       "<g id=\"edge30\" class=\"edge\">\n",
       "<title>fish&#45;&gt;trout</title>\n",
       "<path fill=\"none\" stroke=\"black\" d=\"M243.1,-4950.64C283.21,-4936.34 365.16,-4907.14 412.01,-4890.44\"/>\n",
       "<polygon fill=\"black\" stroke=\"black\" points=\"412.89,-4893.85 421.13,-4887.19 410.54,-4887.25 412.89,-4893.85\"/>\n",
       "</g>\n",
       "<!-- orchid -->\n",
       "<g id=\"node15\" class=\"node\">\n",
       "<title>orchid</title>\n",
       "<ellipse fill=\"none\" stroke=\"black\" cx=\"447.93\" cy=\"-4824\" rx=\"34.46\" ry=\"18\"/>\n",
       "<text text-anchor=\"middle\" x=\"447.93\" y=\"-4818.95\" font-family=\"Times,serif\" font-size=\"14.00\">orchid</text>\n",
       "</g>\n",
       "<!-- flowers&#45;&gt;orchid -->\n",
       "<g id=\"edge31\" class=\"edge\">\n",
       "<title>flowers&#45;&gt;orchid</title>\n",
       "<path fill=\"none\" stroke=\"black\" d=\"M240.06,-4704.25C270.31,-4726.41 329.27,-4768.04 383.27,-4797 391.3,-4801.31 400.17,-4805.44 408.67,-4809.11\"/>\n",
       "<polygon fill=\"black\" stroke=\"black\" points=\"407.18,-4812.28 417.76,-4812.92 409.89,-4805.83 407.18,-4812.28\"/>\n",
       "</g>\n",
       "<!-- poppy -->\n",
       "<g id=\"node16\" class=\"node\">\n",
       "<title>poppy</title>\n",
       "<ellipse fill=\"none\" stroke=\"black\" cx=\"447.93\" cy=\"-4770\" rx=\"33.95\" ry=\"18\"/>\n",
       "<text text-anchor=\"middle\" x=\"447.93\" y=\"-4764.95\" font-family=\"Times,serif\" font-size=\"14.00\">poppy</text>\n",
       "</g>\n",
       "<!-- flowers&#45;&gt;poppy -->\n",
       "<g id=\"edge32\" class=\"edge\">\n",
       "<title>flowers&#45;&gt;poppy</title>\n",
       "<path fill=\"none\" stroke=\"black\" d=\"M249.82,-4699.76C290.67,-4714.32 363.6,-4740.31 408.38,-4756.26\"/>\n",
       "<polygon fill=\"black\" stroke=\"black\" points=\"407.1,-4759.52 417.69,-4759.58 409.45,-4752.93 407.1,-4759.52\"/>\n",
       "</g>\n",
       "<!-- rose -->\n",
       "<g id=\"node17\" class=\"node\">\n",
       "<title>rose</title>\n",
       "<ellipse fill=\"none\" stroke=\"black\" cx=\"447.93\" cy=\"-4716\" rx=\"27\" ry=\"18\"/>\n",
       "<text text-anchor=\"middle\" x=\"447.93\" y=\"-4710.95\" font-family=\"Times,serif\" font-size=\"14.00\">rose</text>\n",
       "</g>\n",
       "<!-- flowers&#45;&gt;rose -->\n",
       "<g id=\"edge33\" class=\"edge\">\n",
       "<title>flowers&#45;&gt;rose</title>\n",
       "<path fill=\"none\" stroke=\"black\" d=\"M256.41,-4693.37C298.55,-4698.37 367.26,-4706.54 409.63,-4711.57\"/>\n",
       "<polygon fill=\"black\" stroke=\"black\" points=\"408.99,-4715.02 419.33,-4712.72 409.82,-4708.07 408.99,-4715.02\"/>\n",
       "</g>\n",
       "<!-- sunflower -->\n",
       "<g id=\"node18\" class=\"node\">\n",
       "<title>sunflower</title>\n",
       "<ellipse fill=\"none\" stroke=\"black\" cx=\"447.93\" cy=\"-4662\" rx=\"47.77\" ry=\"18\"/>\n",
       "<text text-anchor=\"middle\" x=\"447.93\" y=\"-4656.95\" font-family=\"Times,serif\" font-size=\"14.00\">sunflower</text>\n",
       "</g>\n",
       "<!-- flowers&#45;&gt;sunflower -->\n",
       "<g id=\"edge34\" class=\"edge\">\n",
       "<title>flowers&#45;&gt;sunflower</title>\n",
       "<path fill=\"none\" stroke=\"black\" d=\"M256.41,-4684.63C292.7,-4680.32 348.68,-4673.67 390.58,-4668.69\"/>\n",
       "<polygon fill=\"black\" stroke=\"black\" points=\"390.98,-4672.17 400.5,-4667.52 390.15,-4665.22 390.98,-4672.17\"/>\n",
       "</g>\n",
       "<!-- tulip -->\n",
       "<g id=\"node19\" class=\"node\">\n",
       "<title>tulip</title>\n",
       "<ellipse fill=\"none\" stroke=\"black\" cx=\"447.93\" cy=\"-4608\" rx=\"27.81\" ry=\"18\"/>\n",
       "<text text-anchor=\"middle\" x=\"447.93\" y=\"-4602.95\" font-family=\"Times,serif\" font-size=\"14.00\">tulip</text>\n",
       "</g>\n",
       "<!-- flowers&#45;&gt;tulip -->\n",
       "<g id=\"edge35\" class=\"edge\">\n",
       "<title>flowers&#45;&gt;tulip</title>\n",
       "<path fill=\"none\" stroke=\"black\" d=\"M249.82,-4678.24C291.81,-4663.28 367.68,-4636.24 412.04,-4620.43\"/>\n",
       "<polygon fill=\"black\" stroke=\"black\" points=\"413.2,-4623.74 421.44,-4617.08 410.85,-4617.14 413.2,-4623.74\"/>\n",
       "</g>\n",
       "<!-- bottle -->\n",
       "<g id=\"node21\" class=\"node\">\n",
       "<title>bottle</title>\n",
       "<ellipse fill=\"none\" stroke=\"black\" cx=\"447.93\" cy=\"-4554\" rx=\"31.9\" ry=\"18\"/>\n",
       "<text text-anchor=\"middle\" x=\"447.93\" y=\"-4548.95\" font-family=\"Times,serif\" font-size=\"14.00\">bottle</text>\n",
       "</g>\n",
       "<!-- food containers&#45;&gt;bottle -->\n",
       "<g id=\"edge36\" class=\"edge\">\n",
       "<title>food containers&#45;&gt;bottle</title>\n",
       "<path fill=\"none\" stroke=\"black\" d=\"M242.65,-4436.14C273.58,-4458.72 330.77,-4498.85 383.27,-4527 391.77,-4531.56 401.2,-4535.91 410.15,-4539.75\"/>\n",
       "<polygon fill=\"black\" stroke=\"black\" points=\"408.74,-4542.95 419.32,-4543.56 411.43,-4536.49 408.74,-4542.95\"/>\n",
       "</g>\n",
       "<!-- bowl -->\n",
       "<g id=\"node22\" class=\"node\">\n",
       "<title>bowl</title>\n",
       "<ellipse fill=\"none\" stroke=\"black\" cx=\"447.93\" cy=\"-4500\" rx=\"29.34\" ry=\"18\"/>\n",
       "<text text-anchor=\"middle\" x=\"447.93\" y=\"-4494.95\" font-family=\"Times,serif\" font-size=\"14.00\">bowl</text>\n",
       "</g>\n",
       "<!-- food containers&#45;&gt;bowl -->\n",
       "<g id=\"edge37\" class=\"edge\">\n",
       "<title>food containers&#45;&gt;bowl</title>\n",
       "<path fill=\"none\" stroke=\"black\" d=\"M260.53,-4433.57C303.41,-4448.85 370.12,-4472.63 411.02,-4487.2\"/>\n",
       "<polygon fill=\"black\" stroke=\"black\" points=\"409.81,-4490.49 420.41,-4490.55 412.16,-4483.89 409.81,-4490.49\"/>\n",
       "</g>\n",
       "<!-- can -->\n",
       "<g id=\"node23\" class=\"node\">\n",
       "<title>can</title>\n",
       "<ellipse fill=\"none\" stroke=\"black\" cx=\"447.93\" cy=\"-4446\" rx=\"27\" ry=\"18\"/>\n",
       "<text text-anchor=\"middle\" x=\"447.93\" y=\"-4440.95\" font-family=\"Times,serif\" font-size=\"14.00\">can</text>\n",
       "</g>\n",
       "<!-- food containers&#45;&gt;can -->\n",
       "<g id=\"edge38\" class=\"edge\">\n",
       "<title>food containers&#45;&gt;can</title>\n",
       "<path fill=\"none\" stroke=\"black\" d=\"M281.44,-4426.34C322.54,-4431.22 375.16,-4437.47 409.9,-4441.6\"/>\n",
       "<polygon fill=\"black\" stroke=\"black\" points=\"409.1,-4445.03 419.45,-4442.74 409.93,-4438.08 409.1,-4445.03\"/>\n",
       "</g>\n",
       "<!-- cup -->\n",
       "<g id=\"node24\" class=\"node\">\n",
       "<title>cup</title>\n",
       "<ellipse fill=\"none\" stroke=\"black\" cx=\"447.93\" cy=\"-4392\" rx=\"27\" ry=\"18\"/>\n",
       "<text text-anchor=\"middle\" x=\"447.93\" y=\"-4386.95\" font-family=\"Times,serif\" font-size=\"14.00\">cup</text>\n",
       "</g>\n",
       "<!-- food containers&#45;&gt;cup -->\n",
       "<g id=\"edge39\" class=\"edge\">\n",
       "<title>food containers&#45;&gt;cup</title>\n",
       "<path fill=\"none\" stroke=\"black\" d=\"M281.44,-4411.66C322.54,-4406.78 375.16,-4400.53 409.9,-4396.4\"/>\n",
       "<polygon fill=\"black\" stroke=\"black\" points=\"409.93,-4399.92 419.45,-4395.26 409.1,-4392.97 409.93,-4399.92\"/>\n",
       "</g>\n",
       "<!-- plate -->\n",
       "<g id=\"node25\" class=\"node\">\n",
       "<title>plate</title>\n",
       "<ellipse fill=\"none\" stroke=\"black\" cx=\"447.93\" cy=\"-4338\" rx=\"28.83\" ry=\"18\"/>\n",
       "<text text-anchor=\"middle\" x=\"447.93\" y=\"-4332.95\" font-family=\"Times,serif\" font-size=\"14.00\">plate</text>\n",
       "</g>\n",
       "<!-- food containers&#45;&gt;plate -->\n",
       "<g id=\"edge40\" class=\"edge\">\n",
       "<title>food containers&#45;&gt;plate</title>\n",
       "<path fill=\"none\" stroke=\"black\" d=\"M260.53,-4404.43C303.64,-4389.06 370.84,-4365.11 411.69,-4350.56\"/>\n",
       "<polygon fill=\"black\" stroke=\"black\" points=\"412.8,-4353.88 421.04,-4347.23 410.45,-4347.29 412.8,-4353.88\"/>\n",
       "</g>\n",
       "<!-- apple -->\n",
       "<g id=\"node27\" class=\"node\">\n",
       "<title>apple</title>\n",
       "<ellipse fill=\"none\" stroke=\"black\" cx=\"447.93\" cy=\"-4284\" rx=\"30.88\" ry=\"18\"/>\n",
       "<text text-anchor=\"middle\" x=\"447.93\" y=\"-4278.95\" font-family=\"Times,serif\" font-size=\"14.00\">apple</text>\n",
       "</g>\n",
       "<!-- fruit and vegetables&#45;&gt;apple -->\n",
       "<g id=\"edge41\" class=\"edge\">\n",
       "<title>fruit and vegetables&#45;&gt;apple</title>\n",
       "<path fill=\"none\" stroke=\"black\" d=\"M243.18,-4166.53C274.24,-4189.17 331.07,-4229.01 383.27,-4257 392.01,-4261.69 401.75,-4266.17 410.92,-4270.08\"/>\n",
       "<polygon fill=\"black\" stroke=\"black\" points=\"409.36,-4273.22 419.94,-4273.81 412.04,-4266.75 409.36,-4273.22\"/>\n",
       "</g>\n",
       "<!-- mushroom -->\n",
       "<g id=\"node28\" class=\"node\">\n",
       "<title>mushroom</title>\n",
       "<ellipse fill=\"none\" stroke=\"black\" cx=\"447.93\" cy=\"-4230\" rx=\"51.35\" ry=\"18\"/>\n",
       "<text text-anchor=\"middle\" x=\"447.93\" y=\"-4224.95\" font-family=\"Times,serif\" font-size=\"14.00\">mushroom</text>\n",
       "</g>\n",
       "<!-- fruit and vegetables&#45;&gt;mushroom -->\n",
       "<g id=\"edge42\" class=\"edge\">\n",
       "<title>fruit and vegetables&#45;&gt;mushroom</title>\n",
       "<path fill=\"none\" stroke=\"black\" d=\"M263.46,-4164.62C302.72,-4178.61 360.15,-4199.07 400.26,-4213.37\"/>\n",
       "<polygon fill=\"black\" stroke=\"black\" points=\"399.06,-4216.66 409.66,-4216.72 401.41,-4210.06 399.06,-4216.66\"/>\n",
       "</g>\n",
       "<!-- orange -->\n",
       "<g id=\"node29\" class=\"node\">\n",
       "<title>orange</title>\n",
       "<ellipse fill=\"none\" stroke=\"black\" cx=\"447.93\" cy=\"-4176\" rx=\"36\" ry=\"18\"/>\n",
       "<text text-anchor=\"middle\" x=\"447.93\" y=\"-4170.95\" font-family=\"Times,serif\" font-size=\"14.00\">orange</text>\n",
       "</g>\n",
       "<!-- fruit and vegetables&#45;&gt;orange -->\n",
       "<g id=\"edge43\" class=\"edge\">\n",
       "<title>fruit and vegetables&#45;&gt;orange</title>\n",
       "<path fill=\"none\" stroke=\"black\" d=\"M293.12,-4157.73C328.65,-4161.95 370.2,-4166.89 401.16,-4170.56\"/>\n",
       "<polygon fill=\"black\" stroke=\"black\" points=\"400.62,-4174.02 410.96,-4171.73 401.44,-4167.07 400.62,-4174.02\"/>\n",
       "</g>\n",
       "<!-- pear -->\n",
       "<g id=\"node30\" class=\"node\">\n",
       "<title>pear</title>\n",
       "<ellipse fill=\"none\" stroke=\"black\" cx=\"447.93\" cy=\"-4122\" rx=\"27\" ry=\"18\"/>\n",
       "<text text-anchor=\"middle\" x=\"447.93\" y=\"-4116.95\" font-family=\"Times,serif\" font-size=\"14.00\">pear</text>\n",
       "</g>\n",
       "<!-- fruit and vegetables&#45;&gt;pear -->\n",
       "<g id=\"edge44\" class=\"edge\">\n",
       "<title>fruit and vegetables&#45;&gt;pear</title>\n",
       "<path fill=\"none\" stroke=\"black\" d=\"M293.12,-4140.27C331.99,-4135.65 378.06,-4130.18 409.58,-4126.44\"/>\n",
       "<polygon fill=\"black\" stroke=\"black\" points=\"409.88,-4129.93 419.4,-4125.27 409.05,-4122.97 409.88,-4129.93\"/>\n",
       "</g>\n",
       "<!-- sweet_pepper -->\n",
       "<g id=\"node31\" class=\"node\">\n",
       "<title>sweet_pepper</title>\n",
       "<ellipse fill=\"none\" stroke=\"black\" cx=\"447.93\" cy=\"-4068\" rx=\"61.59\" ry=\"18\"/>\n",
       "<text text-anchor=\"middle\" x=\"447.93\" y=\"-4062.95\" font-family=\"Times,serif\" font-size=\"14.00\">sweet_pepper</text>\n",
       "</g>\n",
       "<!-- fruit and vegetables&#45;&gt;sweet_pepper -->\n",
       "<g id=\"edge45\" class=\"edge\">\n",
       "<title>fruit and vegetables&#45;&gt;sweet_pepper</title>\n",
       "<path fill=\"none\" stroke=\"black\" d=\"M263.46,-4133.38C301.66,-4119.77 357.06,-4100.03 396.97,-4085.8\"/>\n",
       "<polygon fill=\"black\" stroke=\"black\" points=\"398.12,-4089.11 406.36,-4082.46 395.77,-4082.52 398.12,-4089.11\"/>\n",
       "</g>\n",
       "<!-- clock -->\n",
       "<g id=\"node33\" class=\"node\">\n",
       "<title>clock</title>\n",
       "<ellipse fill=\"none\" stroke=\"black\" cx=\"447.93\" cy=\"-4014\" rx=\"30.88\" ry=\"18\"/>\n",
       "<text text-anchor=\"middle\" x=\"447.93\" y=\"-4008.95\" font-family=\"Times,serif\" font-size=\"14.00\">clock</text>\n",
       "</g>\n",
       "<!-- household electrical devices&#45;&gt;clock -->\n",
       "<g id=\"edge46\" class=\"edge\">\n",
       "<title>household electrical devices&#45;&gt;clock</title>\n",
       "<path fill=\"none\" stroke=\"black\" d=\"M243.72,-3896.92C274.89,-3919.63 331.37,-3959.17 383.27,-3987 392.01,-3991.69 401.75,-3996.17 410.92,-4000.08\"/>\n",
       "<polygon fill=\"black\" stroke=\"black\" points=\"409.36,-4003.22 419.94,-4003.81 412.04,-3996.75 409.36,-4003.22\"/>\n",
       "</g>\n",
       "<!-- keyboard -->\n",
       "<g id=\"node34\" class=\"node\">\n",
       "<title>keyboard</title>\n",
       "<ellipse fill=\"none\" stroke=\"black\" cx=\"447.93\" cy=\"-3960\" rx=\"45.21\" ry=\"18\"/>\n",
       "<text text-anchor=\"middle\" x=\"447.93\" y=\"-3954.95\" font-family=\"Times,serif\" font-size=\"14.00\">keyboard</text>\n",
       "</g>\n",
       "<!-- household electrical devices&#45;&gt;keyboard -->\n",
       "<g id=\"edge47\" class=\"edge\">\n",
       "<title>household electrical devices&#45;&gt;keyboard</title>\n",
       "<path fill=\"none\" stroke=\"black\" d=\"M266.73,-3895.78C306.7,-3910.03 363.62,-3930.31 402.74,-3944.25\"/>\n",
       "<polygon fill=\"black\" stroke=\"black\" points=\"401.5,-3947.53 412.1,-3947.59 403.85,-3940.93 401.5,-3947.53\"/>\n",
       "</g>\n",
       "<!-- lamp -->\n",
       "<g id=\"node35\" class=\"node\">\n",
       "<title>lamp</title>\n",
       "<ellipse fill=\"none\" stroke=\"black\" cx=\"447.93\" cy=\"-3906\" rx=\"29.86\" ry=\"18\"/>\n",
       "<text text-anchor=\"middle\" x=\"447.93\" y=\"-3900.95\" font-family=\"Times,serif\" font-size=\"14.00\">lamp</text>\n",
       "</g>\n",
       "<!-- household electrical devices&#45;&gt;lamp -->\n",
       "<g id=\"edge48\" class=\"edge\">\n",
       "<title>household electrical devices&#45;&gt;lamp</title>\n",
       "<path fill=\"none\" stroke=\"black\" d=\"M311.76,-3889.94C344.84,-3893.87 380.44,-3898.1 406.8,-3901.23\"/>\n",
       "<polygon fill=\"black\" stroke=\"black\" points=\"406.38,-3904.71 416.72,-3902.41 407.2,-3897.76 406.38,-3904.71\"/>\n",
       "</g>\n",
       "<!-- telephone -->\n",
       "<g id=\"node36\" class=\"node\">\n",
       "<title>telephone</title>\n",
       "<ellipse fill=\"none\" stroke=\"black\" cx=\"447.93\" cy=\"-3852\" rx=\"46.75\" ry=\"18\"/>\n",
       "<text text-anchor=\"middle\" x=\"447.93\" y=\"-3846.95\" font-family=\"Times,serif\" font-size=\"14.00\">telephone</text>\n",
       "</g>\n",
       "<!-- household electrical devices&#45;&gt;telephone -->\n",
       "<g id=\"edge49\" class=\"edge\">\n",
       "<title>household electrical devices&#45;&gt;telephone</title>\n",
       "<path fill=\"none\" stroke=\"black\" d=\"M311.76,-3868.06C338.72,-3864.85 367.37,-3861.45 391.31,-3858.61\"/>\n",
       "<polygon fill=\"black\" stroke=\"black\" points=\"391.64,-3862.09 401.16,-3857.44 390.82,-3855.14 391.64,-3862.09\"/>\n",
       "</g>\n",
       "<!-- television -->\n",
       "<g id=\"node37\" class=\"node\">\n",
       "<title>television</title>\n",
       "<ellipse fill=\"none\" stroke=\"black\" cx=\"447.93\" cy=\"-3798\" rx=\"46.75\" ry=\"18\"/>\n",
       "<text text-anchor=\"middle\" x=\"447.93\" y=\"-3792.95\" font-family=\"Times,serif\" font-size=\"14.00\">television</text>\n",
       "</g>\n",
       "<!-- household electrical devices&#45;&gt;television -->\n",
       "<g id=\"edge50\" class=\"edge\">\n",
       "<title>household electrical devices&#45;&gt;television</title>\n",
       "<path fill=\"none\" stroke=\"black\" d=\"M266.73,-3862.22C306.46,-3848.06 362.95,-3827.93 402.04,-3814\"/>\n",
       "<polygon fill=\"black\" stroke=\"black\" points=\"403.16,-3817.31 411.4,-3810.66 400.81,-3810.72 403.16,-3817.31\"/>\n",
       "</g>\n",
       "<!-- bed -->\n",
       "<g id=\"node39\" class=\"node\">\n",
       "<title>bed</title>\n",
       "<ellipse fill=\"none\" stroke=\"black\" cx=\"447.93\" cy=\"-3744\" rx=\"27\" ry=\"18\"/>\n",
       "<text text-anchor=\"middle\" x=\"447.93\" y=\"-3738.95\" font-family=\"Times,serif\" font-size=\"14.00\">bed</text>\n",
       "</g>\n",
       "<!-- household furniture&#45;&gt;bed -->\n",
       "<g id=\"edge51\" class=\"edge\">\n",
       "<title>household furniture&#45;&gt;bed</title>\n",
       "<path fill=\"none\" stroke=\"black\" d=\"M243.18,-3626.53C274.24,-3649.17 331.07,-3689.01 383.27,-3717 392.72,-3722.07 403.33,-3726.89 413.14,-3731.02\"/>\n",
       "<polygon fill=\"black\" stroke=\"black\" points=\"411.79,-3734.25 422.37,-3734.79 414.44,-3727.77 411.79,-3734.25\"/>\n",
       "</g>\n",
       "<!-- chair -->\n",
       "<g id=\"node40\" class=\"node\">\n",
       "<title>chair</title>\n",
       "<ellipse fill=\"none\" stroke=\"black\" cx=\"447.93\" cy=\"-3690\" rx=\"29.34\" ry=\"18\"/>\n",
       "<text text-anchor=\"middle\" x=\"447.93\" y=\"-3684.95\" font-family=\"Times,serif\" font-size=\"14.00\">chair</text>\n",
       "</g>\n",
       "<!-- household furniture&#45;&gt;chair -->\n",
       "<g id=\"edge52\" class=\"edge\">\n",
       "<title>household furniture&#45;&gt;chair</title>\n",
       "<path fill=\"none\" stroke=\"black\" d=\"M263.46,-3624.62C306.41,-3639.92 371.07,-3662.97 411.06,-3677.22\"/>\n",
       "<polygon fill=\"black\" stroke=\"black\" points=\"409.86,-3680.51 420.46,-3680.57 412.21,-3673.91 409.86,-3680.51\"/>\n",
       "</g>\n",
       "<!-- couch -->\n",
       "<g id=\"node41\" class=\"node\">\n",
       "<title>couch</title>\n",
       "<ellipse fill=\"none\" stroke=\"black\" cx=\"447.93\" cy=\"-3636\" rx=\"32.93\" ry=\"18\"/>\n",
       "<text text-anchor=\"middle\" x=\"447.93\" y=\"-3630.95\" font-family=\"Times,serif\" font-size=\"14.00\">couch</text>\n",
       "</g>\n",
       "<!-- household furniture&#45;&gt;couch -->\n",
       "<g id=\"edge53\" class=\"edge\">\n",
       "<title>household furniture&#45;&gt;couch</title>\n",
       "<path fill=\"none\" stroke=\"black\" d=\"M292.8,-3617.69C329.51,-3622.05 372.7,-3627.18 404.01,-3630.9\"/>\n",
       "<polygon fill=\"black\" stroke=\"black\" points=\"403.54,-3634.37 413.88,-3632.07 404.36,-3627.42 403.54,-3634.37\"/>\n",
       "</g>\n",
       "<!-- table -->\n",
       "<g id=\"node42\" class=\"node\">\n",
       "<title>table</title>\n",
       "<ellipse fill=\"none\" stroke=\"black\" cx=\"447.93\" cy=\"-3582\" rx=\"28.83\" ry=\"18\"/>\n",
       "<text text-anchor=\"middle\" x=\"447.93\" y=\"-3576.95\" font-family=\"Times,serif\" font-size=\"14.00\">table</text>\n",
       "</g>\n",
       "<!-- household furniture&#45;&gt;table -->\n",
       "<g id=\"edge54\" class=\"edge\">\n",
       "<title>household furniture&#45;&gt;table</title>\n",
       "<path fill=\"none\" stroke=\"black\" d=\"M292.8,-3600.31C331.01,-3595.77 376.23,-3590.4 407.77,-3586.65\"/>\n",
       "<polygon fill=\"black\" stroke=\"black\" points=\"408.13,-3590.13 417.65,-3585.48 407.3,-3583.18 408.13,-3590.13\"/>\n",
       "</g>\n",
       "<!-- wardrobe -->\n",
       "<g id=\"node43\" class=\"node\">\n",
       "<title>wardrobe</title>\n",
       "<ellipse fill=\"none\" stroke=\"black\" cx=\"447.93\" cy=\"-3528\" rx=\"45.72\" ry=\"18\"/>\n",
       "<text text-anchor=\"middle\" x=\"447.93\" y=\"-3522.95\" font-family=\"Times,serif\" font-size=\"14.00\">wardrobe</text>\n",
       "</g>\n",
       "<!-- household furniture&#45;&gt;wardrobe -->\n",
       "<g id=\"edge55\" class=\"edge\">\n",
       "<title>household furniture&#45;&gt;wardrobe</title>\n",
       "<path fill=\"none\" stroke=\"black\" d=\"M263.46,-3593.38C303.43,-3579.14 362.22,-3558.19 402.41,-3543.86\"/>\n",
       "<polygon fill=\"black\" stroke=\"black\" points=\"403.55,-3547.17 411.8,-3540.52 401.2,-3540.58 403.55,-3547.17\"/>\n",
       "</g>\n",
       "<!-- bee -->\n",
       "<g id=\"node45\" class=\"node\">\n",
       "<title>bee</title>\n",
       "<ellipse fill=\"none\" stroke=\"black\" cx=\"447.93\" cy=\"-3474\" rx=\"27\" ry=\"18\"/>\n",
       "<text text-anchor=\"middle\" x=\"447.93\" y=\"-3468.95\" font-family=\"Times,serif\" font-size=\"14.00\">bee</text>\n",
       "</g>\n",
       "<!-- insects&#45;&gt;bee -->\n",
       "<g id=\"edge56\" class=\"edge\">\n",
       "<title>insects&#45;&gt;bee</title>\n",
       "<path fill=\"none\" stroke=\"black\" d=\"M239.56,-3353.88C269.66,-3375.95 328.97,-3417.88 383.27,-3447 392.72,-3452.07 403.33,-3456.89 413.14,-3461.02\"/>\n",
       "<polygon fill=\"black\" stroke=\"black\" points=\"411.79,-3464.25 422.37,-3464.79 414.44,-3457.77 411.79,-3464.25\"/>\n",
       "</g>\n",
       "<!-- beetle -->\n",
       "<g id=\"node46\" class=\"node\">\n",
       "<title>beetle</title>\n",
       "<ellipse fill=\"none\" stroke=\"black\" cx=\"447.93\" cy=\"-3420\" rx=\"32.93\" ry=\"18\"/>\n",
       "<text text-anchor=\"middle\" x=\"447.93\" y=\"-3414.95\" font-family=\"Times,serif\" font-size=\"14.00\">beetle</text>\n",
       "</g>\n",
       "<!-- insects&#45;&gt;beetle -->\n",
       "<g id=\"edge57\" class=\"edge\">\n",
       "<title>insects&#45;&gt;beetle</title>\n",
       "<path fill=\"none\" stroke=\"black\" d=\"M248.42,-3349.26C289.17,-3363.78 363.72,-3390.35 408.96,-3406.47\"/>\n",
       "<polygon fill=\"black\" stroke=\"black\" points=\"407.77,-3409.76 418.36,-3409.82 410.12,-3403.17 407.77,-3409.76\"/>\n",
       "</g>\n",
       "<!-- butterfly -->\n",
       "<g id=\"node47\" class=\"node\">\n",
       "<title>butterfly</title>\n",
       "<ellipse fill=\"none\" stroke=\"black\" cx=\"447.93\" cy=\"-3366\" rx=\"42.65\" ry=\"18\"/>\n",
       "<text text-anchor=\"middle\" x=\"447.93\" y=\"-3360.95\" font-family=\"Times,serif\" font-size=\"14.00\">butterfly</text>\n",
       "</g>\n",
       "<!-- insects&#45;&gt;butterfly -->\n",
       "<g id=\"edge58\" class=\"edge\">\n",
       "<title>insects&#45;&gt;butterfly</title>\n",
       "<path fill=\"none\" stroke=\"black\" d=\"M254.16,-3343.1C291.58,-3347.55 351.74,-3354.69 394.9,-3359.82\"/>\n",
       "<polygon fill=\"black\" stroke=\"black\" points=\"394.46,-3363.29 404.81,-3361 395.29,-3356.34 394.46,-3363.29\"/>\n",
       "</g>\n",
       "<!-- caterpillar -->\n",
       "<g id=\"node48\" class=\"node\">\n",
       "<title>caterpillar</title>\n",
       "<ellipse fill=\"none\" stroke=\"black\" cx=\"447.93\" cy=\"-3312\" rx=\"48.28\" ry=\"18\"/>\n",
       "<text text-anchor=\"middle\" x=\"447.93\" y=\"-3306.95\" font-family=\"Times,serif\" font-size=\"14.00\">caterpillar</text>\n",
       "</g>\n",
       "<!-- insects&#45;&gt;caterpillar -->\n",
       "<g id=\"edge59\" class=\"edge\">\n",
       "<title>insects&#45;&gt;caterpillar</title>\n",
       "<path fill=\"none\" stroke=\"black\" d=\"M254.16,-3334.9C290.22,-3330.62 347.38,-3323.83 390.11,-3318.75\"/>\n",
       "<polygon fill=\"black\" stroke=\"black\" points=\"390.45,-3322.23 399.97,-3317.58 389.63,-3315.28 390.45,-3322.23\"/>\n",
       "</g>\n",
       "<!-- cockroach -->\n",
       "<g id=\"node49\" class=\"node\">\n",
       "<title>cockroach</title>\n",
       "<ellipse fill=\"none\" stroke=\"black\" cx=\"447.93\" cy=\"-3258\" rx=\"48.79\" ry=\"18\"/>\n",
       "<text text-anchor=\"middle\" x=\"447.93\" y=\"-3252.95\" font-family=\"Times,serif\" font-size=\"14.00\">cockroach</text>\n",
       "</g>\n",
       "<!-- insects&#45;&gt;cockroach -->\n",
       "<g id=\"edge60\" class=\"edge\">\n",
       "<title>insects&#45;&gt;cockroach</title>\n",
       "<path fill=\"none\" stroke=\"black\" d=\"M248.42,-3328.74C286.94,-3315.02 355.66,-3290.52 401.27,-3274.27\"/>\n",
       "<polygon fill=\"black\" stroke=\"black\" points=\"402.39,-3277.59 410.63,-3270.93 400.04,-3271 402.39,-3277.59\"/>\n",
       "</g>\n",
       "<!-- bear -->\n",
       "<g id=\"node51\" class=\"node\">\n",
       "<title>bear</title>\n",
       "<ellipse fill=\"none\" stroke=\"black\" cx=\"447.93\" cy=\"-3204\" rx=\"27\" ry=\"18\"/>\n",
       "<text text-anchor=\"middle\" x=\"447.93\" y=\"-3198.95\" font-family=\"Times,serif\" font-size=\"14.00\">bear</text>\n",
       "</g>\n",
       "<!-- large carnivores&#45;&gt;bear -->\n",
       "<g id=\"edge61\" class=\"edge\">\n",
       "<title>large carnivores&#45;&gt;bear</title>\n",
       "<path fill=\"none\" stroke=\"black\" d=\"M242.91,-3086.33C273.91,-3108.95 330.92,-3148.93 383.27,-3177 392.72,-3182.07 403.33,-3186.89 413.14,-3191.02\"/>\n",
       "<polygon fill=\"black\" stroke=\"black\" points=\"411.79,-3194.25 422.37,-3194.79 414.44,-3187.77 411.79,-3194.25\"/>\n",
       "</g>\n",
       "<!-- leopard -->\n",
       "<g id=\"node52\" class=\"node\">\n",
       "<title>leopard</title>\n",
       "<ellipse fill=\"none\" stroke=\"black\" cx=\"447.93\" cy=\"-3150\" rx=\"38.56\" ry=\"18\"/>\n",
       "<text text-anchor=\"middle\" x=\"447.93\" y=\"-3144.95\" font-family=\"Times,serif\" font-size=\"14.00\">leopard</text>\n",
       "</g>\n",
       "<!-- large carnivores&#45;&gt;leopard -->\n",
       "<g id=\"edge62\" class=\"edge\">\n",
       "<title>large carnivores&#45;&gt;leopard</title>\n",
       "<path fill=\"none\" stroke=\"black\" d=\"M261.06,-3083.76C302.23,-3098.43 364.99,-3120.8 405.99,-3135.41\"/>\n",
       "<polygon fill=\"black\" stroke=\"black\" points=\"404.66,-3138.65 415.26,-3138.71 407.01,-3132.06 404.66,-3138.65\"/>\n",
       "</g>\n",
       "<!-- lion -->\n",
       "<g id=\"node53\" class=\"node\">\n",
       "<title>lion</title>\n",
       "<ellipse fill=\"none\" stroke=\"black\" cx=\"447.93\" cy=\"-3096\" rx=\"27\" ry=\"18\"/>\n",
       "<text text-anchor=\"middle\" x=\"447.93\" y=\"-3090.95\" font-family=\"Times,serif\" font-size=\"14.00\">lion</text>\n",
       "</g>\n",
       "<!-- large carnivores&#45;&gt;lion -->\n",
       "<g id=\"edge63\" class=\"edge\">\n",
       "<title>large carnivores&#45;&gt;lion</title>\n",
       "<path fill=\"none\" stroke=\"black\" d=\"M282.95,-3076.52C323.72,-3081.36 375.33,-3087.49 409.64,-3091.57\"/>\n",
       "<polygon fill=\"black\" stroke=\"black\" points=\"409.17,-3095.04 419.51,-3092.74 409.99,-3088.09 409.17,-3095.04\"/>\n",
       "</g>\n",
       "<!-- tiger -->\n",
       "<g id=\"node54\" class=\"node\">\n",
       "<title>tiger</title>\n",
       "<ellipse fill=\"none\" stroke=\"black\" cx=\"447.93\" cy=\"-3042\" rx=\"27.81\" ry=\"18\"/>\n",
       "<text text-anchor=\"middle\" x=\"447.93\" y=\"-3036.95\" font-family=\"Times,serif\" font-size=\"14.00\">tiger</text>\n",
       "</g>\n",
       "<!-- large carnivores&#45;&gt;tiger -->\n",
       "<g id=\"edge64\" class=\"edge\">\n",
       "<title>large carnivores&#45;&gt;tiger</title>\n",
       "<path fill=\"none\" stroke=\"black\" d=\"M282.95,-3061.48C323.37,-3056.68 374.43,-3050.61 408.75,-3046.54\"/>\n",
       "<polygon fill=\"black\" stroke=\"black\" points=\"409.12,-3050.02 418.64,-3045.36 408.3,-3043.06 409.12,-3050.02\"/>\n",
       "</g>\n",
       "<!-- wolf -->\n",
       "<g id=\"node55\" class=\"node\">\n",
       "<title>wolf</title>\n",
       "<ellipse fill=\"none\" stroke=\"black\" cx=\"447.93\" cy=\"-2988\" rx=\"27.81\" ry=\"18\"/>\n",
       "<text text-anchor=\"middle\" x=\"447.93\" y=\"-2982.95\" font-family=\"Times,serif\" font-size=\"14.00\">wolf</text>\n",
       "</g>\n",
       "<!-- large carnivores&#45;&gt;wolf -->\n",
       "<g id=\"edge65\" class=\"edge\">\n",
       "<title>large carnivores&#45;&gt;wolf</title>\n",
       "<path fill=\"none\" stroke=\"black\" d=\"M261.06,-3054.24C304.36,-3038.8 371.56,-3014.86 412.19,-3000.38\"/>\n",
       "<polygon fill=\"black\" stroke=\"black\" points=\"413.23,-3003.72 421.47,-2997.07 410.88,-2997.13 413.23,-3003.72\"/>\n",
       "</g>\n",
       "<!-- bridge -->\n",
       "<g id=\"node57\" class=\"node\">\n",
       "<title>bridge</title>\n",
       "<ellipse fill=\"none\" stroke=\"black\" cx=\"447.93\" cy=\"-2934\" rx=\"34.46\" ry=\"18\"/>\n",
       "<text text-anchor=\"middle\" x=\"447.93\" y=\"-2928.95\" font-family=\"Times,serif\" font-size=\"14.00\">bridge</text>\n",
       "</g>\n",
       "<!-- large man&#45;made outdoor things&#45;&gt;bridge -->\n",
       "<g id=\"edge66\" class=\"edge\">\n",
       "<title>large man&#45;made outdoor things&#45;&gt;bridge</title>\n",
       "<path fill=\"none\" stroke=\"black\" d=\"M243.99,-2817.12C275.22,-2839.86 331.52,-2879.25 383.27,-2907 391.3,-2911.31 400.17,-2915.44 408.67,-2919.11\"/>\n",
       "<polygon fill=\"black\" stroke=\"black\" points=\"407.18,-2922.28 417.76,-2922.92 409.89,-2915.83 407.18,-2922.28\"/>\n",
       "</g>\n",
       "<!-- castle -->\n",
       "<g id=\"node58\" class=\"node\">\n",
       "<title>castle</title>\n",
       "<ellipse fill=\"none\" stroke=\"black\" cx=\"447.93\" cy=\"-2880\" rx=\"31.9\" ry=\"18\"/>\n",
       "<text text-anchor=\"middle\" x=\"447.93\" y=\"-2874.95\" font-family=\"Times,serif\" font-size=\"14.00\">castle</text>\n",
       "</g>\n",
       "<!-- large man&#45;made outdoor things&#45;&gt;castle -->\n",
       "<g id=\"edge67\" class=\"edge\">\n",
       "<title>large man&#45;made outdoor things&#45;&gt;castle</title>\n",
       "<path fill=\"none\" stroke=\"black\" d=\"M267.56,-2816.08C309.88,-2831.16 370.72,-2852.84 409.54,-2866.68\"/>\n",
       "<polygon fill=\"black\" stroke=\"black\" points=\"408.33,-2869.96 418.92,-2870.02 410.68,-2863.37 408.33,-2869.96\"/>\n",
       "</g>\n",
       "<!-- house -->\n",
       "<g id=\"node59\" class=\"node\">\n",
       "<title>house</title>\n",
       "<ellipse fill=\"none\" stroke=\"black\" cx=\"447.93\" cy=\"-2826\" rx=\"32.41\" ry=\"18\"/>\n",
       "<text text-anchor=\"middle\" x=\"447.93\" y=\"-2820.95\" font-family=\"Times,serif\" font-size=\"14.00\">house</text>\n",
       "</g>\n",
       "<!-- large man&#45;made outdoor things&#45;&gt;house -->\n",
       "<g id=\"edge68\" class=\"edge\">\n",
       "<title>large man&#45;made outdoor things&#45;&gt;house</title>\n",
       "<path fill=\"none\" stroke=\"black\" d=\"M318.01,-2810.69C348.32,-2814.29 380.11,-2818.06 404.54,-2820.96\"/>\n",
       "<polygon fill=\"black\" stroke=\"black\" points=\"404.05,-2824.43 414.4,-2822.14 404.88,-2817.48 404.05,-2824.43\"/>\n",
       "</g>\n",
       "<!-- road -->\n",
       "<g id=\"node60\" class=\"node\">\n",
       "<title>road</title>\n",
       "<ellipse fill=\"none\" stroke=\"black\" cx=\"447.93\" cy=\"-2772\" rx=\"27.3\" ry=\"18\"/>\n",
       "<text text-anchor=\"middle\" x=\"447.93\" y=\"-2766.95\" font-family=\"Times,serif\" font-size=\"14.00\">road</text>\n",
       "</g>\n",
       "<!-- large man&#45;made outdoor things&#45;&gt;road -->\n",
       "<g id=\"edge69\" class=\"edge\">\n",
       "<title>large man&#45;made outdoor things&#45;&gt;road</title>\n",
       "<path fill=\"none\" stroke=\"black\" d=\"M318.01,-2787.31C350.53,-2783.45 384.75,-2779.39 409.76,-2776.42\"/>\n",
       "<polygon fill=\"black\" stroke=\"black\" points=\"409.88,-2779.93 419.4,-2775.27 409.05,-2772.97 409.88,-2779.93\"/>\n",
       "</g>\n",
       "<!-- skyscraper -->\n",
       "<g id=\"node61\" class=\"node\">\n",
       "<title>skyscraper</title>\n",
       "<ellipse fill=\"none\" stroke=\"black\" cx=\"447.93\" cy=\"-2718\" rx=\"50.33\" ry=\"18\"/>\n",
       "<text text-anchor=\"middle\" x=\"447.93\" y=\"-2712.95\" font-family=\"Times,serif\" font-size=\"14.00\">skyscraper</text>\n",
       "</g>\n",
       "<!-- large man&#45;made outdoor things&#45;&gt;skyscraper -->\n",
       "<g id=\"edge70\" class=\"edge\">\n",
       "<title>large man&#45;made outdoor things&#45;&gt;skyscraper</title>\n",
       "<path fill=\"none\" stroke=\"black\" d=\"M267.56,-2781.92C306.85,-2767.92 362.1,-2748.23 400.87,-2734.41\"/>\n",
       "<polygon fill=\"black\" stroke=\"black\" points=\"401.67,-2737.84 409.91,-2731.19 399.32,-2731.25 401.67,-2737.84\"/>\n",
       "</g>\n",
       "<!-- cloud -->\n",
       "<g id=\"node63\" class=\"node\">\n",
       "<title>cloud</title>\n",
       "<ellipse fill=\"none\" stroke=\"black\" cx=\"447.93\" cy=\"-2664\" rx=\"31.39\" ry=\"18\"/>\n",
       "<text text-anchor=\"middle\" x=\"447.93\" y=\"-2658.95\" font-family=\"Times,serif\" font-size=\"14.00\">cloud</text>\n",
       "</g>\n",
       "<!-- large natural outdoor scenes&#45;&gt;cloud -->\n",
       "<g id=\"edge71\" class=\"edge\">\n",
       "<title>large natural outdoor scenes&#45;&gt;cloud</title>\n",
       "<path fill=\"none\" stroke=\"black\" d=\"M266.73,-2599.78C309.31,-2614.96 371.13,-2636.99 410.16,-2650.9\"/>\n",
       "<polygon fill=\"black\" stroke=\"black\" points=\"408.76,-2654.11 419.35,-2654.17 411.11,-2647.52 408.76,-2654.11\"/>\n",
       "</g>\n",
       "<!-- forest -->\n",
       "<g id=\"node64\" class=\"node\">\n",
       "<title>forest</title>\n",
       "<ellipse fill=\"none\" stroke=\"black\" cx=\"447.93\" cy=\"-2610\" rx=\"31.9\" ry=\"18\"/>\n",
       "<text text-anchor=\"middle\" x=\"447.93\" y=\"-2604.95\" font-family=\"Times,serif\" font-size=\"14.00\">forest</text>\n",
       "</g>\n",
       "<!-- large natural outdoor scenes&#45;&gt;forest -->\n",
       "<g id=\"edge72\" class=\"edge\">\n",
       "<title>large natural outdoor scenes&#45;&gt;forest</title>\n",
       "<path fill=\"none\" stroke=\"black\" d=\"M311.76,-2593.94C344.09,-2597.78 378.84,-2601.91 405,-2605.02\"/>\n",
       "<polygon fill=\"black\" stroke=\"black\" points=\"404.54,-2608.49 414.88,-2606.19 405.36,-2601.54 404.54,-2608.49\"/>\n",
       "</g>\n",
       "<!-- mountain -->\n",
       "<g id=\"node65\" class=\"node\">\n",
       "<title>mountain</title>\n",
       "<ellipse fill=\"none\" stroke=\"black\" cx=\"447.93\" cy=\"-2556\" rx=\"46.23\" ry=\"18\"/>\n",
       "<text text-anchor=\"middle\" x=\"447.93\" y=\"-2550.95\" font-family=\"Times,serif\" font-size=\"14.00\">mountain</text>\n",
       "</g>\n",
       "<!-- large natural outdoor scenes&#45;&gt;mountain -->\n",
       "<g id=\"edge73\" class=\"edge\">\n",
       "<title>large natural outdoor scenes&#45;&gt;mountain</title>\n",
       "<path fill=\"none\" stroke=\"black\" d=\"M311.76,-2572.06C338.93,-2568.83 367.82,-2565.4 391.88,-2562.54\"/>\n",
       "<polygon fill=\"black\" stroke=\"black\" points=\"392.25,-2566.02 401.77,-2561.36 391.43,-2559.07 392.25,-2566.02\"/>\n",
       "</g>\n",
       "<!-- plain -->\n",
       "<g id=\"node66\" class=\"node\">\n",
       "<title>plain</title>\n",
       "<ellipse fill=\"none\" stroke=\"black\" cx=\"447.93\" cy=\"-2502\" rx=\"29.34\" ry=\"18\"/>\n",
       "<text text-anchor=\"middle\" x=\"447.93\" y=\"-2496.95\" font-family=\"Times,serif\" font-size=\"14.00\">plain</text>\n",
       "</g>\n",
       "<!-- large natural outdoor scenes&#45;&gt;plain -->\n",
       "<g id=\"edge74\" class=\"edge\">\n",
       "<title>large natural outdoor scenes&#45;&gt;plain</title>\n",
       "<path fill=\"none\" stroke=\"black\" d=\"M266.73,-2566.22C309.69,-2550.91 372.24,-2528.62 411.21,-2514.73\"/>\n",
       "<polygon fill=\"black\" stroke=\"black\" points=\"412.35,-2518.04 420.59,-2511.38 410,-2511.44 412.35,-2518.04\"/>\n",
       "</g>\n",
       "<!-- sea -->\n",
       "<g id=\"node67\" class=\"node\">\n",
       "<title>sea</title>\n",
       "<ellipse fill=\"none\" stroke=\"black\" cx=\"447.93\" cy=\"-2448\" rx=\"27\" ry=\"18\"/>\n",
       "<text text-anchor=\"middle\" x=\"447.93\" y=\"-2442.95\" font-family=\"Times,serif\" font-size=\"14.00\">sea</text>\n",
       "</g>\n",
       "<!-- large natural outdoor scenes&#45;&gt;sea -->\n",
       "<g id=\"edge75\" class=\"edge\">\n",
       "<title>large natural outdoor scenes&#45;&gt;sea</title>\n",
       "<path fill=\"none\" stroke=\"black\" d=\"M243.72,-2565.08C274.89,-2542.37 331.37,-2502.83 383.27,-2475 392.72,-2469.93 403.33,-2465.11 413.14,-2460.98\"/>\n",
       "<polygon fill=\"black\" stroke=\"black\" points=\"414.44,-2464.23 422.37,-2457.21 411.79,-2457.75 414.44,-2464.23\"/>\n",
       "</g>\n",
       "<!-- camel -->\n",
       "<g id=\"node69\" class=\"node\">\n",
       "<title>camel</title>\n",
       "<ellipse fill=\"none\" stroke=\"black\" cx=\"447.93\" cy=\"-2394\" rx=\"33.44\" ry=\"18\"/>\n",
       "<text text-anchor=\"middle\" x=\"447.93\" y=\"-2388.95\" font-family=\"Times,serif\" font-size=\"14.00\">camel</text>\n",
       "</g>\n",
       "<!-- large omnivores and herbivores&#45;&gt;camel -->\n",
       "<g id=\"edge76\" class=\"edge\">\n",
       "<title>large omnivores and herbivores&#45;&gt;camel</title>\n",
       "<path fill=\"none\" stroke=\"black\" d=\"M267.56,-2330.08C309.52,-2345.03 369.7,-2366.48 408.55,-2380.33\"/>\n",
       "<polygon fill=\"black\" stroke=\"black\" points=\"407.38,-2383.62 417.97,-2383.68 409.73,-2377.03 407.38,-2383.62\"/>\n",
       "</g>\n",
       "<!-- cattle -->\n",
       "<g id=\"node70\" class=\"node\">\n",
       "<title>cattle</title>\n",
       "<ellipse fill=\"none\" stroke=\"black\" cx=\"447.93\" cy=\"-2340\" rx=\"30.88\" ry=\"18\"/>\n",
       "<text text-anchor=\"middle\" x=\"447.93\" y=\"-2334.95\" font-family=\"Times,serif\" font-size=\"14.00\">cattle</text>\n",
       "</g>\n",
       "<!-- large omnivores and herbivores&#45;&gt;cattle -->\n",
       "<g id=\"edge77\" class=\"edge\">\n",
       "<title>large omnivores and herbivores&#45;&gt;cattle</title>\n",
       "<path fill=\"none\" stroke=\"black\" d=\"M318.34,-2324.72C349.12,-2328.38 381.39,-2332.22 405.91,-2335.13\"/>\n",
       "<polygon fill=\"black\" stroke=\"black\" points=\"405.43,-2338.6 415.77,-2336.3 406.26,-2331.64 405.43,-2338.6\"/>\n",
       "</g>\n",
       "<!-- chimpanzee -->\n",
       "<g id=\"node71\" class=\"node\">\n",
       "<title>chimpanzee</title>\n",
       "<ellipse fill=\"none\" stroke=\"black\" cx=\"447.93\" cy=\"-2286\" rx=\"55.45\" ry=\"18\"/>\n",
       "<text text-anchor=\"middle\" x=\"447.93\" y=\"-2280.95\" font-family=\"Times,serif\" font-size=\"14.00\">chimpanzee</text>\n",
       "</g>\n",
       "<!-- large omnivores and herbivores&#45;&gt;chimpanzee -->\n",
       "<g id=\"edge78\" class=\"edge\">\n",
       "<title>large omnivores and herbivores&#45;&gt;chimpanzee</title>\n",
       "<path fill=\"none\" stroke=\"black\" d=\"M318.34,-2301.28C340.57,-2298.63 363.59,-2295.9 383.89,-2293.49\"/>\n",
       "<polygon fill=\"black\" stroke=\"black\" points=\"384.17,-2296.98 393.68,-2292.32 383.34,-2290.03 384.17,-2296.98\"/>\n",
       "</g>\n",
       "<!-- elephant -->\n",
       "<g id=\"node72\" class=\"node\">\n",
       "<title>elephant</title>\n",
       "<ellipse fill=\"none\" stroke=\"black\" cx=\"447.93\" cy=\"-2232\" rx=\"42.14\" ry=\"18\"/>\n",
       "<text text-anchor=\"middle\" x=\"447.93\" y=\"-2226.95\" font-family=\"Times,serif\" font-size=\"14.00\">elephant</text>\n",
       "</g>\n",
       "<!-- large omnivores and herbivores&#45;&gt;elephant -->\n",
       "<g id=\"edge79\" class=\"edge\">\n",
       "<title>large omnivores and herbivores&#45;&gt;elephant</title>\n",
       "<path fill=\"none\" stroke=\"black\" d=\"M267.56,-2295.92C308.04,-2281.5 365.46,-2261.03 404.35,-2247.17\"/>\n",
       "<polygon fill=\"black\" stroke=\"black\" points=\"405.12,-2250.61 413.37,-2243.96 402.77,-2244.02 405.12,-2250.61\"/>\n",
       "</g>\n",
       "<!-- kangaroo -->\n",
       "<g id=\"node73\" class=\"node\">\n",
       "<title>kangaroo</title>\n",
       "<ellipse fill=\"none\" stroke=\"black\" cx=\"447.93\" cy=\"-2178\" rx=\"45.21\" ry=\"18\"/>\n",
       "<text text-anchor=\"middle\" x=\"447.93\" y=\"-2172.95\" font-family=\"Times,serif\" font-size=\"14.00\">kangaroo</text>\n",
       "</g>\n",
       "<!-- large omnivores and herbivores&#45;&gt;kangaroo -->\n",
       "<g id=\"edge80\" class=\"edge\">\n",
       "<title>large omnivores and herbivores&#45;&gt;kangaroo</title>\n",
       "<path fill=\"none\" stroke=\"black\" d=\"M243.99,-2294.88C275.22,-2272.14 331.52,-2232.75 383.27,-2205 389.88,-2201.45 397.06,-2198.03 404.13,-2194.88\"/>\n",
       "<polygon fill=\"black\" stroke=\"black\" points=\"405.15,-2198.25 412.94,-2191.08 402.38,-2191.83 405.15,-2198.25\"/>\n",
       "</g>\n",
       "<!-- fox -->\n",
       "<g id=\"node75\" class=\"node\">\n",
       "<title>fox</title>\n",
       "<ellipse fill=\"none\" stroke=\"black\" cx=\"447.93\" cy=\"-2124\" rx=\"27\" ry=\"18\"/>\n",
       "<text text-anchor=\"middle\" x=\"447.93\" y=\"-2118.95\" font-family=\"Times,serif\" font-size=\"14.00\">fox</text>\n",
       "</g>\n",
       "<!-- medium&#45;sized mammals&#45;&gt;fox -->\n",
       "<g id=\"edge81\" class=\"edge\">\n",
       "<title>medium&#45;sized mammals&#45;&gt;fox</title>\n",
       "<path fill=\"none\" stroke=\"black\" d=\"M265.9,-2059.49C309.5,-2075.02 373.79,-2097.94 412.87,-2111.86\"/>\n",
       "<polygon fill=\"black\" stroke=\"black\" points=\"411.64,-2115.14 422.24,-2115.2 413.99,-2108.55 411.64,-2115.14\"/>\n",
       "</g>\n",
       "<!-- porcupine -->\n",
       "<g id=\"node76\" class=\"node\">\n",
       "<title>porcupine</title>\n",
       "<ellipse fill=\"none\" stroke=\"black\" cx=\"447.93\" cy=\"-2070\" rx=\"47.77\" ry=\"18\"/>\n",
       "<text text-anchor=\"middle\" x=\"447.93\" y=\"-2064.95\" font-family=\"Times,serif\" font-size=\"14.00\">porcupine</text>\n",
       "</g>\n",
       "<!-- medium&#45;sized mammals&#45;&gt;porcupine -->\n",
       "<g id=\"edge82\" class=\"edge\">\n",
       "<title>medium&#45;sized mammals&#45;&gt;porcupine</title>\n",
       "<path fill=\"none\" stroke=\"black\" d=\"M305.56,-2053.21C334.02,-2056.59 364.94,-2060.26 390.59,-2063.31\"/>\n",
       "<polygon fill=\"black\" stroke=\"black\" points=\"390.13,-2066.78 400.47,-2064.48 390.95,-2059.83 390.13,-2066.78\"/>\n",
       "</g>\n",
       "<!-- possum -->\n",
       "<g id=\"node77\" class=\"node\">\n",
       "<title>possum</title>\n",
       "<ellipse fill=\"none\" stroke=\"black\" cx=\"447.93\" cy=\"-2016\" rx=\"39.58\" ry=\"18\"/>\n",
       "<text text-anchor=\"middle\" x=\"447.93\" y=\"-2010.95\" font-family=\"Times,serif\" font-size=\"14.00\">possum</text>\n",
       "</g>\n",
       "<!-- medium&#45;sized mammals&#45;&gt;possum -->\n",
       "<g id=\"edge83\" class=\"edge\">\n",
       "<title>medium&#45;sized mammals&#45;&gt;possum</title>\n",
       "<path fill=\"none\" stroke=\"black\" d=\"M305.56,-2032.79C336.91,-2029.07 371.26,-2024.99 398.25,-2021.78\"/>\n",
       "<polygon fill=\"black\" stroke=\"black\" points=\"398.31,-2025.3 407.83,-2020.64 397.49,-2018.35 398.31,-2025.3\"/>\n",
       "</g>\n",
       "<!-- raccoon -->\n",
       "<g id=\"node78\" class=\"node\">\n",
       "<title>raccoon</title>\n",
       "<ellipse fill=\"none\" stroke=\"black\" cx=\"447.93\" cy=\"-1962\" rx=\"40.09\" ry=\"18\"/>\n",
       "<text text-anchor=\"middle\" x=\"447.93\" y=\"-1956.95\" font-family=\"Times,serif\" font-size=\"14.00\">raccoon</text>\n",
       "</g>\n",
       "<!-- medium&#45;sized mammals&#45;&gt;raccoon -->\n",
       "<g id=\"edge84\" class=\"edge\">\n",
       "<title>medium&#45;sized mammals&#45;&gt;raccoon</title>\n",
       "<path fill=\"none\" stroke=\"black\" d=\"M265.9,-2026.51C306.63,-2012 365.42,-1991.04 404.85,-1977\"/>\n",
       "<polygon fill=\"black\" stroke=\"black\" points=\"406,-1980.3 414.24,-1973.65 403.65,-1973.71 406,-1980.3\"/>\n",
       "</g>\n",
       "<!-- skunk -->\n",
       "<g id=\"node79\" class=\"node\">\n",
       "<title>skunk</title>\n",
       "<ellipse fill=\"none\" stroke=\"black\" cx=\"447.93\" cy=\"-1908\" rx=\"32.93\" ry=\"18\"/>\n",
       "<text text-anchor=\"middle\" x=\"447.93\" y=\"-1902.95\" font-family=\"Times,serif\" font-size=\"14.00\">skunk</text>\n",
       "</g>\n",
       "<!-- medium&#45;sized mammals&#45;&gt;skunk -->\n",
       "<g id=\"edge85\" class=\"edge\">\n",
       "<title>medium&#45;sized mammals&#45;&gt;skunk</title>\n",
       "<path fill=\"none\" stroke=\"black\" d=\"M243.72,-2025.08C274.89,-2002.37 331.37,-1962.83 383.27,-1935 391.62,-1930.52 400.87,-1926.24 409.67,-1922.46\"/>\n",
       "<polygon fill=\"black\" stroke=\"black\" points=\"410.82,-1925.77 418.7,-1918.69 408.12,-1919.31 410.82,-1925.77\"/>\n",
       "</g>\n",
       "<!-- crab -->\n",
       "<g id=\"node81\" class=\"node\">\n",
       "<title>crab</title>\n",
       "<ellipse fill=\"none\" stroke=\"black\" cx=\"447.93\" cy=\"-1854\" rx=\"27\" ry=\"18\"/>\n",
       "<text text-anchor=\"middle\" x=\"447.93\" y=\"-1848.95\" font-family=\"Times,serif\" font-size=\"14.00\">crab</text>\n",
       "</g>\n",
       "<!-- non&#45;insect invertebrates&#45;&gt;crab -->\n",
       "<g id=\"edge86\" class=\"edge\">\n",
       "<title>non&#45;insect invertebrates&#45;&gt;crab</title>\n",
       "<path fill=\"none\" stroke=\"black\" d=\"M265.36,-1789.29C308.89,-1804.81 373.44,-1827.81 412.7,-1841.8\"/>\n",
       "<polygon fill=\"black\" stroke=\"black\" points=\"411.52,-1845.1 422.12,-1845.16 413.87,-1838.5 411.52,-1845.1\"/>\n",
       "</g>\n",
       "<!-- lobster -->\n",
       "<g id=\"node82\" class=\"node\">\n",
       "<title>lobster</title>\n",
       "<ellipse fill=\"none\" stroke=\"black\" cx=\"447.93\" cy=\"-1800\" rx=\"36\" ry=\"18\"/>\n",
       "<text text-anchor=\"middle\" x=\"447.93\" y=\"-1794.95\" font-family=\"Times,serif\" font-size=\"14.00\">lobster</text>\n",
       "</g>\n",
       "<!-- non&#45;insect invertebrates&#45;&gt;lobster -->\n",
       "<g id=\"edge87\" class=\"edge\">\n",
       "<title>non&#45;insect invertebrates&#45;&gt;lobster</title>\n",
       "<path fill=\"none\" stroke=\"black\" d=\"M302.98,-1782.9C336.27,-1786.86 373.31,-1791.26 401.48,-1794.6\"/>\n",
       "<polygon fill=\"black\" stroke=\"black\" points=\"400.74,-1798.04 411.08,-1795.74 401.57,-1791.09 400.74,-1798.04\"/>\n",
       "</g>\n",
       "<!-- snail -->\n",
       "<g id=\"node83\" class=\"node\">\n",
       "<title>snail</title>\n",
       "<ellipse fill=\"none\" stroke=\"black\" cx=\"447.93\" cy=\"-1746\" rx=\"28.32\" ry=\"18\"/>\n",
       "<text text-anchor=\"middle\" x=\"447.93\" y=\"-1740.95\" font-family=\"Times,serif\" font-size=\"14.00\">snail</text>\n",
       "</g>\n",
       "<!-- non&#45;insect invertebrates&#45;&gt;snail -->\n",
       "<g id=\"edge88\" class=\"edge\">\n",
       "<title>non&#45;insect invertebrates&#45;&gt;snail</title>\n",
       "<path fill=\"none\" stroke=\"black\" d=\"M302.98,-1763.1C339.06,-1758.81 379.53,-1754.01 408.35,-1750.58\"/>\n",
       "<polygon fill=\"black\" stroke=\"black\" points=\"408.54,-1754.08 418.06,-1749.43 407.71,-1747.13 408.54,-1754.08\"/>\n",
       "</g>\n",
       "<!-- spider -->\n",
       "<g id=\"node84\" class=\"node\">\n",
       "<title>spider</title>\n",
       "<ellipse fill=\"none\" stroke=\"black\" cx=\"447.93\" cy=\"-1692\" rx=\"33.44\" ry=\"18\"/>\n",
       "<text text-anchor=\"middle\" x=\"447.93\" y=\"-1686.95\" font-family=\"Times,serif\" font-size=\"14.00\">spider</text>\n",
       "</g>\n",
       "<!-- non&#45;insect invertebrates&#45;&gt;spider -->\n",
       "<g id=\"edge89\" class=\"edge\">\n",
       "<title>non&#45;insect invertebrates&#45;&gt;spider</title>\n",
       "<path fill=\"none\" stroke=\"black\" d=\"M265.36,-1756.71C307.45,-1741.7 369.18,-1719.71 408.71,-1705.62\"/>\n",
       "<polygon fill=\"black\" stroke=\"black\" points=\"409.81,-1708.94 418.06,-1702.29 407.46,-1702.35 409.81,-1708.94\"/>\n",
       "</g>\n",
       "<!-- worm -->\n",
       "<g id=\"node85\" class=\"node\">\n",
       "<title>worm</title>\n",
       "<ellipse fill=\"none\" stroke=\"black\" cx=\"447.93\" cy=\"-1638\" rx=\"32.93\" ry=\"18\"/>\n",
       "<text text-anchor=\"middle\" x=\"447.93\" y=\"-1632.95\" font-family=\"Times,serif\" font-size=\"14.00\">worm</text>\n",
       "</g>\n",
       "<!-- non&#45;insect invertebrates&#45;&gt;worm -->\n",
       "<g id=\"edge90\" class=\"edge\">\n",
       "<title>non&#45;insect invertebrates&#45;&gt;worm</title>\n",
       "<path fill=\"none\" stroke=\"black\" d=\"M243.45,-1755.28C274.56,-1732.6 331.22,-1692.91 383.27,-1665 391.62,-1660.52 400.87,-1656.24 409.67,-1652.46\"/>\n",
       "<polygon fill=\"black\" stroke=\"black\" points=\"410.82,-1655.77 418.7,-1648.69 408.12,-1649.31 410.82,-1655.77\"/>\n",
       "</g>\n",
       "<!-- baby -->\n",
       "<g id=\"node87\" class=\"node\">\n",
       "<title>baby</title>\n",
       "<ellipse fill=\"none\" stroke=\"black\" cx=\"447.93\" cy=\"-1584\" rx=\"28.83\" ry=\"18\"/>\n",
       "<text text-anchor=\"middle\" x=\"447.93\" y=\"-1578.95\" font-family=\"Times,serif\" font-size=\"14.00\">baby</text>\n",
       "</g>\n",
       "<!-- people&#45;&gt;baby -->\n",
       "<g id=\"edge91\" class=\"edge\">\n",
       "<title>people&#45;&gt;baby</title>\n",
       "<path fill=\"none\" stroke=\"black\" d=\"M248.42,-1513.26C289.94,-1528.05 366.56,-1555.36 411.49,-1571.37\"/>\n",
       "<polygon fill=\"black\" stroke=\"black\" points=\"410.18,-1574.62 420.77,-1574.68 412.53,-1568.02 410.18,-1574.62\"/>\n",
       "</g>\n",
       "<!-- boy -->\n",
       "<g id=\"node88\" class=\"node\">\n",
       "<title>boy</title>\n",
       "<ellipse fill=\"none\" stroke=\"black\" cx=\"447.93\" cy=\"-1530\" rx=\"27\" ry=\"18\"/>\n",
       "<text text-anchor=\"middle\" x=\"447.93\" y=\"-1524.95\" font-family=\"Times,serif\" font-size=\"14.00\">boy</text>\n",
       "</g>\n",
       "<!-- people&#45;&gt;boy -->\n",
       "<g id=\"edge92\" class=\"edge\">\n",
       "<title>people&#45;&gt;boy</title>\n",
       "<path fill=\"none\" stroke=\"black\" d=\"M253.66,-1507.04C295.55,-1512.02 366.42,-1520.44 409.72,-1525.58\"/>\n",
       "<polygon fill=\"black\" stroke=\"black\" points=\"409.3,-1529.06 419.65,-1526.76 410.13,-1522.1 409.3,-1529.06\"/>\n",
       "</g>\n",
       "<!-- girl -->\n",
       "<g id=\"node89\" class=\"node\">\n",
       "<title>girl</title>\n",
       "<ellipse fill=\"none\" stroke=\"black\" cx=\"447.93\" cy=\"-1476\" rx=\"27\" ry=\"18\"/>\n",
       "<text text-anchor=\"middle\" x=\"447.93\" y=\"-1470.95\" font-family=\"Times,serif\" font-size=\"14.00\">girl</text>\n",
       "</g>\n",
       "<!-- people&#45;&gt;girl -->\n",
       "<g id=\"edge93\" class=\"edge\">\n",
       "<title>people&#45;&gt;girl</title>\n",
       "<path fill=\"none\" stroke=\"black\" d=\"M253.66,-1498.96C295.55,-1493.98 366.42,-1485.56 409.72,-1480.42\"/>\n",
       "<polygon fill=\"black\" stroke=\"black\" points=\"410.13,-1483.9 419.65,-1479.24 409.3,-1476.94 410.13,-1483.9\"/>\n",
       "</g>\n",
       "<!-- man -->\n",
       "<g id=\"node90\" class=\"node\">\n",
       "<title>man</title>\n",
       "<ellipse fill=\"none\" stroke=\"black\" cx=\"447.93\" cy=\"-1422\" rx=\"27.3\" ry=\"18\"/>\n",
       "<text text-anchor=\"middle\" x=\"447.93\" y=\"-1416.95\" font-family=\"Times,serif\" font-size=\"14.00\">man</text>\n",
       "</g>\n",
       "<!-- people&#45;&gt;man -->\n",
       "<g id=\"edge94\" class=\"edge\">\n",
       "<title>people&#45;&gt;man</title>\n",
       "<path fill=\"none\" stroke=\"black\" d=\"M248.42,-1492.74C290.38,-1477.79 368.19,-1450.06 412.91,-1434.12\"/>\n",
       "<polygon fill=\"black\" stroke=\"black\" points=\"413.86,-1437.5 422.1,-1430.85 411.51,-1430.91 413.86,-1437.5\"/>\n",
       "</g>\n",
       "<!-- woman -->\n",
       "<g id=\"node91\" class=\"node\">\n",
       "<title>woman</title>\n",
       "<ellipse fill=\"none\" stroke=\"black\" cx=\"447.93\" cy=\"-1368\" rx=\"38.56\" ry=\"18\"/>\n",
       "<text text-anchor=\"middle\" x=\"447.93\" y=\"-1362.95\" font-family=\"Times,serif\" font-size=\"14.00\">woman</text>\n",
       "</g>\n",
       "<!-- people&#45;&gt;woman -->\n",
       "<g id=\"edge95\" class=\"edge\">\n",
       "<title>people&#45;&gt;woman</title>\n",
       "<path fill=\"none\" stroke=\"black\" d=\"M239.56,-1488.12C269.66,-1466.05 328.97,-1424.12 383.27,-1395 390.69,-1391.02 398.82,-1387.2 406.72,-1383.74\"/>\n",
       "<polygon fill=\"black\" stroke=\"black\" points=\"408.01,-1386.99 415.86,-1379.86 405.28,-1380.55 408.01,-1386.99\"/>\n",
       "</g>\n",
       "<!-- crocodile -->\n",
       "<g id=\"node93\" class=\"node\">\n",
       "<title>crocodile</title>\n",
       "<ellipse fill=\"none\" stroke=\"black\" cx=\"447.93\" cy=\"-1314\" rx=\"45.21\" ry=\"18\"/>\n",
       "<text text-anchor=\"middle\" x=\"447.93\" y=\"-1308.95\" font-family=\"Times,serif\" font-size=\"14.00\">crocodile</text>\n",
       "</g>\n",
       "<!-- reptiles&#45;&gt;crocodile -->\n",
       "<g id=\"edge96\" class=\"edge\">\n",
       "<title>reptiles&#45;&gt;crocodile</title>\n",
       "<path fill=\"none\" stroke=\"black\" d=\"M249.82,-1243.76C288.97,-1257.71 357.59,-1282.16 402.65,-1298.22\"/>\n",
       "<polygon fill=\"black\" stroke=\"black\" points=\"401.27,-1301.44 411.86,-1301.5 403.62,-1294.85 401.27,-1301.44\"/>\n",
       "</g>\n",
       "<!-- dinosaur -->\n",
       "<g id=\"node94\" class=\"node\">\n",
       "<title>dinosaur</title>\n",
       "<ellipse fill=\"none\" stroke=\"black\" cx=\"447.93\" cy=\"-1260\" rx=\"42.65\" ry=\"18\"/>\n",
       "<text text-anchor=\"middle\" x=\"447.93\" y=\"-1254.95\" font-family=\"Times,serif\" font-size=\"14.00\">dinosaur</text>\n",
       "</g>\n",
       "<!-- reptiles&#45;&gt;dinosaur -->\n",
       "<g id=\"edge97\" class=\"edge\">\n",
       "<title>reptiles&#45;&gt;dinosaur</title>\n",
       "<path fill=\"none\" stroke=\"black\" d=\"M255.9,-1237.31C293.56,-1241.78 352.8,-1248.82 395.33,-1253.87\"/>\n",
       "<polygon fill=\"black\" stroke=\"black\" points=\"394.73,-1257.32 405.07,-1255.03 395.55,-1250.37 394.73,-1257.32\"/>\n",
       "</g>\n",
       "<!-- lizard -->\n",
       "<g id=\"node95\" class=\"node\">\n",
       "<title>lizard</title>\n",
       "<ellipse fill=\"none\" stroke=\"black\" cx=\"447.93\" cy=\"-1206\" rx=\"31.9\" ry=\"18\"/>\n",
       "<text text-anchor=\"middle\" x=\"447.93\" y=\"-1200.95\" font-family=\"Times,serif\" font-size=\"14.00\">lizard</text>\n",
       "</g>\n",
       "<!-- reptiles&#45;&gt;lizard -->\n",
       "<g id=\"edge98\" class=\"edge\">\n",
       "<title>reptiles&#45;&gt;lizard</title>\n",
       "<path fill=\"none\" stroke=\"black\" d=\"M255.9,-1228.69C296.46,-1223.87 362.05,-1216.08 404.83,-1211\"/>\n",
       "<polygon fill=\"black\" stroke=\"black\" points=\"405.24,-1214.48 414.75,-1209.82 404.41,-1207.53 405.24,-1214.48\"/>\n",
       "</g>\n",
       "<!-- snake -->\n",
       "<g id=\"node96\" class=\"node\">\n",
       "<title>snake</title>\n",
       "<ellipse fill=\"none\" stroke=\"black\" cx=\"447.93\" cy=\"-1152\" rx=\"31.9\" ry=\"18\"/>\n",
       "<text text-anchor=\"middle\" x=\"447.93\" y=\"-1146.95\" font-family=\"Times,serif\" font-size=\"14.00\">snake</text>\n",
       "</g>\n",
       "<!-- reptiles&#45;&gt;snake -->\n",
       "<g id=\"edge99\" class=\"edge\">\n",
       "<title>reptiles&#45;&gt;snake</title>\n",
       "<path fill=\"none\" stroke=\"black\" d=\"M249.82,-1222.24C291.12,-1207.53 365.2,-1181.13 409.83,-1165.22\"/>\n",
       "<polygon fill=\"black\" stroke=\"black\" points=\"410.84,-1168.58 419.08,-1161.92 408.49,-1161.98 410.84,-1168.58\"/>\n",
       "</g>\n",
       "<!-- turtle -->\n",
       "<g id=\"node97\" class=\"node\">\n",
       "<title>turtle</title>\n",
       "<ellipse fill=\"none\" stroke=\"black\" cx=\"447.93\" cy=\"-1098\" rx=\"30.37\" ry=\"18\"/>\n",
       "<text text-anchor=\"middle\" x=\"447.93\" y=\"-1092.95\" font-family=\"Times,serif\" font-size=\"14.00\">turtle</text>\n",
       "</g>\n",
       "<!-- reptiles&#45;&gt;turtle -->\n",
       "<g id=\"edge100\" class=\"edge\">\n",
       "<title>reptiles&#45;&gt;turtle</title>\n",
       "<path fill=\"none\" stroke=\"black\" d=\"M240.06,-1217.75C270.31,-1195.59 329.27,-1153.96 383.27,-1125 392.09,-1120.27 401.92,-1115.76 411.16,-1111.82\"/>\n",
       "<polygon fill=\"black\" stroke=\"black\" points=\"412.34,-1115.12 420.25,-1108.07 409.67,-1108.65 412.34,-1115.12\"/>\n",
       "</g>\n",
       "<!-- hamster -->\n",
       "<g id=\"node99\" class=\"node\">\n",
       "<title>hamster</title>\n",
       "<ellipse fill=\"none\" stroke=\"black\" cx=\"447.93\" cy=\"-1044\" rx=\"40.6\" ry=\"18\"/>\n",
       "<text text-anchor=\"middle\" x=\"447.93\" y=\"-1038.95\" font-family=\"Times,serif\" font-size=\"14.00\">hamster</text>\n",
       "</g>\n",
       "<!-- small mammals&#45;&gt;hamster -->\n",
       "<g id=\"edge101\" class=\"edge\">\n",
       "<title>small mammals&#45;&gt;hamster</title>\n",
       "<path fill=\"none\" stroke=\"black\" d=\"M261.32,-977.86C302.06,-992.37 363.75,-1014.36 404.68,-1028.94\"/>\n",
       "<polygon fill=\"black\" stroke=\"black\" points=\"403.36,-1032.19 413.95,-1032.25 405.71,-1025.6 403.36,-1032.19\"/>\n",
       "</g>\n",
       "<!-- mouse -->\n",
       "<g id=\"node100\" class=\"node\">\n",
       "<title>mouse</title>\n",
       "<ellipse fill=\"none\" stroke=\"black\" cx=\"447.93\" cy=\"-990\" rx=\"35.49\" ry=\"18\"/>\n",
       "<text text-anchor=\"middle\" x=\"447.93\" y=\"-984.95\" font-family=\"Times,serif\" font-size=\"14.00\">mouse</text>\n",
       "</g>\n",
       "<!-- small mammals&#45;&gt;mouse -->\n",
       "<g id=\"edge102\" class=\"edge\">\n",
       "<title>small mammals&#45;&gt;mouse</title>\n",
       "<path fill=\"none\" stroke=\"black\" d=\"M283.86,-970.63C321.43,-975.09 367.96,-980.62 401.69,-984.63\"/>\n",
       "<polygon fill=\"black\" stroke=\"black\" points=\"401.21,-988.09 411.55,-985.8 402.03,-981.14 401.21,-988.09\"/>\n",
       "</g>\n",
       "<!-- rabbit -->\n",
       "<g id=\"node101\" class=\"node\">\n",
       "<title>rabbit</title>\n",
       "<ellipse fill=\"none\" stroke=\"black\" cx=\"447.93\" cy=\"-936\" rx=\"32.41\" ry=\"18\"/>\n",
       "<text text-anchor=\"middle\" x=\"447.93\" y=\"-930.95\" font-family=\"Times,serif\" font-size=\"14.00\">rabbit</text>\n",
       "</g>\n",
       "<!-- small mammals&#45;&gt;rabbit -->\n",
       "<g id=\"edge103\" class=\"edge\">\n",
       "<title>small mammals&#45;&gt;rabbit</title>\n",
       "<path fill=\"none\" stroke=\"black\" d=\"M283.86,-955.37C322.49,-950.78 370.59,-945.07 404.51,-941.04\"/>\n",
       "<polygon fill=\"black\" stroke=\"black\" points=\"404.85,-944.52 414.37,-939.87 404.03,-937.57 404.85,-944.52\"/>\n",
       "</g>\n",
       "<!-- shrew -->\n",
       "<g id=\"node102\" class=\"node\">\n",
       "<title>shrew</title>\n",
       "<ellipse fill=\"none\" stroke=\"black\" cx=\"447.93\" cy=\"-882\" rx=\"32.93\" ry=\"18\"/>\n",
       "<text text-anchor=\"middle\" x=\"447.93\" y=\"-876.95\" font-family=\"Times,serif\" font-size=\"14.00\">shrew</text>\n",
       "</g>\n",
       "<!-- small mammals&#45;&gt;shrew -->\n",
       "<g id=\"edge104\" class=\"edge\">\n",
       "<title>small mammals&#45;&gt;shrew</title>\n",
       "<path fill=\"none\" stroke=\"black\" d=\"M261.32,-948.14C303.5,-933.11 368.13,-910.08 408.93,-895.54\"/>\n",
       "<polygon fill=\"black\" stroke=\"black\" points=\"410.09,-898.84 418.34,-892.19 407.74,-892.25 410.09,-898.84\"/>\n",
       "</g>\n",
       "<!-- squirrel -->\n",
       "<g id=\"node103\" class=\"node\">\n",
       "<title>squirrel</title>\n",
       "<ellipse fill=\"none\" stroke=\"black\" cx=\"447.93\" cy=\"-828\" rx=\"39.07\" ry=\"18\"/>\n",
       "<text text-anchor=\"middle\" x=\"447.93\" y=\"-822.95\" font-family=\"Times,serif\" font-size=\"14.00\">squirrel</text>\n",
       "</g>\n",
       "<!-- small mammals&#45;&gt;squirrel -->\n",
       "<g id=\"edge105\" class=\"edge\">\n",
       "<title>small mammals&#45;&gt;squirrel</title>\n",
       "<path fill=\"none\" stroke=\"black\" d=\"M242.91,-945.67C273.91,-923.05 330.92,-883.07 383.27,-855 390.61,-851.06 398.66,-847.27 406.48,-843.84\"/>\n",
       "<polygon fill=\"black\" stroke=\"black\" points=\"407.7,-847.13 415.53,-840 404.96,-840.68 407.7,-847.13\"/>\n",
       "</g>\n",
       "<!-- maple_tree -->\n",
       "<g id=\"node105\" class=\"node\">\n",
       "<title>maple_tree</title>\n",
       "<ellipse fill=\"none\" stroke=\"black\" cx=\"447.93\" cy=\"-774\" rx=\"52.38\" ry=\"18\"/>\n",
       "<text text-anchor=\"middle\" x=\"447.93\" y=\"-768.95\" font-family=\"Times,serif\" font-size=\"14.00\">maple_tree</text>\n",
       "</g>\n",
       "<!-- trees&#45;&gt;maple_tree -->\n",
       "<g id=\"edge106\" class=\"edge\">\n",
       "<title>trees&#45;&gt;maple_tree</title>\n",
       "<path fill=\"none\" stroke=\"black\" d=\"M243.96,-701.67C281.04,-714.88 352.39,-740.31 399.84,-757.22\"/>\n",
       "<polygon fill=\"black\" stroke=\"black\" points=\"398.44,-760.44 409.04,-760.5 400.79,-753.84 398.44,-760.44\"/>\n",
       "</g>\n",
       "<!-- oak_tree -->\n",
       "<g id=\"node106\" class=\"node\">\n",
       "<title>oak_tree</title>\n",
       "<ellipse fill=\"none\" stroke=\"black\" cx=\"447.93\" cy=\"-720\" rx=\"42.65\" ry=\"18\"/>\n",
       "<text text-anchor=\"middle\" x=\"447.93\" y=\"-714.95\" font-family=\"Times,serif\" font-size=\"14.00\">oak_tree</text>\n",
       "</g>\n",
       "<!-- trees&#45;&gt;oak_tree -->\n",
       "<g id=\"edge107\" class=\"edge\">\n",
       "<title>trees&#45;&gt;oak_tree</title>\n",
       "<path fill=\"none\" stroke=\"black\" d=\"M246.6,-696.2C283.13,-700.54 349.09,-708.38 395.31,-713.87\"/>\n",
       "<polygon fill=\"black\" stroke=\"black\" points=\"394.76,-717.33 405.1,-715.03 395.58,-710.38 394.76,-717.33\"/>\n",
       "</g>\n",
       "<!-- palm_tree -->\n",
       "<g id=\"node107\" class=\"node\">\n",
       "<title>palm_tree</title>\n",
       "<ellipse fill=\"none\" stroke=\"black\" cx=\"447.93\" cy=\"-666\" rx=\"48.28\" ry=\"18\"/>\n",
       "<text text-anchor=\"middle\" x=\"447.93\" y=\"-660.95\" font-family=\"Times,serif\" font-size=\"14.00\">palm_tree</text>\n",
       "</g>\n",
       "<!-- trees&#45;&gt;palm_tree -->\n",
       "<g id=\"edge108\" class=\"edge\">\n",
       "<title>trees&#45;&gt;palm_tree</title>\n",
       "<path fill=\"none\" stroke=\"black\" d=\"M246.6,-689.8C281.83,-685.61 344.43,-678.18 390.3,-672.73\"/>\n",
       "<polygon fill=\"black\" stroke=\"black\" points=\"390.55,-676.22 400.07,-671.57 389.73,-669.27 390.55,-676.22\"/>\n",
       "</g>\n",
       "<!-- pine_tree -->\n",
       "<g id=\"node108\" class=\"node\">\n",
       "<title>pine_tree</title>\n",
       "<ellipse fill=\"none\" stroke=\"black\" cx=\"447.93\" cy=\"-612\" rx=\"45.21\" ry=\"18\"/>\n",
       "<text text-anchor=\"middle\" x=\"447.93\" y=\"-606.95\" font-family=\"Times,serif\" font-size=\"14.00\">pine_tree</text>\n",
       "</g>\n",
       "<!-- trees&#45;&gt;pine_tree -->\n",
       "<g id=\"edge109\" class=\"edge\">\n",
       "<title>trees&#45;&gt;pine_tree</title>\n",
       "<path fill=\"none\" stroke=\"black\" d=\"M243.96,-684.33C281.78,-670.85 355.27,-644.67 402.66,-627.77\"/>\n",
       "<polygon fill=\"black\" stroke=\"black\" points=\"403.57,-631.17 411.81,-624.51 401.22,-624.57 403.57,-631.17\"/>\n",
       "</g>\n",
       "<!-- willow_tree -->\n",
       "<g id=\"node109\" class=\"node\">\n",
       "<title>willow_tree</title>\n",
       "<ellipse fill=\"none\" stroke=\"black\" cx=\"447.93\" cy=\"-558\" rx=\"54.93\" ry=\"18\"/>\n",
       "<text text-anchor=\"middle\" x=\"447.93\" y=\"-552.95\" font-family=\"Times,serif\" font-size=\"14.00\">willow_tree</text>\n",
       "</g>\n",
       "<!-- trees&#45;&gt;willow_tree -->\n",
       "<g id=\"edge110\" class=\"edge\">\n",
       "<title>trees&#45;&gt;willow_tree</title>\n",
       "<path fill=\"none\" stroke=\"black\" d=\"M237.61,-679.55C267.03,-657.91 327.77,-614.76 383.27,-585 388.96,-581.95 395.07,-578.98 401.18,-576.21\"/>\n",
       "<polygon fill=\"black\" stroke=\"black\" points=\"402.23,-579.57 409.98,-572.34 399.42,-573.16 402.23,-579.57\"/>\n",
       "</g>\n",
       "<!-- bicycle -->\n",
       "<g id=\"node111\" class=\"node\">\n",
       "<title>bicycle</title>\n",
       "<ellipse fill=\"none\" stroke=\"black\" cx=\"447.93\" cy=\"-504\" rx=\"37.53\" ry=\"18\"/>\n",
       "<text text-anchor=\"middle\" x=\"447.93\" y=\"-498.95\" font-family=\"Times,serif\" font-size=\"14.00\">bicycle</text>\n",
       "</g>\n",
       "<!-- vehicles 1&#45;&gt;bicycle -->\n",
       "<g id=\"edge111\" class=\"edge\">\n",
       "<title>vehicles 1&#45;&gt;bicycle</title>\n",
       "<path fill=\"none\" stroke=\"black\" d=\"M254.16,-435.3C295.05,-449.88 363.1,-474.13 406.44,-489.57\"/>\n",
       "<polygon fill=\"black\" stroke=\"black\" points=\"405.14,-492.83 415.74,-492.89 407.49,-486.23 405.14,-492.83\"/>\n",
       "</g>\n",
       "<!-- bus -->\n",
       "<g id=\"node112\" class=\"node\">\n",
       "<title>bus</title>\n",
       "<ellipse fill=\"none\" stroke=\"black\" cx=\"447.93\" cy=\"-450\" rx=\"27\" ry=\"18\"/>\n",
       "<text text-anchor=\"middle\" x=\"447.93\" y=\"-444.95\" font-family=\"Times,serif\" font-size=\"14.00\">bus</text>\n",
       "</g>\n",
       "<!-- vehicles 1&#45;&gt;bus -->\n",
       "<g id=\"edge112\" class=\"edge\">\n",
       "<title>vehicles 1&#45;&gt;bus</title>\n",
       "<path fill=\"none\" stroke=\"black\" d=\"M265.08,-428.4C307.56,-433.44 370.2,-440.89 409.77,-445.59\"/>\n",
       "<polygon fill=\"black\" stroke=\"black\" points=\"409.16,-449.04 419.51,-446.74 409.99,-442.09 409.16,-449.04\"/>\n",
       "</g>\n",
       "<!-- motorcycle -->\n",
       "<g id=\"node113\" class=\"node\">\n",
       "<title>motorcycle</title>\n",
       "<ellipse fill=\"none\" stroke=\"black\" cx=\"447.93\" cy=\"-396\" rx=\"52.89\" ry=\"18\"/>\n",
       "<text text-anchor=\"middle\" x=\"447.93\" y=\"-390.95\" font-family=\"Times,serif\" font-size=\"14.00\">motorcycle</text>\n",
       "</g>\n",
       "<!-- vehicles 1&#45;&gt;motorcycle -->\n",
       "<g id=\"edge113\" class=\"edge\">\n",
       "<title>vehicles 1&#45;&gt;motorcycle</title>\n",
       "<path fill=\"none\" stroke=\"black\" d=\"M265.08,-417.6C299.99,-413.46 348.51,-407.69 386.65,-403.16\"/>\n",
       "<polygon fill=\"black\" stroke=\"black\" points=\"386.6,-406.69 396.11,-402.04 385.77,-399.74 386.6,-406.69\"/>\n",
       "</g>\n",
       "<!-- pickup_truck -->\n",
       "<g id=\"node114\" class=\"node\">\n",
       "<title>pickup_truck</title>\n",
       "<ellipse fill=\"none\" stroke=\"black\" cx=\"447.93\" cy=\"-342\" rx=\"59.54\" ry=\"18\"/>\n",
       "<text text-anchor=\"middle\" x=\"447.93\" y=\"-336.95\" font-family=\"Times,serif\" font-size=\"14.00\">pickup_truck</text>\n",
       "</g>\n",
       "<!-- vehicles 1&#45;&gt;pickup_truck -->\n",
       "<g id=\"edge114\" class=\"edge\">\n",
       "<title>vehicles 1&#45;&gt;pickup_truck</title>\n",
       "<path fill=\"none\" stroke=\"black\" d=\"M254.16,-410.7C292.39,-397.07 354.36,-374.99 397.68,-359.55\"/>\n",
       "<polygon fill=\"black\" stroke=\"black\" points=\"398.6,-362.94 406.84,-356.28 396.25,-356.34 398.6,-362.94\"/>\n",
       "</g>\n",
       "<!-- train -->\n",
       "<g id=\"node115\" class=\"node\">\n",
       "<title>train</title>\n",
       "<ellipse fill=\"none\" stroke=\"black\" cx=\"447.93\" cy=\"-288\" rx=\"27.81\" ry=\"18\"/>\n",
       "<text text-anchor=\"middle\" x=\"447.93\" y=\"-282.95\" font-family=\"Times,serif\" font-size=\"14.00\">train</text>\n",
       "</g>\n",
       "<!-- vehicles 1&#45;&gt;train -->\n",
       "<g id=\"edge115\" class=\"edge\">\n",
       "<title>vehicles 1&#45;&gt;train</title>\n",
       "<path fill=\"none\" stroke=\"black\" d=\"M241.34,-406.82C271.95,-384.43 330.02,-343.55 383.27,-315 392.57,-310.01 402.99,-305.27 412.66,-301.18\"/>\n",
       "<polygon fill=\"black\" stroke=\"black\" points=\"413.84,-304.48 421.77,-297.45 411.19,-298.01 413.84,-304.48\"/>\n",
       "</g>\n",
       "<!-- lawn_mower -->\n",
       "<g id=\"node117\" class=\"node\">\n",
       "<title>lawn_mower</title>\n",
       "<ellipse fill=\"none\" stroke=\"black\" cx=\"447.93\" cy=\"-234\" rx=\"59.54\" ry=\"18\"/>\n",
       "<text text-anchor=\"middle\" x=\"447.93\" y=\"-228.95\" font-family=\"Times,serif\" font-size=\"14.00\">lawn_mower</text>\n",
       "</g>\n",
       "<!-- vehicles 2&#45;&gt;lawn_mower -->\n",
       "<g id=\"edge116\" class=\"edge\">\n",
       "<title>vehicles 2&#45;&gt;lawn_mower</title>\n",
       "<path fill=\"none\" stroke=\"black\" d=\"M254.16,-165.3C292.39,-178.93 354.36,-201.01 397.68,-216.45\"/>\n",
       "<polygon fill=\"black\" stroke=\"black\" points=\"396.25,-219.66 406.84,-219.72 398.6,-213.06 396.25,-219.66\"/>\n",
       "</g>\n",
       "<!-- rocket -->\n",
       "<g id=\"node118\" class=\"node\">\n",
       "<title>rocket</title>\n",
       "<ellipse fill=\"none\" stroke=\"black\" cx=\"447.93\" cy=\"-180\" rx=\"33.95\" ry=\"18\"/>\n",
       "<text text-anchor=\"middle\" x=\"447.93\" y=\"-174.95\" font-family=\"Times,serif\" font-size=\"14.00\">rocket</text>\n",
       "</g>\n",
       "<!-- vehicles 2&#45;&gt;rocket -->\n",
       "<g id=\"edge117\" class=\"edge\">\n",
       "<title>vehicles 2&#45;&gt;rocket</title>\n",
       "<path fill=\"none\" stroke=\"black\" d=\"M265.08,-158.4C305.21,-163.16 363.32,-170.07 402.98,-174.78\"/>\n",
       "<polygon fill=\"black\" stroke=\"black\" points=\"402.56,-178.25 412.91,-175.96 403.39,-171.3 402.56,-178.25\"/>\n",
       "</g>\n",
       "<!-- streetcar -->\n",
       "<g id=\"node119\" class=\"node\">\n",
       "<title>streetcar</title>\n",
       "<ellipse fill=\"none\" stroke=\"black\" cx=\"447.93\" cy=\"-126\" rx=\"42.14\" ry=\"18\"/>\n",
       "<text text-anchor=\"middle\" x=\"447.93\" y=\"-120.95\" font-family=\"Times,serif\" font-size=\"14.00\">streetcar</text>\n",
       "</g>\n",
       "<!-- vehicles 2&#45;&gt;streetcar -->\n",
       "<g id=\"edge118\" class=\"edge\">\n",
       "<title>vehicles 2&#45;&gt;streetcar</title>\n",
       "<path fill=\"none\" stroke=\"black\" d=\"M265.08,-147.6C302.73,-143.13 356.23,-136.77 395.46,-132.11\"/>\n",
       "<polygon fill=\"black\" stroke=\"black\" points=\"395.86,-135.59 405.38,-130.94 395.03,-128.64 395.86,-135.59\"/>\n",
       "</g>\n",
       "<!-- tank -->\n",
       "<g id=\"node120\" class=\"node\">\n",
       "<title>tank</title>\n",
       "<ellipse fill=\"none\" stroke=\"black\" cx=\"447.93\" cy=\"-72\" rx=\"27\" ry=\"18\"/>\n",
       "<text text-anchor=\"middle\" x=\"447.93\" y=\"-66.95\" font-family=\"Times,serif\" font-size=\"14.00\">tank</text>\n",
       "</g>\n",
       "<!-- vehicles 2&#45;&gt;tank -->\n",
       "<g id=\"edge119\" class=\"edge\">\n",
       "<title>vehicles 2&#45;&gt;tank</title>\n",
       "<path fill=\"none\" stroke=\"black\" d=\"M254.16,-140.7C297.13,-125.38 370.08,-99.38 412.85,-84.14\"/>\n",
       "<polygon fill=\"black\" stroke=\"black\" points=\"413.88,-87.49 422.13,-80.84 411.53,-80.9 413.88,-87.49\"/>\n",
       "</g>\n",
       "<!-- tractor -->\n",
       "<g id=\"node121\" class=\"node\">\n",
       "<title>tractor</title>\n",
       "<ellipse fill=\"none\" stroke=\"black\" cx=\"447.93\" cy=\"-18\" rx=\"34.97\" ry=\"18\"/>\n",
       "<text text-anchor=\"middle\" x=\"447.93\" y=\"-12.95\" font-family=\"Times,serif\" font-size=\"14.00\">tractor</text>\n",
       "</g>\n",
       "<!-- vehicles 2&#45;&gt;tractor -->\n",
       "<g id=\"edge120\" class=\"edge\">\n",
       "<title>vehicles 2&#45;&gt;tractor</title>\n",
       "<path fill=\"none\" stroke=\"black\" d=\"M241.34,-136.82C271.95,-114.43 330.02,-73.55 383.27,-45 391.3,-40.69 400.17,-36.56 408.67,-32.89\"/>\n",
       "<polygon fill=\"black\" stroke=\"black\" points=\"409.89,-36.17 417.76,-29.08 407.18,-29.72 409.89,-36.17\"/>\n",
       "</g>\n",
       "</g>\n",
       "</svg>\n"
      ]
     },
     "metadata": {},
     "output_type": "display_data"
    }
   ],
   "source": [
    "from hierarchicalsoftmax import (\n",
    "    SoftmaxNode,\n",
    "    HierarchicalSoftmaxLazyLinear,\n",
    "    HierarchicalSoftmaxLoss,\n",
    ")\n",
    "from hierarchicalsoftmax.metrics import RankAccuracyTorchMetric\n",
    "\n",
    "if len(train_data.classes) == 10:\n",
    "    # CIFAR-10\n",
    "    superclasses = {\n",
    "        \"animals\": [\"bird\", \"cat\", \"deer\", \"dog\", \"frog\", \"horse\"],\n",
    "        \"vehicles\": [\"airplane\", \"automobile\", \"ship\", \"truck\"],\n",
    "    }\n",
    "else:\n",
    "    # CIFAR-100\n",
    "    superclasses = {\n",
    "        \"aquatic mammals\": [\"beaver\", \"dolphin\", \"otter\", \"seal\", \"whale\"],\n",
    "        \"fish\": [\"aquarium_fish\", \"flatfish\", \"ray\", \"shark\", \"trout\"],\n",
    "        \"flowers\": [\"orchid\", \"poppy\", \"rose\", \"sunflower\", \"tulip\"],\n",
    "        \"food containers\": [\"bottle\", \"bowl\", \"can\", \"cup\", \"plate\"],\n",
    "        \"fruit and vegetables\": [\"apple\", \"mushroom\", \"orange\", \"pear\", \"sweet_pepper\"],\n",
    "        \"household electrical devices\": [\"clock\", \"keyboard\", \"lamp\", \"telephone\", \"television\"],\n",
    "        \"household furniture\": [\"bed\", \"chair\", \"couch\", \"table\", \"wardrobe\"],\n",
    "        \"insects\": [\"bee\", \"beetle\", \"butterfly\", \"caterpillar\", \"cockroach\"],\n",
    "        \"large carnivores\": [\"bear\", \"leopard\", \"lion\", \"tiger\", \"wolf\"],\n",
    "        \"large man-made outdoor things\": [\"bridge\", \"castle\", \"house\", \"road\", \"skyscraper\"],\n",
    "        \"large natural outdoor scenes\": [\"cloud\", \"forest\", \"mountain\", \"plain\", \"sea\"],\n",
    "        \"large omnivores and herbivores\": [\"camel\", \"cattle\", \"chimpanzee\", \"elephant\", \"kangaroo\"],\n",
    "        \"medium-sized mammals\": [\"fox\", \"porcupine\", \"possum\", \"raccoon\", \"skunk\"],\n",
    "        \"non-insect invertebrates\": [\"crab\", \"lobster\", \"snail\", \"spider\", \"worm\"],\n",
    "        \"people\": [\"baby\", \"boy\", \"girl\", \"man\", \"woman\"],\n",
    "        \"reptiles\": [\"crocodile\", \"dinosaur\", \"lizard\", \"snake\", \"turtle\"],\n",
    "        \"small mammals\": [\"hamster\", \"mouse\", \"rabbit\", \"shrew\", \"squirrel\"],\n",
    "        \"trees\": [\"maple_tree\", \"oak_tree\", \"palm_tree\", \"pine_tree\", \"willow_tree\"],\n",
    "        \"vehicles 1\": [\"bicycle\", \"bus\", \"motorcycle\", \"pickup_truck\", \"train\"],\n",
    "        \"vehicles 2\": [\"lawn_mower\", \"rocket\", \"streetcar\", \"tank\", \"tractor\"],\n",
    "    }\n",
    "\n",
    "\n",
    "root = SoftmaxNode(\"root\")\n",
    "for superclass, classes in superclasses.items():\n",
    "    superclass_node = SoftmaxNode(superclass, parent=root)\n",
    "    for class_name in classes:\n",
    "        SoftmaxNode(class_name, parent=superclass_node)\n",
    "\n",
    "# Now that the tree is built, we can set the indexes\n",
    "# This makes the tree read-only\n",
    "root.set_indexes()\n",
    "name_to_node_id = {node.name: root.node_to_id[node] for node in root.leaves}\n",
    "index_to_node_id = {\n",
    "    i: name_to_node_id[name] for i, name in enumerate(train_data.classes)\n",
    "}\n",
    "\n",
    "# Render the hierarchy\n",
    "mo.Html(root.svg())"
   ]
  },
  {
   "cell_type": "markdown",
   "id": "iLit",
   "metadata": {
    "marimo": {
     "config": {
      "hide_code": true
     }
    }
   },
   "source": [
    "### Create DataLoaders with hierarchical labels"
   ]
  },
  {
   "cell_type": "code",
   "execution_count": null,
   "id": "ZHCJ",
   "metadata": {},
   "outputs": [],
   "source": [
    "class HierarchicalDataset(torch.utils.data.Dataset):\n",
    "    def __init__(self, dataset, index_to_node_id):\n",
    "        self.dataset = dataset\n",
    "        self.index_to_node_id = index_to_node_id\n",
    "\n",
    "    def __getitem__(self, idx):\n",
    "        image, label = self.dataset[idx]\n",
    "        return image, self.index_to_node_id[label]\n",
    "\n",
    "    def __len__(self):\n",
    "        return len(self.dataset)\n",
    "\n",
    "hierarchical_train_loader = DataLoader(HierarchicalDataset(train_data, index_to_node_id), batch_size=batch_size, shuffle=True)\n",
    "hierarchical_test_loader = DataLoader(HierarchicalDataset(test_data, index_to_node_id), batch_size=batch_size, shuffle=False)"
   ]
  },
  {
   "cell_type": "markdown",
   "id": "ROlb",
   "metadata": {
    "marimo": {
     "config": {
      "hide_code": true
     }
    }
   },
   "source": [
    "### Create the Hierarchical Image Classifier model"
   ]
  },
  {
   "cell_type": "code",
   "execution_count": null,
   "id": "qnkX",
   "metadata": {},
   "outputs": [
    {
     "name": "stderr",
     "output_type": "stream",
     "text": [
      "<span class=\"codehilite\"><div class=\"highlight\"><pre><span></span><span class=\"gt\">Traceback (most recent call last):</span>\n",
      "  File <span class=\"nb\">&quot;/Users/rturnbull/MDAP/hierarchicalsoftmax/.venv/lib/python3.13/site-packages/marimo/_runtime/executor.py&quot;</span>, line <span class=\"m\">122</span>, in <span class=\"n\">execute_cell</span>\n",
      "<span class=\"w\">    </span><span class=\"n\">exec</span><span class=\"p\">(</span><span class=\"n\">cell</span><span class=\"o\">.</span><span class=\"n\">body</span><span class=\"p\">,</span> <span class=\"n\">glbls</span><span class=\"p\">)</span>\n",
      "<span class=\"w\">    </span><span class=\"pm\">~~~~^^^^^^^^^^^^^^^^^^</span>\n",
      "  File <span class=\"nb\">&quot;/var/folders/5x/vn169pd92hb1twlj61zvwpw40000gq/T/marimo_46152/__marimo__cell_qnkX_.py&quot;</span>, line <span class=\"m\">18</span>, in <span class=\"n\">&lt;module&gt;</span>\n",
      "<span class=\"w\">    </span><span class=\"n\">hierarchical_model</span> <span class=\"o\">=</span> <span class=\"n\">HierarchicalImageClassifier</span><span class=\"p\">(</span><span class=\"n\">root</span><span class=\"p\">)</span>\n",
      "  File <span class=\"nb\">&quot;/var/folders/5x/vn169pd92hb1twlj61zvwpw40000gq/T/marimo_46152/__marimo__cell_qnkX_.py&quot;</span>, line <span class=\"m\">6</span>, in <span class=\"n\">__init__</span>\n",
      "<span class=\"w\">    </span><span class=\"n\">model_body</span><span class=\"p\">(),</span>\n",
      "<span class=\"w\">    </span><span class=\"pm\">^^^^^^^^^^</span>\n",
      "<span class=\"gr\">NameError</span>: <span class=\"n\">name &#39;model_body&#39; is not defined</span>\n",
      "</pre></div>\n",
      "</span>"
     ]
    }
   ],
   "source": [
    "class HierarchicalImageClassifier(BasicImageClassifier):\n",
    "    # Just overriding the init - keep the rest of the code\n",
    "    def __init__(self, root: SoftmaxNode):\n",
    "        super().__init__()\n",
    "        self.model = nn.Sequential(\n",
    "            model_body(),\n",
    "            HierarchicalSoftmaxLazyLinear(root=root)\n",
    "        )\n",
    "        self.loss_fn = HierarchicalSoftmaxLoss(root)\n",
    "        self.metrics = [\n",
    "            RankAccuracyTorchMetric(\n",
    "                root,\n",
    "                {1: \"superclass_accuracy\", 2: \"class_accuracy\"},\n",
    "            ),\n",
    "        ]\n",
    "        self.root = root\n",
    "\n",
    "hierarchical_model = HierarchicalImageClassifier(root)        \n",
    "hierarchical_model"
   ]
  },
  {
   "cell_type": "code",
   "execution_count": null,
   "id": "TqIu",
   "metadata": {},
   "outputs": [],
   "source": [
    "hierarchical_logger = CSVLogger(save_dir=\"lightning_logs\", name=\"hierarchical_model\")\n",
    "hierarchical_trainer = L.Trainer(max_epochs=epochs, accelerator=\"auto\", enable_checkpointing=False, logger=hierarchical_logger)\n",
    "hierarchical_trainer.fit(hierarchical_model, train_dataloaders=hierarchical_train_loader, val_dataloaders=hierarchical_test_loader)"
   ]
  },
  {
   "cell_type": "markdown",
   "id": "Vxnm",
   "metadata": {},
   "source": [
    "### Plot the validation results at both the superclass and the class levels"
   ]
  },
  {
   "cell_type": "code",
   "execution_count": null,
   "id": "DnEU",
   "metadata": {},
   "outputs": [],
   "source": [
    "hierarchical_df = pd.read_csv(Path(hierarchical_logger.log_dir) / \"metrics.csv\")\n",
    "hierarchical_df = hierarchical_df.dropna(subset=[\"val_class_accuracy\"])\n",
    "hierarchical_fig = go.Figure()\n",
    "hierarchical_fig.add_trace(go.Scatter(x=hierarchical_df[\"epoch\"], y=hierarchical_df[\"val_superclass_accuracy\"], mode='lines', name='superclass'))\n",
    "hierarchical_fig.add_trace(go.Scatter(x=hierarchical_df[\"epoch\"], y=hierarchical_df[\"val_class_accuracy\"], mode='lines', name='class'))\n",
    "hierarchical_fig.update_layout(\n",
    "    xaxis_title=\"Epochs\",\n",
    "    yaxis_title=\"Accuracy\",\n",
    ")\n",
    "hierarchical_fig"
   ]
  },
  {
   "cell_type": "code",
   "execution_count": null,
   "id": "ulZA",
   "metadata": {},
   "outputs": [],
   "source": []
  }
 ],
 "metadata": {},
 "nbformat": 4,
 "nbformat_minor": 5
}
